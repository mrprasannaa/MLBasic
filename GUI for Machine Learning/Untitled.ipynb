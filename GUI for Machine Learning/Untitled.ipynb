{
 "cells": [
  {
   "cell_type": "code",
   "execution_count": 37,
   "id": "73d4fee7",
   "metadata": {},
   "outputs": [],
   "source": [
    "from tkinter import *\n",
    "from tkinter import messagebox \n",
    "root = Tk()\n",
    "\n",
    "root.title('Prasannaa ML')\n",
    "root.geometry(\"400x300\")\n",
    "root.minsize(200,200)\n",
    "root.maxsize(700,700)\n",
    "root.configure(bg=\"lightyellow\")\n",
    "label = Label(root, text = \"Hello Welcome to Prasannaa ML\", font = (\"Arial\", 20,\"bold\"),width=100,height=5, bg=\"lightyellow\", fg=\"lightblue\")\n",
    "label.pack(side=TOP)\n",
    "my_entry=Entry(root, width=30,font=(\"Arial\"))\n",
    "my_entry.pack()\n",
    "\n",
    "\n",
    "def test():\n",
    "    messagebox.showinfo(\"info\",\"Button clicked\")\n",
    "my_button=Button(text=\"Click Here!!\",command=test)\n",
    "my_button.pack(pady=5)\n",
    "\n",
    "options = [\"option1\",\"option2\",\"option3\"]\n",
    "selected_option = StringVar()\n",
    "selected_option.set(options[0])\n",
    "option_menu=OptionMenu(root, selected_option,*options)\n",
    "option_menu.pack()\n",
    "root.mainloop()\n"
   ]
  },
  {
   "cell_type": "code",
   "execution_count": null,
   "id": "103a2f3c",
   "metadata": {},
   "outputs": [],
   "source": []
  },
  {
   "cell_type": "code",
   "execution_count": null,
   "id": "452da3b5",
   "metadata": {},
   "outputs": [],
   "source": []
  }
 ],
 "metadata": {
  "kernelspec": {
   "display_name": "Python 3",
   "language": "python",
   "name": "python3"
  },
  "language_info": {
   "codemirror_mode": {
    "name": "ipython",
    "version": 3
   },
   "file_extension": ".py",
   "mimetype": "text/x-python",
   "name": "python",
   "nbconvert_exporter": "python",
   "pygments_lexer": "ipython3",
   "version": "3.8.8"
  }
 },
 "nbformat": 4,
 "nbformat_minor": 5
}
