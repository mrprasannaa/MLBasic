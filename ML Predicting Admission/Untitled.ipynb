{
 "cells": [
  {
   "cell_type": "code",
   "execution_count": 107,
   "id": "7105ab87",
   "metadata": {},
   "outputs": [],
   "source": [
    "import pandas as pd;\n",
    "import numpy as np;\n",
    "import matplotlib.pyplot as plt;\n",
    "from sklearn.impute import SimpleImputer\n",
    "\n",
    "from tkinter import *\n",
    "import joblib"
   ]
  },
  {
   "cell_type": "code",
   "execution_count": 108,
   "id": "a7935038",
   "metadata": {
    "scrolled": true
   },
   "outputs": [
    {
     "name": "stdout",
     "output_type": "stream",
     "text": [
      "     GRE_Score  TOEFL_Score  University_Rating  SOP  LOR  CGPA  Research\n",
      "0        337.0        118.0                4.0  4.5  4.5  9.65         1\n",
      "1        324.0        107.0                4.0  4.0  4.5  8.87         1\n",
      "2          NaN        104.0                3.0  3.0  3.5  8.00         1\n",
      "3        322.0        110.0                3.0  3.5  2.5  8.67         1\n",
      "4        314.0        103.0                2.0  2.0  3.0  8.21         0\n",
      "..         ...          ...                ...  ...  ...   ...       ...\n",
      "495      332.0        108.0                5.0  4.5  4.0  9.02         1\n",
      "496      337.0        117.0                5.0  5.0  5.0  9.87         1\n",
      "497      330.0        120.0                5.0  4.5  5.0  9.56         1\n",
      "498      312.0        103.0                4.0  4.0  5.0  8.43         0\n",
      "499      327.0        113.0                4.0  4.5  4.5  9.04         0\n",
      "\n",
      "[500 rows x 7 columns]\n",
      "0      0.92\n",
      "1      0.76\n",
      "2      0.72\n",
      "3      0.80\n",
      "4      0.65\n",
      "       ... \n",
      "495    0.87\n",
      "496    0.96\n",
      "497    0.93\n",
      "498    0.73\n",
      "499    0.84\n",
      "Name: Chance_Admit, Length: 500, dtype: float64\n",
      "<class 'pandas.core.frame.DataFrame'>\n",
      "RangeIndex: 500 entries, 0 to 499\n",
      "Data columns (total 9 columns):\n",
      " #   Column             Non-Null Count  Dtype  \n",
      "---  ------             --------------  -----  \n",
      " 0   Serial_No.         500 non-null    int64  \n",
      " 1   GRE_Score          485 non-null    float64\n",
      " 2   TOEFL_Score        490 non-null    float64\n",
      " 3   University_Rating  485 non-null    float64\n",
      " 4   SOP                500 non-null    float64\n",
      " 5   LOR                500 non-null    float64\n",
      " 6   CGPA               500 non-null    float64\n",
      " 7   Research           500 non-null    int64  \n",
      " 8   Chance_Admit       500 non-null    float64\n",
      "dtypes: float64(7), int64(2)\n",
      "memory usage: 35.3 KB\n"
     ]
    }
   ],
   "source": [
    "\n",
    "dataset = pd.read_csv(r\"C:\\Users\\abi01\\Desktop\\data.csv\")\n",
    "x= dataset.iloc[:,1:-1]\n",
    "y= dataset.iloc[:,-1]\n",
    "print(x)\n",
    "print(y)\n",
    "\n",
    "dataset.info()"
   ]
  },
  {
   "cell_type": "code",
   "execution_count": 109,
   "id": "c6b55f7d",
   "metadata": {},
   "outputs": [
    {
     "name": "stdout",
     "output_type": "stream",
     "text": [
      "      GRE_Score  TOEFL_Score  University_Rating  SOP  LOR  CGPA\n",
      "0    337.000000        118.0                4.0  4.5  4.5  9.65\n",
      "1    324.000000        107.0                4.0  4.0  4.5  8.87\n",
      "2    316.558763        104.0                3.0  3.0  3.5  8.00\n",
      "3    322.000000        110.0                3.0  3.5  2.5  8.67\n",
      "4    314.000000        103.0                2.0  2.0  3.0  8.21\n",
      "..          ...          ...                ...  ...  ...   ...\n",
      "495  332.000000        108.0                5.0  4.5  4.0  9.02\n",
      "496  337.000000        117.0                5.0  5.0  5.0  9.87\n",
      "497  330.000000        120.0                5.0  4.5  5.0  9.56\n",
      "498  312.000000        103.0                4.0  4.0  5.0  8.43\n",
      "499  327.000000        113.0                4.0  4.5  4.5  9.04\n",
      "\n",
      "[500 rows x 6 columns]\n"
     ]
    }
   ],
   "source": [
    "Imputer = SimpleImputer(missing_values=np.nan, strategy='mean')\n",
    "Imputer.fit(x.iloc[:,:-1])\n",
    "x.iloc[:,:-1]=Imputer.transform(x.iloc[:,:-1])\n",
    "print(x.iloc[:,:-1])"
   ]
  },
  {
   "cell_type": "code",
   "execution_count": 110,
   "id": "1a7b4c25",
   "metadata": {},
   "outputs": [
    {
     "name": "stdout",
     "output_type": "stream",
     "text": [
      "[55 39 35 43 28 53 38 31 13  8 15 47 41 25 24 17 29 28 26 25 27 33 57 58\n",
      " 60 57 39  7  9 17 28 37 54 53 57 51 27 21 15 11  9 12 16 50 54 51 49 52\n",
      " 45 41 39 19 41 35 33 27 27  9  1  5 11 10 17 19 15 18 24 20 31 41 57 59\n",
      " 56 47 37 35 37 27  7  9 13 59 55 55 57 39 35 29 27 37 27  3  0  7  1  5\n",
      " 11 49 53 42 34 27 25 20 37 32 50 54 56 31 24 32 25 35 22 29 19  8 10 34\n",
      " 57 57 20 24 20 27 48 41 47 55 59 40 34 42 52 45 39 34 43 41 47 53 55 60\n",
      " 43 44 38 46 59 42 56 57 49 42 43 40 33 28 24 15 20 16 30 31 44 41 28 27\n",
      " 27 28 31 52 49 52 50 48 53 45 35 36 34 34 31 38 35 52 47 56 56 51 53 50\n",
      " 49 57 40 41 36 36 33 35 36 35 60 60 32 20 26 29 27 31 42 45 58 59 57 56\n",
      " 54 48 47 37 39 38 39 34 30 24 26 27 34 45 36 37 32 27 54 51 48 49 33 22\n",
      " 23 28 33 39 26 44 35 34 43 40 37 33 34 56 48 42 39 41 40 53 50 34 33 33\n",
      " 38 34 35 36 46 40 35 17 12 15 21 41 52 33 29 30 31 43 44 43 57 56 55 52\n",
      " 45 42 21 19 19 27 24 31 39 49 53 34 25 29 28 36 25 37 42 43 32 33 39 47\n",
      " 41 30 29 28 17 21 42 43 38 36 35 25 30 44 26 32 43  6 43 36 38 34 36 46\n",
      " 35 57 44 44 38 42 21 22 10 12 10  5 20 25 37 36 27 26 22 36 42 31 33 44\n",
      " 48 56 54 32 40 49 37 20 14 30 35 52 58 42  4  3  0 10 19 34 41 36 45 25\n",
      " 59 59  9 16 12 39 27 34 47 40 52 45 47 54 30 58 26 29 41 54 25 15 24 21\n",
      " 20 24 17 19 22 12 35 39 28 15 23 21  5 40 36 57 54 55 34 34 32 58 37 36\n",
      " 49 34 27 18 21 24 30 29 16 42 55 50 55 54 56 47 43 42 45 52 56 36 34 22\n",
      " 14  2 32 52 40 31 25 20  8 17 34 41 44 49 50 27 53 30 30 22 25 28 34 42\n",
      " 43 41 46 34 36 33 31 42 39 28 30 17 16 25 31 50 59 56 36 47]\n"
     ]
    }
   ],
   "source": [
    "from sklearn.preprocessing import LabelEncoder\n",
    "le = LabelEncoder()\n",
    "y=le.fit_transform(y)\n",
    "print(y)"
   ]
  },
  {
   "cell_type": "code",
   "execution_count": 111,
   "id": "e27417b7",
   "metadata": {},
   "outputs": [
    {
     "name": "stdout",
     "output_type": "stream",
     "text": [
      "     GRE_Score  TOEFL_Score  University_Rating  SOP  LOR  CGPA  Research\n",
      "238      310.0        104.0           3.000000  2.0  3.5  8.37         0\n",
      "438      318.0        110.0           3.121649  2.5  3.5  8.54         1\n",
      "475      300.0        101.0           3.000000  3.5  2.5  7.88         0\n",
      "58       300.0         99.0           1.000000  3.0  2.0  6.80         1\n",
      "380      322.0        104.0           3.000000  3.5  4.0  8.84         1\n",
      "..         ...          ...                ...  ...  ...   ...       ...\n",
      "255      307.0        110.0           4.000000  4.0  4.5  8.37         0\n",
      "72       321.0        111.0           5.000000  5.0  5.0  9.45         1\n",
      "396      325.0        107.0           3.000000  3.0  3.5  9.11         1\n",
      "235      326.0        111.0           5.000000  4.5  4.0  9.23         1\n",
      "37       300.0        105.0           1.000000  1.0  2.0  7.80         0\n",
      "\n",
      "[400 rows x 7 columns]\n",
      "[33 30 22  1 41  7 34 34 29 27 10 47 57 39 39 34 21 26  9 40 49 12 15 55\n",
      " 34 21 59 42 13 49 14  7 56 59 58 44 52 34  3 24 41 50 32 19 32 36 36  5\n",
      " 20 58 25 10 53 11 48 40 33 49 53 19 26 36  0 43 34 34 41 55 32 46  7 37\n",
      " 12 47 52 52 16 41 47  3 35  5 19 27 35 21  5 57 41  9 30 48 47 29 28 40\n",
      " 47 36 36 21 42 47 22 27 27 25 40 20 50 35 50 24 54 44 24 43 32 19 25  8\n",
      " 25 29 32 55 25 32 41 26 46 34 54 57 38 12 42 15 56 24 22 31 27 35 26 56\n",
      " 45 50 44 15 34 53 10 54 16 20 54 41 24 25 43 48 22 33 45 34 34 34 54 35\n",
      " 27 34 36 43 33 24 17 54 35 42 45 56 28  9 27 57 13 54 42 18 19 39  9 52\n",
      " 52 27 30 36 17 45 30 22 53 51 19 58 43 54 28 51 36 45 37 45 39 33 43 33\n",
      " 35 34 60 35 20 52 34 19 58 56 58  8 37 48 27 31 56 14 37 34 49 22 29 10\n",
      " 10 31 49 33 53 32 40 33 36 31 24 20 39 59 26 44 32 11  1 57 47 59 60 49\n",
      " 57 20 15 40 11 42 23  9 29 25 44 27 30 27 16 38 35 36 27 33 25 42 29 35\n",
      " 41 33 56  2 53 34 30 36 38 57 36 28 53 37 20 39 34 29 22 60 23 35 45 39\n",
      " 28 55 50 40 42 36 30 48 41 34 42 37 42 44 34 26 20 57 36 15 17 49 52 31\n",
      " 35 32 39 37 50 31 43 52 41 15 16 31 28 57 36 29 17 54 38 31 17 59 39 30\n",
      " 57 21 43 31 31 53 35 27 28 56 31 39 30 12 33 34 45 44 41 31 48 52 35 43\n",
      " 27 49 59 40 55 43 43 46 42 60 40 42 56 47 51 21]\n",
      "     GRE_Score  TOEFL_Score  University_Rating  SOP  LOR  CGPA  Research\n",
      "304      313.0        106.0           2.000000  2.5  2.0  8.43         0\n",
      "340      312.0        107.0           3.000000  3.0  3.0  8.46         1\n",
      "47       339.0        119.0           5.000000  4.5  4.0  9.70         0\n",
      "67       316.0        107.0           2.000000  3.5  3.5  8.64         1\n",
      "479      325.0        110.0           4.000000  4.5  4.0  8.96         1\n",
      "..         ...          ...                ...  ...  ...   ...       ...\n",
      "11       327.0        111.0           4.000000  4.0  4.5  9.00         1\n",
      "192      322.0        114.0           5.000000  4.5  4.0  8.94         1\n",
      "92       298.0         98.0           2.000000  4.0  3.0  8.03         0\n",
      "221      316.0        110.0           3.121649  3.5  4.0  8.56         0\n",
      "110      305.0        108.0           5.000000  3.0  3.0  8.48         0\n",
      "\n",
      "[100 rows x 7 columns]\n",
      "[25 38 52 20 42 33 39 37 40 27 35 27 34 24 37 51 27 42 55 38 27 41 47 16\n",
      " 18  4 57 21 52 35 36 42 27 55 12 47 33 28 29 56 26 37 41 59 43  6 31 28\n",
      " 24 25 44 57 53 21 42 17 36 25 28 37  5 39 41 49 59 28 39 44 57 30 25 30\n",
      " 46 17 54 20 50 55 37 45 50  8 56 39 41 34 55 56 17 25 28 43 15 38 36 47\n",
      " 49  0 38 24]\n"
     ]
    }
   ],
   "source": [
    "from sklearn.model_selection import train_test_split\n",
    "x_train,x_test,y_train,y_test = train_test_split(x,y,test_size=0.2, random_state = 1)\n",
    "print(x_train)\n",
    "print(y_train)\n",
    "print(x_test)\n",
    "print(y_test)"
   ]
  },
  {
   "cell_type": "code",
   "execution_count": 112,
   "id": "a670d937",
   "metadata": {},
   "outputs": [
    {
     "data": {
      "text/plain": [
       "LinearRegression()"
      ]
     },
     "execution_count": 112,
     "metadata": {},
     "output_type": "execute_result"
    }
   ],
   "source": [
    "from sklearn.linear_model import LinearRegression\n",
    "regresser = LinearRegression()\n",
    "regresser.fit(x_train,y_train)"
   ]
  },
  {
   "cell_type": "code",
   "execution_count": 113,
   "id": "565aad9a",
   "metadata": {},
   "outputs": [
    {
     "name": "stdout",
     "output_type": "stream",
     "text": [
      "[28.34118593 33.16150429 57.13242129 36.37097764 44.81392976 31.59338351\n",
      " 37.64728481 34.42553468 41.95368849 28.75510723 29.7309688  19.42953747\n",
      " 41.09547438 42.36992972 40.27779881 48.81990285 25.93333816 39.28707128\n",
      " 52.71547116 29.99756871 26.20986647 42.65360079 47.32987373 22.17594879\n",
      " 41.65251445 19.60487109 58.17843666 27.35593924 49.10257496 34.28083988\n",
      " 26.30713441 44.7006656  22.76882084 54.10659169 14.68825157 44.92804518\n",
      " 31.67096257 26.17558497 28.91705712 54.20342515 19.52673635 29.25151596\n",
      " 40.2176456  60.14772515 40.17831979 15.37811558 29.75193356 25.98657708\n",
      " 28.24577634 29.09301661 46.40621096 54.87986699 50.85516413 24.99398287\n",
      " 39.91317002 27.54870719 37.96270817 23.24276712 28.99924001 32.64019449\n",
      "  6.72859827 34.69802033 38.4307359  47.99980537 61.05431495 24.57901884\n",
      " 36.22048672 40.26964569 57.24413744 33.09554782 23.2561964  28.31343749\n",
      " 45.45981622 11.82636494 55.45229631 22.66097029 46.64385267 57.20408703\n",
      " 34.22091294 39.38467938 46.59020301 13.78016973 54.53349687 42.29472488\n",
      " 42.74937566 31.65628243 50.74177923 51.58678517 19.41911662 23.01415604\n",
      " 25.83120889 41.31913174 19.95172045 33.70862937 43.11090212 46.44166949\n",
      " 45.81821376 20.55037178 35.44536472 31.36068082]\n"
     ]
    }
   ],
   "source": [
    "y_predict=regresser.predict(x_test)\n",
    "print(y_predict)\n"
   ]
  },
  {
   "cell_type": "code",
   "execution_count": 114,
   "id": "9b8871dc",
   "metadata": {},
   "outputs": [
    {
     "name": "stdout",
     "output_type": "stream",
     "text": [
      "     GRE_Score  TOEFL_Score  University_Rating  SOP  LOR  CGPA  Research\n",
      "304      313.0        106.0           2.000000  2.5  2.0  8.43         0\n",
      "340      312.0        107.0           3.000000  3.0  3.0  8.46         1\n",
      "47       339.0        119.0           5.000000  4.5  4.0  9.70         0\n",
      "67       316.0        107.0           2.000000  3.5  3.5  8.64         1\n",
      "479      325.0        110.0           4.000000  4.5  4.0  8.96         1\n",
      "..         ...          ...                ...  ...  ...   ...       ...\n",
      "11       327.0        111.0           4.000000  4.0  4.5  9.00         1\n",
      "192      322.0        114.0           5.000000  4.5  4.0  8.94         1\n",
      "92       298.0         98.0           2.000000  4.0  3.0  8.03         0\n",
      "221      316.0        110.0           3.121649  3.5  4.0  8.56         0\n",
      "110      305.0        108.0           5.000000  3.0  3.0  8.48         0\n",
      "\n",
      "[100 rows x 7 columns]\n",
      "[25 38 52 20 42 33 39 37 40 27 35 27 34 24 37 51 27 42 55 38 27 41 47 16\n",
      " 18  4 57 21 52 35 36 42 27 55 12 47 33 28 29 56 26 37 41 59 43  6 31 28\n",
      " 24 25 44 57 53 21 42 17 36 25 28 37  5 39 41 49 59 28 39 44 57 30 25 30\n",
      " 46 17 54 20 50 55 37 45 50  8 56 39 41 34 55 56 17 25 28 43 15 38 36 47\n",
      " 49  0 38 24]\n"
     ]
    }
   ],
   "source": [
    "print(x_test)\n",
    "print(y_test)"
   ]
  },
  {
   "cell_type": "code",
   "execution_count": 115,
   "id": "d57a0759",
   "metadata": {},
   "outputs": [
    {
     "data": {
      "text/plain": [
       "['admission_prediction']"
      ]
     },
     "execution_count": 115,
     "metadata": {},
     "output_type": "execute_result"
    }
   ],
   "source": [
    "joblib.dump(regresser,\"admission_prediction\")"
   ]
  },
  {
   "cell_type": "code",
   "execution_count": 116,
   "id": "4952891f",
   "metadata": {},
   "outputs": [],
   "source": [
    "root = Tk()\n",
    "\n",
    "root.title('Prasannaa ML')\n",
    "root.configure(bg=\"lightyellow\")\n",
    "label = Label(root, text = \"Hello Welcome to Prasannaa ML\", font = (\"Arial\", 20,\"bold\"),width=100,height=5, bg=\"lightyellow\", fg=\"lightblue\")\n",
    "label.pack()\n",
    "\n",
    "SNO = Label(root, text = \"SNO\", font = (\"Arial\", 10,\"bold\"),width=10, bg=\"lightyellow\", fg=\"lightblue\")\n",
    "SNO.pack(pady=2)\n",
    "my_entry_SNO=Entry(root, width=30,font=(\"Arial\"))\n",
    "my_entry_SNO.pack()\n",
    "\n",
    "GRE = Label(root, text = \"GRE\", font = (\"Arial\", 10,\"bold\"),width=10, bg=\"lightyellow\", fg=\"lightblue\")\n",
    "GRE.pack(pady=2)\n",
    "my_entry_GRE=Entry(root, width=30,font=(\"Arial\"))\n",
    "my_entry_GRE.pack()\n",
    "\n",
    "TOEFL = Label(root, text = \"TOEFL\", font = (\"Arial\", 10,\"bold\"),width=10, bg=\"lightyellow\", fg=\"lightblue\")\n",
    "TOEFL.pack(pady=2)\n",
    "my_entry_TOEFL=Entry(root, width=30,font=(\"Arial\"))\n",
    "my_entry_TOEFL.pack()\n",
    "\n",
    "University_Rank = Label(root, text = \"UniversityRank\", font = (\"Arial\", 10,\"bold\"),width=10, bg=\"lightyellow\", fg=\"lightblue\")\n",
    "University_Rank.pack(pady=2)\n",
    "my_entry_UR=Entry(root, width=30,font=(\"Arial\"))\n",
    "my_entry_UR.pack()\n",
    "\n",
    "SOP = Label(root, text = \"SOP\", font = (\"Arial\", 10,\"bold\"),width=10, bg=\"lightyellow\", fg=\"lightblue\")\n",
    "SOP.pack(pady=2)\n",
    "my_entry_SOP=Entry(root, width=30,font=(\"Arial\"))\n",
    "my_entry_SOP.pack()\n",
    "\n",
    "LOR = Label(root, text = \"LOR\", font = (\"Arial\", 10,\"bold\"),width=10, bg=\"lightyellow\", fg=\"lightblue\")\n",
    "LOR.pack(pady=2)\n",
    "my_entry_LOR=Entry(root, width=30,font=(\"Arial\"))\n",
    "my_entry_LOR.pack()\n",
    "\n",
    "CGPA = Label(root, text = \"CGPA\", font = (\"Arial\", 10,\"bold\"),width=10, bg=\"lightyellow\", fg=\"lightblue\")\n",
    "CGPA.pack(pady=2)\n",
    "my_entry_CGPA=Entry(root, width=30,font=(\"Arial\"))\n",
    "my_entry_CGPA.pack()\n",
    "\n",
    "RESEARCH = Label(root, text = \"RESEARCH\", font = (\"Arial\", 10,\"bold\"),width=10, bg=\"lightyellow\", fg=\"lightblue\")\n",
    "RESEARCH.pack(pady=2)\n",
    "my_entry_RESEARCH=Entry(root, width=30,font=(\"Arial\"))\n",
    "my_entry_RESEARCH.pack()\n",
    "\n",
    "\n",
    "Admission_Label = Label(root, text = \"\", font = (\"Arial\", 10,\"bold\"),width=10, bg=\"lightyellow\", fg=\"lightblue\")\n",
    "Admission_Label.pack(pady=2)\n",
    "\n",
    "model = joblib.load(\"admission_prediction\")\n",
    "def predict_admission():\n",
    "    GRE_Score=float(my_entry_GRE.get())\n",
    "    TOEFL_Score=float(my_entry_TOEFL.get())\n",
    "    University_Rating=float(my_entry_UR.get())\n",
    "    SOP=float(my_entry_SOP.get())\n",
    "    LOR=float(my_entry_LOR.get())\n",
    "    CGPA=float(my_entry_CGPA.get())\n",
    "    RESEARCH=float(my_entry_RESEARCH.get())\n",
    "\n",
    "    prediction = model.predict([[GRE_Score,TOEFL_Score,University_Rating,SOP,LOR,CGPA,RESEARCH]])\n",
    "\n",
    "    Admission_Label.config(text=\"Admission Prediction:\"+str(prediction[0]))\n",
    "    \n",
    "my_button=Button(text=\"Click Here!!\",command=predict_admission)\n",
    "my_button.pack(pady=5)\n",
    "    \n",
    "root.mainloop()\n",
    "\n"
   ]
  },
  {
   "cell_type": "code",
   "execution_count": null,
   "id": "44c171ff",
   "metadata": {},
   "outputs": [],
   "source": []
  },
  {
   "cell_type": "code",
   "execution_count": null,
   "id": "5cf019d0",
   "metadata": {},
   "outputs": [],
   "source": []
  },
  {
   "cell_type": "code",
   "execution_count": null,
   "id": "892d77d9",
   "metadata": {},
   "outputs": [],
   "source": []
  },
  {
   "cell_type": "code",
   "execution_count": null,
   "id": "46659a92",
   "metadata": {},
   "outputs": [],
   "source": []
  },
  {
   "cell_type": "code",
   "execution_count": null,
   "id": "7e953290",
   "metadata": {},
   "outputs": [],
   "source": []
  },
  {
   "cell_type": "code",
   "execution_count": null,
   "id": "9e540d07",
   "metadata": {},
   "outputs": [],
   "source": []
  },
  {
   "cell_type": "code",
   "execution_count": null,
   "id": "2b93ec44",
   "metadata": {},
   "outputs": [],
   "source": []
  },
  {
   "cell_type": "code",
   "execution_count": null,
   "id": "f2cf5349",
   "metadata": {},
   "outputs": [],
   "source": []
  },
  {
   "cell_type": "code",
   "execution_count": null,
   "id": "48c166b9",
   "metadata": {},
   "outputs": [],
   "source": []
  },
  {
   "cell_type": "code",
   "execution_count": null,
   "id": "c0eb3b1f",
   "metadata": {},
   "outputs": [],
   "source": []
  },
  {
   "cell_type": "code",
   "execution_count": null,
   "id": "ada4317b",
   "metadata": {},
   "outputs": [],
   "source": []
  },
  {
   "cell_type": "code",
   "execution_count": null,
   "id": "98911476",
   "metadata": {},
   "outputs": [],
   "source": []
  },
  {
   "cell_type": "code",
   "execution_count": null,
   "id": "101c5d0e",
   "metadata": {},
   "outputs": [],
   "source": []
  },
  {
   "cell_type": "code",
   "execution_count": null,
   "id": "5c98e19b",
   "metadata": {},
   "outputs": [],
   "source": []
  },
  {
   "cell_type": "code",
   "execution_count": null,
   "id": "7f76f6c9",
   "metadata": {},
   "outputs": [],
   "source": []
  },
  {
   "cell_type": "code",
   "execution_count": null,
   "id": "1521e4e4",
   "metadata": {},
   "outputs": [],
   "source": []
  },
  {
   "cell_type": "code",
   "execution_count": null,
   "id": "2eb2846a",
   "metadata": {},
   "outputs": [],
   "source": []
  },
  {
   "cell_type": "code",
   "execution_count": null,
   "id": "66c6d09b",
   "metadata": {},
   "outputs": [],
   "source": []
  }
 ],
 "metadata": {
  "kernelspec": {
   "display_name": "Python 3",
   "language": "python",
   "name": "python3"
  },
  "language_info": {
   "codemirror_mode": {
    "name": "ipython",
    "version": 3
   },
   "file_extension": ".py",
   "mimetype": "text/x-python",
   "name": "python",
   "nbconvert_exporter": "python",
   "pygments_lexer": "ipython3",
   "version": "3.8.8"
  }
 },
 "nbformat": 4,
 "nbformat_minor": 5
}
