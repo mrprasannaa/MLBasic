{
 "cells": [
  {
   "cell_type": "markdown",
   "metadata": {
    "id": "K1G1ucXFgLAs"
   },
   "source": [
    "# Linear Regression\n",
    "- ML Algorithm based on supervised learning that is commonly used for predictive analysis.\n",
    "- Used to determine the linear relationship between the dependent variable (y) and independent variable (x). This linear relationship is represented by a straight line called regression line / best-fit line. This line is the pattern on which the machine has learned from the data.\n",
    "- Used for predicting the output of quantitative type (continuous value) eg. Age, salary, price etc.\n",
    "\n",
    "##### Simple Linear Regression: \n",
    "- one X variable and one Y variable \n",
    "- Formula: **y = mx + c** \n",
    "        y is the response or target variable   \n",
    "        x is the predictor variable\n",
    "        m is the coefficient of x\n",
    "        c is the intercept\n",
    " \n",
    "\n",
    "##### Multiple Linear Regression: \n",
    "- one Y variable and two or more X variable \n",
    "- Formula: **y = m1x1 + m2x2.....+ mnxn** \n",
    "        y is the target variable\n",
    "        x1, x2, x3..xn represents the features.\n",
    "        m1, m2, m3....mn are the coefficients of each feature ie., x1, x2, x3.. respectively.\n",
    "        \n",
    "       \n",
    "## Cost Function\n",
    "* It is a function that signifies how much the predicted values are deviated from the actual values.<br>\n",
    "* MSE is the most commonly used cost function for Linear Regression. MSE is average of the sum of squared difference between the predicted and actual value. Output of MSE is the single number representing the cost.\n",
    "\n",
    "\n",
    "# Gradient Descent \n",
    "* It is an optimization algorithm used for minimizing the cost function. It's based on a convex function and tweaks its parameters iteratively to minimize a given function to its global minimum. It helps to get optimal value for the slope m which provides the best fit line.<br>\n",
    "* Our aim is to minimize the error between the predicted values and the actual values.<br>\n",
    "\n",
    "\n",
    "* The gradient descent curve has the cost function and slope values. This algorithm intially starts with a randomnly selected m value and from there it uses calculus to iteratively adjust the values of m and calculate cost function for all the slopes. So it takes all the error value and search for minimum error.  Once it finds the m that has minimum error, it creates a best fit line using that m.\n",
    "\n",
    "* For the randomly selected m, it might not result in global minimum. So we need to move down and for that we use convergence theorem\n",
    "\n",
    "* Learning rate should be a small value ranging between 0.1 to 0.0000001.\n",
    "\n",
    "* To find the derivative of slope, we need to draw a tangent from that point. \n",
    "\n",
    "* If the right-hand side of the tangent is facing towards down then its a negative slope. So the derivative of that slope will also be negative. Hence we need to increase the m value to move towards the global minima.\n",
    "\n",
    "* If the right-hand side of the tangent faces towards the left, then its a positive slope. So the derivative of the slope will be positive. We need to reduce the m value so it will move towards the global minima. \n",
    "\n",
    "### $R^2$ statistics\n",
    "\n",
    "The R-squared statistic provides a measure of fit. It takes the form of a proportion—the proportion of variance\n",
    "explained—and so it always takes on a value between 0 and 1. \n",
    "In simple words, it represents how much of our data is being explained by our model. \n",
    "For example,  $R^2$ statistic = 0.75, it says that our model fits 75 % of the total data set.\n",
    "Similarly, if it is 0, it means none of the data points is being explained and a value of 1 represents 100% data explanation.\n",
    "Mathematically $R^2$ statistic is calculated as :\n",
    "<img src=\"RSquared.PNG\" width=\"300\">\n",
    "                                              \n",
    "Where RSS:  is  the Residual Sum of squares and is given as :\n",
    "<img src=\"RSS.PNG\">\n",
    "                                                                \n",
    "RSS is the residual(error) term we have been talking about so far.\n",
    "And, TSS:  is  the Total sum of squares and given as :\n",
    "<img src=\"TSS.PNG\">\n",
    "                                                             \n",
    "TSS is calculated when we consider the line passing through the mean value of y, to be the best fit line.\n",
    "Just like RSS, we calculate the error term when the best fit line is the line passing through the mean value of y and we get the value of TSS.\n",
    "    <img src=\"TSS2.PNG\">\n",
    "    \n",
    "The closer the value of R2 is to 1 the better the model fits our data. If R2 comes below 0(which is a possibility) that means the model is so bad that it is performing even worse than the average best fit line.\n"
   ]
  },
  {
   "cell_type": "markdown",
   "metadata": {
    "id": "QJWgGWYBgLAy"
   },
   "source": [
    "### Adjusted $R^2$ statistics\n",
    "As we increase the number of independent variables in our equation, the R2 increases as well. But that doesn’t mean that the new independent variables have any correlation with the output variable. In other words, even with the addition of new features in our model, it is not necessary that our model will yield better results but R2 value will increase. To rectify this problem, we use Adjusted R2 value which penalises excessive use of such features which do not correlate with the output data.\n",
    "Let’s understand this with an example:\n",
    " \n",
    "<img src=\"adjr.PNG\" width=\"300\">\n",
    "We can see that R2 always increases with an increase in the number of independent variables.\n",
    "Thus, it doesn’t give a better picture and so we need Adjusted R2 value to keep this in check.\n",
    "Mathematically, it is calculated as:\n",
    "                                        <img src=\"adjr2.PNG\">\n",
    "In the equation above, when p = 0, we can see that adjusted R2 becomes equal to R2.\n",
    "Thus, adjusted R2  will always be less than or equal to R2, and it penalises the excess of independent variables which do not affect the dependent variable.\n"
   ]
  },
  {
   "cell_type": "markdown",
   "metadata": {
    "id": "W9GNmS4ngLA0"
   },
   "source": [
    "## Business Case:-Prediciting the chances of admission with given features"
   ]
  },
  {
   "cell_type": "code",
   "execution_count": 1,
   "metadata": {
    "executionInfo": {
     "elapsed": 1015,
     "status": "ok",
     "timestamp": 1624894130691,
     "user": {
      "displayName": "ANIRBAN CHOWDHURY",
      "photoUrl": "",
      "userId": "14546601893545644003"
     },
     "user_tz": -330
    },
    "id": "IjVGMeNngLA1"
   },
   "outputs": [],
   "source": [
    "## Importing the libraries\n",
    "import pandas as pd\n",
    "import numpy as np\n",
    "import matplotlib.pyplot as plt\n",
    "import seaborn as sns\n",
    "%matplotlib inline"
   ]
  },
  {
   "cell_type": "code",
   "execution_count": 2,
   "metadata": {
    "executionInfo": {
     "elapsed": 66,
     "status": "ok",
     "timestamp": 1624894130692,
     "user": {
      "displayName": "ANIRBAN CHOWDHURY",
      "photoUrl": "",
      "userId": "14546601893545644003"
     },
     "user_tz": -330
    },
    "id": "t2ZyB97BgLA3"
   },
   "outputs": [],
   "source": [
    "## Importing data\n",
    "data=pd.read_excel('Admission_Prediction.xlsx')"
   ]
  },
  {
   "cell_type": "code",
   "execution_count": 3,
   "metadata": {
    "colab": {
     "base_uri": "https://localhost:8080/",
     "height": 204
    },
    "executionInfo": {
     "elapsed": 72,
     "status": "ok",
     "timestamp": 1624894130699,
     "user": {
      "displayName": "ANIRBAN CHOWDHURY",
      "photoUrl": "",
      "userId": "14546601893545644003"
     },
     "user_tz": -330
    },
    "id": "edmsNzqFgLA3",
    "outputId": "7e3fe75a-64e1-4f8b-aee4-c951cf38086e"
   },
   "outputs": [
    {
     "data": {
      "text/html": [
       "<div>\n",
       "<style scoped>\n",
       "    .dataframe tbody tr th:only-of-type {\n",
       "        vertical-align: middle;\n",
       "    }\n",
       "\n",
       "    .dataframe tbody tr th {\n",
       "        vertical-align: top;\n",
       "    }\n",
       "\n",
       "    .dataframe thead th {\n",
       "        text-align: right;\n",
       "    }\n",
       "</style>\n",
       "<table border=\"1\" class=\"dataframe\">\n",
       "  <thead>\n",
       "    <tr style=\"text-align: right;\">\n",
       "      <th></th>\n",
       "      <th>Serial No.</th>\n",
       "      <th>GRE Score</th>\n",
       "      <th>TOEFL Score</th>\n",
       "      <th>University Rating</th>\n",
       "      <th>SOP</th>\n",
       "      <th>LOR</th>\n",
       "      <th>CGPA</th>\n",
       "      <th>Research</th>\n",
       "      <th>Chance of Admit</th>\n",
       "    </tr>\n",
       "  </thead>\n",
       "  <tbody>\n",
       "    <tr>\n",
       "      <th>0</th>\n",
       "      <td>1</td>\n",
       "      <td>337.0</td>\n",
       "      <td>118.0</td>\n",
       "      <td>4.0</td>\n",
       "      <td>4.5</td>\n",
       "      <td>4.5</td>\n",
       "      <td>9.65</td>\n",
       "      <td>1</td>\n",
       "      <td>0.92</td>\n",
       "    </tr>\n",
       "    <tr>\n",
       "      <th>1</th>\n",
       "      <td>2</td>\n",
       "      <td>324.0</td>\n",
       "      <td>107.0</td>\n",
       "      <td>4.0</td>\n",
       "      <td>4.0</td>\n",
       "      <td>4.5</td>\n",
       "      <td>8.87</td>\n",
       "      <td>1</td>\n",
       "      <td>0.76</td>\n",
       "    </tr>\n",
       "    <tr>\n",
       "      <th>2</th>\n",
       "      <td>3</td>\n",
       "      <td>NaN</td>\n",
       "      <td>104.0</td>\n",
       "      <td>3.0</td>\n",
       "      <td>3.0</td>\n",
       "      <td>3.5</td>\n",
       "      <td>8.00</td>\n",
       "      <td>1</td>\n",
       "      <td>0.72</td>\n",
       "    </tr>\n",
       "    <tr>\n",
       "      <th>3</th>\n",
       "      <td>4</td>\n",
       "      <td>322.0</td>\n",
       "      <td>110.0</td>\n",
       "      <td>3.0</td>\n",
       "      <td>3.5</td>\n",
       "      <td>2.5</td>\n",
       "      <td>8.67</td>\n",
       "      <td>1</td>\n",
       "      <td>0.80</td>\n",
       "    </tr>\n",
       "    <tr>\n",
       "      <th>4</th>\n",
       "      <td>5</td>\n",
       "      <td>314.0</td>\n",
       "      <td>103.0</td>\n",
       "      <td>2.0</td>\n",
       "      <td>2.0</td>\n",
       "      <td>3.0</td>\n",
       "      <td>8.21</td>\n",
       "      <td>0</td>\n",
       "      <td>0.65</td>\n",
       "    </tr>\n",
       "  </tbody>\n",
       "</table>\n",
       "</div>"
      ],
      "text/plain": [
       "   Serial No.  GRE Score  TOEFL Score  University Rating  SOP  LOR  CGPA  \\\n",
       "0           1      337.0        118.0                4.0  4.5  4.5  9.65   \n",
       "1           2      324.0        107.0                4.0  4.0  4.5  8.87   \n",
       "2           3        NaN        104.0                3.0  3.0  3.5  8.00   \n",
       "3           4      322.0        110.0                3.0  3.5  2.5  8.67   \n",
       "4           5      314.0        103.0                2.0  2.0  3.0  8.21   \n",
       "\n",
       "   Research  Chance of Admit  \n",
       "0         1             0.92  \n",
       "1         1             0.76  \n",
       "2         1             0.72  \n",
       "3         1             0.80  \n",
       "4         0             0.65  "
      ]
     },
     "execution_count": 3,
     "metadata": {},
     "output_type": "execute_result"
    }
   ],
   "source": [
    "## Getting the some rows of data\n",
    "data.head()"
   ]
  },
  {
   "cell_type": "markdown",
   "metadata": {
    "id": "a3MwAzMogLA4"
   },
   "source": [
    "## Basic understanding of features-- Domain Analysis\n",
    "GRE Score:-The graduate record examination (GRE) is a standardized exam used to measure one's aptitude for abstract thinking in the areas of analytical writing, mathematics, and vocabulary. The GRE is commonly used by many graduate schools in the U.S. and Canada to determine an applicant's eligibility for the program.\n",
    "\n",
    "TOEFL Score:-TOFEL Score is a standardized test to measure the English language ability of non-native speakers wishing to enroll in English-speaking universities.\n",
    "\n",
    "University Rating:-Rating of university\n",
    "\n",
    "SOP:-Statement of Purpose, a reflection of your personality that you portray in front of the admission committee (Adcom) for getting enrolled in universities abroad.\n",
    "\n",
    "\n",
    "LOR:-Letter of Recommendation.The LOR is a document that provides the admission officers with a comprehensive insight into your suitable candidature, for admission into the concerned University.\n",
    "\n",
    "CGPA:-CGPA stands for Cumulative Grade Points Average. CGPA is nothing but the average of grade points obtained by students in all the subjects excluding the 6th subject.\n",
    "\n",
    "Research:-Whether the student has done the research or not\n",
    "\n",
    "Chance of Admit:-Target variable and we need to claculate percentage of getting admission."
   ]
  },
  {
   "cell_type": "markdown",
   "metadata": {
    "id": "PhKQs2BRgLA5"
   },
   "source": [
    "## Basic Checks"
   ]
  },
  {
   "cell_type": "code",
   "execution_count": 4,
   "metadata": {
    "colab": {
     "base_uri": "https://localhost:8080/",
     "height": 204
    },
    "executionInfo": {
     "elapsed": 70,
     "status": "ok",
     "timestamp": 1624894130700,
     "user": {
      "displayName": "ANIRBAN CHOWDHURY",
      "photoUrl": "",
      "userId": "14546601893545644003"
     },
     "user_tz": -330
    },
    "id": "tq4N5XVqgLA5",
    "outputId": "732f35f8-67e4-4f3e-f2c8-ee07dfa2c3a8"
   },
   "outputs": [
    {
     "data": {
      "text/html": [
       "<div>\n",
       "<style scoped>\n",
       "    .dataframe tbody tr th:only-of-type {\n",
       "        vertical-align: middle;\n",
       "    }\n",
       "\n",
       "    .dataframe tbody tr th {\n",
       "        vertical-align: top;\n",
       "    }\n",
       "\n",
       "    .dataframe thead th {\n",
       "        text-align: right;\n",
       "    }\n",
       "</style>\n",
       "<table border=\"1\" class=\"dataframe\">\n",
       "  <thead>\n",
       "    <tr style=\"text-align: right;\">\n",
       "      <th></th>\n",
       "      <th>Serial No.</th>\n",
       "      <th>GRE Score</th>\n",
       "      <th>TOEFL Score</th>\n",
       "      <th>University Rating</th>\n",
       "      <th>SOP</th>\n",
       "      <th>LOR</th>\n",
       "      <th>CGPA</th>\n",
       "      <th>Research</th>\n",
       "      <th>Chance of Admit</th>\n",
       "    </tr>\n",
       "  </thead>\n",
       "  <tbody>\n",
       "    <tr>\n",
       "      <th>0</th>\n",
       "      <td>1</td>\n",
       "      <td>337.0</td>\n",
       "      <td>118.0</td>\n",
       "      <td>4.0</td>\n",
       "      <td>4.5</td>\n",
       "      <td>4.5</td>\n",
       "      <td>9.65</td>\n",
       "      <td>1</td>\n",
       "      <td>0.92</td>\n",
       "    </tr>\n",
       "    <tr>\n",
       "      <th>1</th>\n",
       "      <td>2</td>\n",
       "      <td>324.0</td>\n",
       "      <td>107.0</td>\n",
       "      <td>4.0</td>\n",
       "      <td>4.0</td>\n",
       "      <td>4.5</td>\n",
       "      <td>8.87</td>\n",
       "      <td>1</td>\n",
       "      <td>0.76</td>\n",
       "    </tr>\n",
       "    <tr>\n",
       "      <th>2</th>\n",
       "      <td>3</td>\n",
       "      <td>NaN</td>\n",
       "      <td>104.0</td>\n",
       "      <td>3.0</td>\n",
       "      <td>3.0</td>\n",
       "      <td>3.5</td>\n",
       "      <td>8.00</td>\n",
       "      <td>1</td>\n",
       "      <td>0.72</td>\n",
       "    </tr>\n",
       "    <tr>\n",
       "      <th>3</th>\n",
       "      <td>4</td>\n",
       "      <td>322.0</td>\n",
       "      <td>110.0</td>\n",
       "      <td>3.0</td>\n",
       "      <td>3.5</td>\n",
       "      <td>2.5</td>\n",
       "      <td>8.67</td>\n",
       "      <td>1</td>\n",
       "      <td>0.80</td>\n",
       "    </tr>\n",
       "    <tr>\n",
       "      <th>4</th>\n",
       "      <td>5</td>\n",
       "      <td>314.0</td>\n",
       "      <td>103.0</td>\n",
       "      <td>2.0</td>\n",
       "      <td>2.0</td>\n",
       "      <td>3.0</td>\n",
       "      <td>8.21</td>\n",
       "      <td>0</td>\n",
       "      <td>0.65</td>\n",
       "    </tr>\n",
       "  </tbody>\n",
       "</table>\n",
       "</div>"
      ],
      "text/plain": [
       "   Serial No.  GRE Score  TOEFL Score  University Rating  SOP  LOR  CGPA  \\\n",
       "0           1      337.0        118.0                4.0  4.5  4.5  9.65   \n",
       "1           2      324.0        107.0                4.0  4.0  4.5  8.87   \n",
       "2           3        NaN        104.0                3.0  3.0  3.5  8.00   \n",
       "3           4      322.0        110.0                3.0  3.5  2.5  8.67   \n",
       "4           5      314.0        103.0                2.0  2.0  3.0  8.21   \n",
       "\n",
       "   Research  Chance of Admit  \n",
       "0         1             0.92  \n",
       "1         1             0.76  \n",
       "2         1             0.72  \n",
       "3         1             0.80  \n",
       "4         0             0.65  "
      ]
     },
     "execution_count": 4,
     "metadata": {},
     "output_type": "execute_result"
    }
   ],
   "source": [
    "data.head()"
   ]
  },
  {
   "cell_type": "code",
   "execution_count": 5,
   "metadata": {
    "colab": {
     "base_uri": "https://localhost:8080/",
     "height": 204
    },
    "executionInfo": {
     "elapsed": 70,
     "status": "ok",
     "timestamp": 1624894130702,
     "user": {
      "displayName": "ANIRBAN CHOWDHURY",
      "photoUrl": "",
      "userId": "14546601893545644003"
     },
     "user_tz": -330
    },
    "id": "NTiIu2TegLA6",
    "outputId": "a2a15548-cf86-4db4-d305-82dc616cd695"
   },
   "outputs": [
    {
     "data": {
      "text/plain": [
       "(500, 9)"
      ]
     },
     "execution_count": 5,
     "metadata": {},
     "output_type": "execute_result"
    }
   ],
   "source": [
    "data.shape"
   ]
  },
  {
   "cell_type": "code",
   "execution_count": 6,
   "metadata": {
    "colab": {
     "base_uri": "https://localhost:8080/",
     "height": 331
    },
    "executionInfo": {
     "elapsed": 69,
     "status": "ok",
     "timestamp": 1624894130703,
     "user": {
      "displayName": "ANIRBAN CHOWDHURY",
      "photoUrl": "",
      "userId": "14546601893545644003"
     },
     "user_tz": -330
    },
    "id": "gnkExdqAgLA6",
    "outputId": "18cdbc61-5051-45d8-bd32-7b90cc807f31"
   },
   "outputs": [
    {
     "data": {
      "text/html": [
       "<div>\n",
       "<style scoped>\n",
       "    .dataframe tbody tr th:only-of-type {\n",
       "        vertical-align: middle;\n",
       "    }\n",
       "\n",
       "    .dataframe tbody tr th {\n",
       "        vertical-align: top;\n",
       "    }\n",
       "\n",
       "    .dataframe thead th {\n",
       "        text-align: right;\n",
       "    }\n",
       "</style>\n",
       "<table border=\"1\" class=\"dataframe\">\n",
       "  <thead>\n",
       "    <tr style=\"text-align: right;\">\n",
       "      <th></th>\n",
       "      <th>Serial No.</th>\n",
       "      <th>GRE Score</th>\n",
       "      <th>TOEFL Score</th>\n",
       "      <th>University Rating</th>\n",
       "      <th>SOP</th>\n",
       "      <th>LOR</th>\n",
       "      <th>CGPA</th>\n",
       "      <th>Research</th>\n",
       "      <th>Chance of Admit</th>\n",
       "    </tr>\n",
       "  </thead>\n",
       "  <tbody>\n",
       "    <tr>\n",
       "      <th>count</th>\n",
       "      <td>500.000000</td>\n",
       "      <td>485.000000</td>\n",
       "      <td>490.000000</td>\n",
       "      <td>485.000000</td>\n",
       "      <td>500.000000</td>\n",
       "      <td>500.00000</td>\n",
       "      <td>500.000000</td>\n",
       "      <td>500.000000</td>\n",
       "      <td>500.00000</td>\n",
       "    </tr>\n",
       "    <tr>\n",
       "      <th>mean</th>\n",
       "      <td>250.500000</td>\n",
       "      <td>316.558763</td>\n",
       "      <td>107.187755</td>\n",
       "      <td>3.121649</td>\n",
       "      <td>3.374000</td>\n",
       "      <td>3.48400</td>\n",
       "      <td>8.576440</td>\n",
       "      <td>0.560000</td>\n",
       "      <td>0.72174</td>\n",
       "    </tr>\n",
       "    <tr>\n",
       "      <th>std</th>\n",
       "      <td>144.481833</td>\n",
       "      <td>11.274704</td>\n",
       "      <td>6.112899</td>\n",
       "      <td>1.146160</td>\n",
       "      <td>0.991004</td>\n",
       "      <td>0.92545</td>\n",
       "      <td>0.604813</td>\n",
       "      <td>0.496884</td>\n",
       "      <td>0.14114</td>\n",
       "    </tr>\n",
       "    <tr>\n",
       "      <th>min</th>\n",
       "      <td>1.000000</td>\n",
       "      <td>290.000000</td>\n",
       "      <td>92.000000</td>\n",
       "      <td>1.000000</td>\n",
       "      <td>1.000000</td>\n",
       "      <td>1.00000</td>\n",
       "      <td>6.800000</td>\n",
       "      <td>0.000000</td>\n",
       "      <td>0.34000</td>\n",
       "    </tr>\n",
       "    <tr>\n",
       "      <th>25%</th>\n",
       "      <td>125.750000</td>\n",
       "      <td>308.000000</td>\n",
       "      <td>103.000000</td>\n",
       "      <td>2.000000</td>\n",
       "      <td>2.500000</td>\n",
       "      <td>3.00000</td>\n",
       "      <td>8.127500</td>\n",
       "      <td>0.000000</td>\n",
       "      <td>0.63000</td>\n",
       "    </tr>\n",
       "    <tr>\n",
       "      <th>50%</th>\n",
       "      <td>250.500000</td>\n",
       "      <td>317.000000</td>\n",
       "      <td>107.000000</td>\n",
       "      <td>3.000000</td>\n",
       "      <td>3.500000</td>\n",
       "      <td>3.50000</td>\n",
       "      <td>8.560000</td>\n",
       "      <td>1.000000</td>\n",
       "      <td>0.72000</td>\n",
       "    </tr>\n",
       "    <tr>\n",
       "      <th>75%</th>\n",
       "      <td>375.250000</td>\n",
       "      <td>325.000000</td>\n",
       "      <td>112.000000</td>\n",
       "      <td>4.000000</td>\n",
       "      <td>4.000000</td>\n",
       "      <td>4.00000</td>\n",
       "      <td>9.040000</td>\n",
       "      <td>1.000000</td>\n",
       "      <td>0.82000</td>\n",
       "    </tr>\n",
       "    <tr>\n",
       "      <th>max</th>\n",
       "      <td>500.000000</td>\n",
       "      <td>340.000000</td>\n",
       "      <td>120.000000</td>\n",
       "      <td>5.000000</td>\n",
       "      <td>5.000000</td>\n",
       "      <td>5.00000</td>\n",
       "      <td>9.920000</td>\n",
       "      <td>1.000000</td>\n",
       "      <td>0.97000</td>\n",
       "    </tr>\n",
       "  </tbody>\n",
       "</table>\n",
       "</div>"
      ],
      "text/plain": [
       "       Serial No.   GRE Score  TOEFL Score  University Rating         SOP  \\\n",
       "count  500.000000  485.000000   490.000000         485.000000  500.000000   \n",
       "mean   250.500000  316.558763   107.187755           3.121649    3.374000   \n",
       "std    144.481833   11.274704     6.112899           1.146160    0.991004   \n",
       "min      1.000000  290.000000    92.000000           1.000000    1.000000   \n",
       "25%    125.750000  308.000000   103.000000           2.000000    2.500000   \n",
       "50%    250.500000  317.000000   107.000000           3.000000    3.500000   \n",
       "75%    375.250000  325.000000   112.000000           4.000000    4.000000   \n",
       "max    500.000000  340.000000   120.000000           5.000000    5.000000   \n",
       "\n",
       "             LOR        CGPA    Research  Chance of Admit  \n",
       "count  500.00000  500.000000  500.000000        500.00000  \n",
       "mean     3.48400    8.576440    0.560000          0.72174  \n",
       "std      0.92545    0.604813    0.496884          0.14114  \n",
       "min      1.00000    6.800000    0.000000          0.34000  \n",
       "25%      3.00000    8.127500    0.000000          0.63000  \n",
       "50%      3.50000    8.560000    1.000000          0.72000  \n",
       "75%      4.00000    9.040000    1.000000          0.82000  \n",
       "max      5.00000    9.920000    1.000000          0.97000  "
      ]
     },
     "execution_count": 6,
     "metadata": {},
     "output_type": "execute_result"
    }
   ],
   "source": [
    "data.describe()\n",
    "## Serial No is unique identity of the dataset."
   ]
  },
  {
   "cell_type": "code",
   "execution_count": 7,
   "metadata": {
    "colab": {
     "base_uri": "https://localhost:8080/"
    },
    "executionInfo": {
     "elapsed": 68,
     "status": "ok",
     "timestamp": 1624894130704,
     "user": {
      "displayName": "ANIRBAN CHOWDHURY",
      "photoUrl": "",
      "userId": "14546601893545644003"
     },
     "user_tz": -330
    },
    "id": "dJg9FhKsgLA7",
    "outputId": "2536ee3b-ef18-432c-acb4-bc79b021e6c3"
   },
   "outputs": [
    {
     "name": "stdout",
     "output_type": "stream",
     "text": [
      "<class 'pandas.core.frame.DataFrame'>\n",
      "RangeIndex: 500 entries, 0 to 499\n",
      "Data columns (total 9 columns):\n",
      " #   Column             Non-Null Count  Dtype  \n",
      "---  ------             --------------  -----  \n",
      " 0   Serial No.         500 non-null    int64  \n",
      " 1   GRE Score          485 non-null    float64\n",
      " 2   TOEFL Score        490 non-null    float64\n",
      " 3   University Rating  485 non-null    float64\n",
      " 4   SOP                500 non-null    float64\n",
      " 5   LOR                500 non-null    float64\n",
      " 6   CGPA               500 non-null    float64\n",
      " 7   Research           500 non-null    int64  \n",
      " 8   Chance of Admit    500 non-null    float64\n",
      "dtypes: float64(7), int64(2)\n",
      "memory usage: 35.3 KB\n"
     ]
    }
   ],
   "source": [
    "data.info()\n",
    "## There seems to be missing values in GRE,TOFEL,UR features."
   ]
  },
  {
   "cell_type": "markdown",
   "metadata": {
    "id": "6k29TUrggLA7"
   },
   "source": [
    "## Exploratory Data Analysis"
   ]
  },
  {
   "cell_type": "markdown",
   "metadata": {
    "id": "JE86rjpZgLA7"
   },
   "source": [
    "### Univariate Analysis-- Analyzing single variable "
   ]
  },
  {
   "cell_type": "code",
   "execution_count": 8,
   "metadata": {
    "executionInfo": {
     "elapsed": 59,
     "status": "ok",
     "timestamp": 1624894130705,
     "user": {
      "displayName": "ANIRBAN CHOWDHURY",
      "photoUrl": "",
      "userId": "14546601893545644003"
     },
     "user_tz": -330
    },
    "id": "RJGPoKIogLA8"
   },
   "outputs": [],
   "source": [
    "## Renaming certain columns just to make analysis easy\n",
    "data.rename(columns={'GRE Score':'GRE_Score','TOEFL Score':'TOEFL_Score',\n",
    "                     'University Rating':'University_Rating',\n",
    "                     'Chance of Admit':'Chance_of_Admit'}\n",
    "            ,inplace=True)"
   ]
  },
  {
   "cell_type": "code",
   "execution_count": 9,
   "metadata": {
    "colab": {
     "base_uri": "https://localhost:8080/"
    },
    "executionInfo": {
     "elapsed": 60,
     "status": "ok",
     "timestamp": 1624894130706,
     "user": {
      "displayName": "ANIRBAN CHOWDHURY",
      "photoUrl": "",
      "userId": "14546601893545644003"
     },
     "user_tz": -330
    },
    "id": "3UojHZJngLA8",
    "outputId": "6f2e88ff-7ded-44a5-cd9c-9b00b89c3702"
   },
   "outputs": [
    {
     "data": {
      "text/plain": [
       "Index(['Serial No.', 'GRE_Score', 'TOEFL_Score', 'University_Rating', 'SOP',\n",
       "       'LOR', 'CGPA', 'Research', 'Chance_of_Admit'],\n",
       "      dtype='object')"
      ]
     },
     "execution_count": 9,
     "metadata": {},
     "output_type": "execute_result"
    }
   ],
   "source": [
    "data.columns"
   ]
  },
  {
   "cell_type": "code",
   "execution_count": 10,
   "metadata": {
    "colab": {
     "base_uri": "https://localhost:8080/",
     "height": 334
    },
    "executionInfo": {
     "elapsed": 56,
     "status": "ok",
     "timestamp": 1624894130707,
     "user": {
      "displayName": "ANIRBAN CHOWDHURY",
      "photoUrl": "",
      "userId": "14546601893545644003"
     },
     "user_tz": -330
    },
    "id": "BNVgJ21qgLA8",
    "outputId": "ddb919dc-cc85-4886-fd0e-0871827b9042"
   },
   "outputs": [
    {
     "name": "stderr",
     "output_type": "stream",
     "text": [
      "C:\\Users\\abi01\\anaconda3\\lib\\site-packages\\seaborn\\distributions.py:2557: FutureWarning: `distplot` is a deprecated function and will be removed in a future version. Please adapt your code to use either `displot` (a figure-level function with similar flexibility) or `histplot` (an axes-level function for histograms).\n",
      "  warnings.warn(msg, FutureWarning)\n"
     ]
    },
    {
     "data": {
      "image/png": "[encoded data removed]",
      "text/plain": [
       "<Figure size 432x288 with 1 Axes>"
      ]
     },
     "metadata": {
      "needs_background": "light"
     },
     "output_type": "display_data"
    }
   ],
   "source": [
    "## ANalyszing GRE Score\n",
    "\n",
    "sns.distplot(data.GRE_Score.dropna(axis=0))\n",
    "## Normal distribution\n",
    "## The data is concentrated between 310 to 330.\n",
    "plt.show()"
   ]
  },
  {
   "cell_type": "code",
   "execution_count": 11,
   "metadata": {
    "colab": {
     "base_uri": "https://localhost:8080/",
     "height": 351
    },
    "executionInfo": {
     "elapsed": 1248,
     "status": "ok",
     "timestamp": 1624894131905,
     "user": {
      "displayName": "ANIRBAN CHOWDHURY",
      "photoUrl": "",
      "userId": "14546601893545644003"
     },
     "user_tz": -330
    },
    "id": "73gp8lywgLA9",
    "outputId": "40efab4a-6aed-4a90-a715-cef6677fd0cd"
   },
   "outputs": [
    {
     "name": "stderr",
     "output_type": "stream",
     "text": [
      "C:\\Users\\abi01\\anaconda3\\lib\\site-packages\\seaborn\\distributions.py:2557: FutureWarning: `distplot` is a deprecated function and will be removed in a future version. Please adapt your code to use either `displot` (a figure-level function with similar flexibility) or `histplot` (an axes-level function for histograms).\n",
      "  warnings.warn(msg, FutureWarning)\n"
     ]
    },
    {
     "data": {
      "text/plain": [
       "<AxesSubplot:xlabel='TOEFL_Score', ylabel='Density'>"
      ]
     },
     "execution_count": 11,
     "metadata": {},
     "output_type": "execute_result"
    },
    {
     "data": {
      "image/png": "[encoded data removed]",
      "text/plain": [
       "<Figure size 432x288 with 1 Axes>"
      ]
     },
     "metadata": {
      "needs_background": "light"
     },
     "output_type": "display_data"
    }
   ],
   "source": [
    "## ANalsyzing TOEFL_Score\n",
    "sns.distplot(data.TOEFL_Score.dropna(axis=0))\n",
    "## Normally distributed."
   ]
  },
  {
   "cell_type": "code",
   "execution_count": 12,
   "metadata": {
    "colab": {
     "base_uri": "https://localhost:8080/",
     "height": 204
    },
    "executionInfo": {
     "elapsed": 60,
     "status": "ok",
     "timestamp": 1624894131907,
     "user": {
      "displayName": "ANIRBAN CHOWDHURY",
      "photoUrl": "",
      "userId": "14546601893545644003"
     },
     "user_tz": -330
    },
    "id": "U18D0n-BgLA9",
    "outputId": "04c19bc8-3751-48ca-f22d-1fe39cc220a1"
   },
   "outputs": [
    {
     "data": {
      "text/html": [
       "<div>\n",
       "<style scoped>\n",
       "    .dataframe tbody tr th:only-of-type {\n",
       "        vertical-align: middle;\n",
       "    }\n",
       "\n",
       "    .dataframe tbody tr th {\n",
       "        vertical-align: top;\n",
       "    }\n",
       "\n",
       "    .dataframe thead th {\n",
       "        text-align: right;\n",
       "    }\n",
       "</style>\n",
       "<table border=\"1\" class=\"dataframe\">\n",
       "  <thead>\n",
       "    <tr style=\"text-align: right;\">\n",
       "      <th></th>\n",
       "      <th>Serial No.</th>\n",
       "      <th>GRE_Score</th>\n",
       "      <th>TOEFL_Score</th>\n",
       "      <th>University_Rating</th>\n",
       "      <th>SOP</th>\n",
       "      <th>LOR</th>\n",
       "      <th>CGPA</th>\n",
       "      <th>Research</th>\n",
       "      <th>Chance_of_Admit</th>\n",
       "    </tr>\n",
       "  </thead>\n",
       "  <tbody>\n",
       "    <tr>\n",
       "      <th>0</th>\n",
       "      <td>1</td>\n",
       "      <td>337.0</td>\n",
       "      <td>118.0</td>\n",
       "      <td>4.0</td>\n",
       "      <td>4.5</td>\n",
       "      <td>4.5</td>\n",
       "      <td>9.65</td>\n",
       "      <td>1</td>\n",
       "      <td>0.92</td>\n",
       "    </tr>\n",
       "    <tr>\n",
       "      <th>1</th>\n",
       "      <td>2</td>\n",
       "      <td>324.0</td>\n",
       "      <td>107.0</td>\n",
       "      <td>4.0</td>\n",
       "      <td>4.0</td>\n",
       "      <td>4.5</td>\n",
       "      <td>8.87</td>\n",
       "      <td>1</td>\n",
       "      <td>0.76</td>\n",
       "    </tr>\n",
       "    <tr>\n",
       "      <th>2</th>\n",
       "      <td>3</td>\n",
       "      <td>NaN</td>\n",
       "      <td>104.0</td>\n",
       "      <td>3.0</td>\n",
       "      <td>3.0</td>\n",
       "      <td>3.5</td>\n",
       "      <td>8.00</td>\n",
       "      <td>1</td>\n",
       "      <td>0.72</td>\n",
       "    </tr>\n",
       "    <tr>\n",
       "      <th>3</th>\n",
       "      <td>4</td>\n",
       "      <td>322.0</td>\n",
       "      <td>110.0</td>\n",
       "      <td>3.0</td>\n",
       "      <td>3.5</td>\n",
       "      <td>2.5</td>\n",
       "      <td>8.67</td>\n",
       "      <td>1</td>\n",
       "      <td>0.80</td>\n",
       "    </tr>\n",
       "    <tr>\n",
       "      <th>4</th>\n",
       "      <td>5</td>\n",
       "      <td>314.0</td>\n",
       "      <td>103.0</td>\n",
       "      <td>2.0</td>\n",
       "      <td>2.0</td>\n",
       "      <td>3.0</td>\n",
       "      <td>8.21</td>\n",
       "      <td>0</td>\n",
       "      <td>0.65</td>\n",
       "    </tr>\n",
       "  </tbody>\n",
       "</table>\n",
       "</div>"
      ],
      "text/plain": [
       "   Serial No.  GRE_Score  TOEFL_Score  University_Rating  SOP  LOR  CGPA  \\\n",
       "0           1      337.0        118.0                4.0  4.5  4.5  9.65   \n",
       "1           2      324.0        107.0                4.0  4.0  4.5  8.87   \n",
       "2           3        NaN        104.0                3.0  3.0  3.5  8.00   \n",
       "3           4      322.0        110.0                3.0  3.5  2.5  8.67   \n",
       "4           5      314.0        103.0                2.0  2.0  3.0  8.21   \n",
       "\n",
       "   Research  Chance_of_Admit  \n",
       "0         1             0.92  \n",
       "1         1             0.76  \n",
       "2         1             0.72  \n",
       "3         1             0.80  \n",
       "4         0             0.65  "
      ]
     },
     "execution_count": 12,
     "metadata": {},
     "output_type": "execute_result"
    }
   ],
   "source": [
    "data.head()"
   ]
  },
  {
   "cell_type": "code",
   "execution_count": 61,
   "metadata": {
    "colab": {
     "base_uri": "https://localhost:8080/"
    },
    "executionInfo": {
     "elapsed": 59,
     "status": "ok",
     "timestamp": 1624894131908,
     "user": {
      "displayName": "ANIRBAN CHOWDHURY",
      "photoUrl": "",
      "userId": "14546601893545644003"
     },
     "user_tz": -330
    },
    "id": "2F5xfYEdgLA9",
    "outputId": "3f5bc5e5-03e5-4523-c9c1-3acd6c494336"
   },
   "outputs": [
    {
     "data": {
      "text/plain": [
       "<AxesSubplot:xlabel='University_Rating', ylabel='count'>"
      ]
     },
     "execution_count": 61,
     "metadata": {},
     "output_type": "execute_result"
    },
    {
     "data": {
      "image/png": "[encoded data removed]",
      "text/plain": [
       "<Figure size 432x288 with 1 Axes>"
      ]
     },
     "metadata": {
      "needs_background": "light"
     },
     "output_type": "display_data"
    }
   ],
   "source": [
    "## Analaysizng University_Rating\n",
    "##sns.distplot(data.University_Rating.dropna(axis=0))\n",
    "sns.countplot(x='University_Rating',data=data)\n",
    "##data.University_Rating.value_counts()\n",
    "## Most of the university has rating of 3.\n",
    "## 72 universities seems to be good one.\n",
    "## 32 universities are worst performing."
   ]
  },
  {
   "cell_type": "code",
   "execution_count": 62,
   "metadata": {
    "colab": {
     "base_uri": "https://localhost:8080/",
     "height": 296
    },
    "executionInfo": {
     "elapsed": 53,
     "status": "ok",
     "timestamp": 1624894131910,
     "user": {
      "displayName": "ANIRBAN CHOWDHURY",
      "photoUrl": "",
      "userId": "14546601893545644003"
     },
     "user_tz": -330
    },
    "id": "i6aGOu3sgLA-",
    "outputId": "5f184df5-70b4-40d0-ef74-37daf7bac516"
   },
   "outputs": [
    {
     "data": {
      "text/plain": [
       "4.0    89\n",
       "3.5    88\n",
       "3.0    80\n",
       "2.5    64\n",
       "4.5    63\n",
       "2.0    43\n",
       "5.0    42\n",
       "1.5    25\n",
       "1.0     6\n",
       "Name: SOP, dtype: int64"
      ]
     },
     "execution_count": 62,
     "metadata": {},
     "output_type": "execute_result"
    }
   ],
   "source": [
    "## Analayzing SOP\n",
    "data.SOP.value_counts()\n",
    "## There are very less students who are able to impress the admission committee \n",
    "##sns.countplot(x='SOP',data=data)"
   ]
  },
  {
   "cell_type": "code",
   "execution_count": 15,
   "metadata": {
    "colab": {
     "base_uri": "https://localhost:8080/",
     "height": 296
    },
    "executionInfo": {
     "elapsed": 47,
     "status": "ok",
     "timestamp": 1624894131911,
     "user": {
      "displayName": "ANIRBAN CHOWDHURY",
      "photoUrl": "",
      "userId": "14546601893545644003"
     },
     "user_tz": -330
    },
    "id": "EmzRPAKDgLA-",
    "outputId": "ff366639-c2da-428a-e799-7528000e2d7d"
   },
   "outputs": [
    {
     "data": {
      "text/plain": [
       "<AxesSubplot:xlabel='LOR', ylabel='count'>"
      ]
     },
     "execution_count": 15,
     "metadata": {},
     "output_type": "execute_result"
    },
    {
     "data": {
      "image/png": "[encoded data removed]",
      "text/plain": [
       "<Figure size 432x288 with 1 Axes>"
      ]
     },
     "metadata": {
      "needs_background": "light"
     },
     "output_type": "display_data"
    }
   ],
   "source": [
    "## Analysizng LOR\n",
    "##data.LOR.value_counts()\n",
    "## Average candidates have applied for admission.\n",
    "sns.countplot(x='LOR',data=data)"
   ]
  },
  {
   "cell_type": "code",
   "execution_count": 16,
   "metadata": {
    "colab": {
     "base_uri": "https://localhost:8080/",
     "height": 350
    },
    "executionInfo": {
     "elapsed": 41,
     "status": "ok",
     "timestamp": 1624894131912,
     "user": {
      "displayName": "ANIRBAN CHOWDHURY",
      "photoUrl": "",
      "userId": "14546601893545644003"
     },
     "user_tz": -330
    },
    "id": "iIXCkMZigLA-",
    "outputId": "d3d8bc10-027d-443c-e749-14b76d7603fe"
   },
   "outputs": [
    {
     "name": "stderr",
     "output_type": "stream",
     "text": [
      "C:\\Users\\abi01\\anaconda3\\lib\\site-packages\\seaborn\\distributions.py:2557: FutureWarning: `distplot` is a deprecated function and will be removed in a future version. Please adapt your code to use either `displot` (a figure-level function with similar flexibility) or `histplot` (an axes-level function for histograms).\n",
      "  warnings.warn(msg, FutureWarning)\n"
     ]
    },
    {
     "data": {
      "text/plain": [
       "<AxesSubplot:xlabel='CGPA', ylabel='Density'>"
      ]
     },
     "execution_count": 16,
     "metadata": {},
     "output_type": "execute_result"
    },
    {
     "data": {
      "image/png": "[encoded data removed]",
      "text/plain": [
       "<Figure size 432x288 with 1 Axes>"
      ]
     },
     "metadata": {
      "needs_background": "light"
     },
     "output_type": "display_data"
    }
   ],
   "source": [
    "## Analyzing CGPA\n",
    "sns.distplot(data.CGPA)\n",
    "## Most of students have CGPA in range of 8 to 9."
   ]
  },
  {
   "cell_type": "code",
   "execution_count": 17,
   "metadata": {
    "colab": {
     "base_uri": "https://localhost:8080/",
     "height": 296
    },
    "executionInfo": {
     "elapsed": 37,
     "status": "ok",
     "timestamp": 1624894131914,
     "user": {
      "displayName": "ANIRBAN CHOWDHURY",
      "photoUrl": "",
      "userId": "14546601893545644003"
     },
     "user_tz": -330
    },
    "id": "njhDS0SDgLA_",
    "outputId": "9f93029f-8e6c-4d62-953f-f4f90e86a4e3"
   },
   "outputs": [
    {
     "data": {
      "text/plain": [
       "<AxesSubplot:xlabel='Research', ylabel='count'>"
      ]
     },
     "execution_count": 17,
     "metadata": {},
     "output_type": "execute_result"
    },
    {
     "data": {
      "image/png": "[encoded data removed]",
      "text/plain": [
       "<Figure size 432x288 with 1 Axes>"
      ]
     },
     "metadata": {
      "needs_background": "light"
     },
     "output_type": "display_data"
    }
   ],
   "source": [
    "## Analyzing  Research\n",
    "sns.countplot(x='Research',data=data)\n",
    "## The distribution seems to be balanced however the \n",
    "##students done research are more."
   ]
  },
  {
   "cell_type": "code",
   "execution_count": 18,
   "metadata": {
    "colab": {
     "base_uri": "https://localhost:8080/",
     "height": 0
    },
    "executionInfo": {
     "elapsed": 719,
     "status": "ok",
     "timestamp": 1624894132601,
     "user": {
      "displayName": "ANIRBAN CHOWDHURY",
      "photoUrl": "",
      "userId": "14546601893545644003"
     },
     "user_tz": -330
    },
    "id": "KO8sVspsgLBA",
    "outputId": "de22e1cb-4aaf-4ac9-d494-ce8d0af1431c"
   },
   "outputs": [
    {
     "name": "stderr",
     "output_type": "stream",
     "text": [
      "C:\\Users\\abi01\\anaconda3\\lib\\site-packages\\seaborn\\distributions.py:2557: FutureWarning: `distplot` is a deprecated function and will be removed in a future version. Please adapt your code to use either `displot` (a figure-level function with similar flexibility) or `histplot` (an axes-level function for histograms).\n",
      "  warnings.warn(msg, FutureWarning)\n"
     ]
    },
    {
     "data": {
      "text/plain": [
       "<AxesSubplot:xlabel='Chance_of_Admit', ylabel='Density'>"
      ]
     },
     "execution_count": 18,
     "metadata": {},
     "output_type": "execute_result"
    },
    {
     "data": {
      "image/png": "[encoded data removed]",
      "text/plain": [
       "<Figure size 432x288 with 1 Axes>"
      ]
     },
     "metadata": {
      "needs_background": "light"
     },
     "output_type": "display_data"
    }
   ],
   "source": [
    "## Analsyzing target variable\n",
    "sns.distplot(data.Chance_of_Admit)"
   ]
  },
  {
   "cell_type": "markdown",
   "metadata": {
    "id": "OggEA-n3gLA_"
   },
   "source": [
    "### Bivariate Analysis-->Analyzing 2 variables at a time."
   ]
  },
  {
   "cell_type": "code",
   "execution_count": 19,
   "metadata": {
    "executionInfo": {
     "elapsed": 22,
     "status": "ok",
     "timestamp": 1624894132603,
     "user": {
      "displayName": "ANIRBAN CHOWDHURY",
      "photoUrl": "",
      "userId": "14546601893545644003"
     },
     "user_tz": -330
    },
    "id": "BCcYhNObgLBA"
   },
   "outputs": [],
   "source": [
    "data1=data[['GRE_Score', 'TOEFL_Score', 'University_Rating', \n",
    "            'SOP','LOR', 'CGPA', 'Research']]"
   ]
  },
  {
   "cell_type": "code",
   "execution_count": 20,
   "metadata": {
    "colab": {
     "base_uri": "https://localhost:8080/",
     "height": 0
    },
    "executionInfo": {
     "elapsed": 20,
     "status": "ok",
     "timestamp": 1624894132604,
     "user": {
      "displayName": "ANIRBAN CHOWDHURY",
      "photoUrl": "",
      "userId": "14546601893545644003"
     },
     "user_tz": -330
    },
    "id": "6ntEPQbkgLBB",
    "outputId": "a13a79fe-0fbf-4cf2-8a4f-577048ce422b"
   },
   "outputs": [
    {
     "data": {
      "text/html": [
       "<div>\n",
       "<style scoped>\n",
       "    .dataframe tbody tr th:only-of-type {\n",
       "        vertical-align: middle;\n",
       "    }\n",
       "\n",
       "    .dataframe tbody tr th {\n",
       "        vertical-align: top;\n",
       "    }\n",
       "\n",
       "    .dataframe thead th {\n",
       "        text-align: right;\n",
       "    }\n",
       "</style>\n",
       "<table border=\"1\" class=\"dataframe\">\n",
       "  <thead>\n",
       "    <tr style=\"text-align: right;\">\n",
       "      <th></th>\n",
       "      <th>GRE_Score</th>\n",
       "      <th>TOEFL_Score</th>\n",
       "      <th>University_Rating</th>\n",
       "      <th>SOP</th>\n",
       "      <th>LOR</th>\n",
       "      <th>CGPA</th>\n",
       "      <th>Research</th>\n",
       "    </tr>\n",
       "  </thead>\n",
       "  <tbody>\n",
       "    <tr>\n",
       "      <th>0</th>\n",
       "      <td>337.0</td>\n",
       "      <td>118.0</td>\n",
       "      <td>4.0</td>\n",
       "      <td>4.5</td>\n",
       "      <td>4.5</td>\n",
       "      <td>9.65</td>\n",
       "      <td>1</td>\n",
       "    </tr>\n",
       "    <tr>\n",
       "      <th>1</th>\n",
       "      <td>324.0</td>\n",
       "      <td>107.0</td>\n",
       "      <td>4.0</td>\n",
       "      <td>4.0</td>\n",
       "      <td>4.5</td>\n",
       "      <td>8.87</td>\n",
       "      <td>1</td>\n",
       "    </tr>\n",
       "    <tr>\n",
       "      <th>2</th>\n",
       "      <td>NaN</td>\n",
       "      <td>104.0</td>\n",
       "      <td>3.0</td>\n",
       "      <td>3.0</td>\n",
       "      <td>3.5</td>\n",
       "      <td>8.00</td>\n",
       "      <td>1</td>\n",
       "    </tr>\n",
       "    <tr>\n",
       "      <th>3</th>\n",
       "      <td>322.0</td>\n",
       "      <td>110.0</td>\n",
       "      <td>3.0</td>\n",
       "      <td>3.5</td>\n",
       "      <td>2.5</td>\n",
       "      <td>8.67</td>\n",
       "      <td>1</td>\n",
       "    </tr>\n",
       "    <tr>\n",
       "      <th>4</th>\n",
       "      <td>314.0</td>\n",
       "      <td>103.0</td>\n",
       "      <td>2.0</td>\n",
       "      <td>2.0</td>\n",
       "      <td>3.0</td>\n",
       "      <td>8.21</td>\n",
       "      <td>0</td>\n",
       "    </tr>\n",
       "    <tr>\n",
       "      <th>...</th>\n",
       "      <td>...</td>\n",
       "      <td>...</td>\n",
       "      <td>...</td>\n",
       "      <td>...</td>\n",
       "      <td>...</td>\n",
       "      <td>...</td>\n",
       "      <td>...</td>\n",
       "    </tr>\n",
       "    <tr>\n",
       "      <th>495</th>\n",
       "      <td>332.0</td>\n",
       "      <td>108.0</td>\n",
       "      <td>5.0</td>\n",
       "      <td>4.5</td>\n",
       "      <td>4.0</td>\n",
       "      <td>9.02</td>\n",
       "      <td>1</td>\n",
       "    </tr>\n",
       "    <tr>\n",
       "      <th>496</th>\n",
       "      <td>337.0</td>\n",
       "      <td>117.0</td>\n",
       "      <td>5.0</td>\n",
       "      <td>5.0</td>\n",
       "      <td>5.0</td>\n",
       "      <td>9.87</td>\n",
       "      <td>1</td>\n",
       "    </tr>\n",
       "    <tr>\n",
       "      <th>497</th>\n",
       "      <td>330.0</td>\n",
       "      <td>120.0</td>\n",
       "      <td>5.0</td>\n",
       "      <td>4.5</td>\n",
       "      <td>5.0</td>\n",
       "      <td>9.56</td>\n",
       "      <td>1</td>\n",
       "    </tr>\n",
       "    <tr>\n",
       "      <th>498</th>\n",
       "      <td>312.0</td>\n",
       "      <td>103.0</td>\n",
       "      <td>4.0</td>\n",
       "      <td>4.0</td>\n",
       "      <td>5.0</td>\n",
       "      <td>8.43</td>\n",
       "      <td>0</td>\n",
       "    </tr>\n",
       "    <tr>\n",
       "      <th>499</th>\n",
       "      <td>327.0</td>\n",
       "      <td>113.0</td>\n",
       "      <td>4.0</td>\n",
       "      <td>4.5</td>\n",
       "      <td>4.5</td>\n",
       "      <td>9.04</td>\n",
       "      <td>0</td>\n",
       "    </tr>\n",
       "  </tbody>\n",
       "</table>\n",
       "<p>500 rows × 7 columns</p>\n",
       "</div>"
      ],
      "text/plain": [
       "     GRE_Score  TOEFL_Score  University_Rating  SOP  LOR  CGPA  Research\n",
       "0        337.0        118.0                4.0  4.5  4.5  9.65         1\n",
       "1        324.0        107.0                4.0  4.0  4.5  8.87         1\n",
       "2          NaN        104.0                3.0  3.0  3.5  8.00         1\n",
       "3        322.0        110.0                3.0  3.5  2.5  8.67         1\n",
       "4        314.0        103.0                2.0  2.0  3.0  8.21         0\n",
       "..         ...          ...                ...  ...  ...   ...       ...\n",
       "495      332.0        108.0                5.0  4.5  4.0  9.02         1\n",
       "496      337.0        117.0                5.0  5.0  5.0  9.87         1\n",
       "497      330.0        120.0                5.0  4.5  5.0  9.56         1\n",
       "498      312.0        103.0                4.0  4.0  5.0  8.43         0\n",
       "499      327.0        113.0                4.0  4.5  4.5  9.04         0\n",
       "\n",
       "[500 rows x 7 columns]"
      ]
     },
     "execution_count": 20,
     "metadata": {},
     "output_type": "execute_result"
    }
   ],
   "source": [
    "data1"
   ]
  },
  {
   "cell_type": "code",
   "execution_count": 21,
   "metadata": {
    "colab": {
     "base_uri": "https://localhost:8080/",
     "height": 0
    },
    "executionInfo": {
     "elapsed": 2046,
     "status": "ok",
     "timestamp": 1624894134634,
     "user": {
      "displayName": "ANIRBAN CHOWDHURY",
      "photoUrl": "",
      "userId": "14546601893545644003"
     },
     "user_tz": -330
    },
    "id": "XO-GQuX0gLBB",
    "outputId": "5ab91969-cc53-4639-e69a-71a8f3da94d2"
   },
   "outputs": [
    {
     "data": {
      "image/png": "[encoded data removed]",
      "text/plain": [
       "<Figure size 1440x1800 with 7 Axes>"
      ]
     },
     "metadata": {},
     "output_type": "display_data"
    }
   ],
   "source": [
    "plt.figure(figsize=(20,25), facecolor='white')#To set canvas \n",
    "plotnumber = 1#counter\n",
    "\n",
    "for column in data1:#accessing the columns \n",
    "    if plotnumber<=16 :\n",
    "        ax = plt.subplot(4,4,plotnumber)#plotting 8 graph\n",
    "        sns.scatterplot(x=data1[column].dropna(axis=0)#scatter plot\n",
    "                        ,y=data.Chance_of_Admit)\n",
    "        plt.xlabel(column,fontsize=20)#assign name to x-axis and set font-20\n",
    "        plt.ylabel('Chance_of_Admit',fontsize=20)\n",
    "    plotnumber+=1#counter increment\n",
    "plt.tight_layout()"
   ]
  },
  {
   "cell_type": "markdown",
   "metadata": {
    "id": "-23cOqcZgLBB"
   },
   "source": [
    "Great, the relationship between the dependent and independent variables look fairly linear.\n",
    "Thus, our linearity assumption is satisfied."
   ]
  },
  {
   "cell_type": "markdown",
   "metadata": {
    "id": "4IKcdnXRgLBC"
   },
   "source": [
    "## Bivariate and Multivariate Analysis"
   ]
  },
  {
   "cell_type": "markdown",
   "metadata": {
    "id": "UkGmQP58gLBC"
   },
   "source": [
    "## Data Preprocessing"
   ]
  },
  {
   "cell_type": "code",
   "execution_count": 22,
   "metadata": {
    "colab": {
     "base_uri": "https://localhost:8080/"
    },
    "executionInfo": {
     "elapsed": 35,
     "status": "ok",
     "timestamp": 1624894134635,
     "user": {
      "displayName": "ANIRBAN CHOWDHURY",
      "photoUrl": "",
      "userId": "14546601893545644003"
     },
     "user_tz": -330
    },
    "id": "_XwkmFjugLBC",
    "outputId": "282f488d-1c28-4983-a987-ed224b4d7c41"
   },
   "outputs": [
    {
     "data": {
      "text/plain": [
       "Serial No.            0\n",
       "GRE_Score            15\n",
       "TOEFL_Score          10\n",
       "University_Rating    15\n",
       "SOP                   0\n",
       "LOR                   0\n",
       "CGPA                  0\n",
       "Research              0\n",
       "Chance_of_Admit       0\n",
       "dtype: int64"
      ]
     },
     "execution_count": 22,
     "metadata": {},
     "output_type": "execute_result"
    }
   ],
   "source": [
    "## Checking missing values\n",
    "data.isnull().sum()"
   ]
  },
  {
   "cell_type": "code",
   "execution_count": 23,
   "metadata": {
    "executionInfo": {
     "elapsed": 33,
     "status": "ok",
     "timestamp": 1624894134637,
     "user": {
      "displayName": "ANIRBAN CHOWDHURY",
      "photoUrl": "",
      "userId": "14546601893545644003"
     },
     "user_tz": -330
    },
    "id": "AC_9NnQ3gLBD"
   },
   "outputs": [],
   "source": [
    "## Imputing the missing values \n",
    "## Since GRE score,TOEFL score has shown normal distribution so mean can be better substitute to impute missing values.\n",
    "## University rating is ordinal data so mode imputation can be used."
   ]
  },
  {
   "cell_type": "code",
   "execution_count": 24,
   "metadata": {
    "colab": {
     "base_uri": "https://localhost:8080/",
     "height": 129
    },
    "executionInfo": {
     "elapsed": 901,
     "status": "error",
     "timestamp": 1624894135506,
     "user": {
      "displayName": "ANIRBAN CHOWDHURY",
      "photoUrl": "",
      "userId": "14546601893545644003"
     },
     "user_tz": -330
    },
    "id": "xVzw0sKLgLBD",
    "outputId": "fbe70b44-b50b-45c8-f2c5-71b86631c8ab"
   },
   "outputs": [],
   "source": [
    "## Getting the rows where values got missed\n",
    "#data.loc[data['GRE_Score'].isnull()==True"
   ]
  },
  {
   "cell_type": "code",
   "execution_count": 25,
   "metadata": {},
   "outputs": [
    {
     "data": {
      "text/html": [
       "<div>\n",
       "<style scoped>\n",
       "    .dataframe tbody tr th:only-of-type {\n",
       "        vertical-align: middle;\n",
       "    }\n",
       "\n",
       "    .dataframe tbody tr th {\n",
       "        vertical-align: top;\n",
       "    }\n",
       "\n",
       "    .dataframe thead th {\n",
       "        text-align: right;\n",
       "    }\n",
       "</style>\n",
       "<table border=\"1\" class=\"dataframe\">\n",
       "  <thead>\n",
       "    <tr style=\"text-align: right;\">\n",
       "      <th></th>\n",
       "      <th>Serial No.</th>\n",
       "      <th>GRE_Score</th>\n",
       "      <th>TOEFL_Score</th>\n",
       "      <th>University_Rating</th>\n",
       "      <th>SOP</th>\n",
       "      <th>LOR</th>\n",
       "      <th>CGPA</th>\n",
       "      <th>Research</th>\n",
       "      <th>Chance_of_Admit</th>\n",
       "    </tr>\n",
       "  </thead>\n",
       "  <tbody>\n",
       "    <tr>\n",
       "      <th>0</th>\n",
       "      <td>1</td>\n",
       "      <td>337.0</td>\n",
       "      <td>118.0</td>\n",
       "      <td>4.0</td>\n",
       "      <td>4.5</td>\n",
       "      <td>4.5</td>\n",
       "      <td>9.65</td>\n",
       "      <td>1</td>\n",
       "      <td>0.92</td>\n",
       "    </tr>\n",
       "    <tr>\n",
       "      <th>1</th>\n",
       "      <td>2</td>\n",
       "      <td>324.0</td>\n",
       "      <td>107.0</td>\n",
       "      <td>4.0</td>\n",
       "      <td>4.0</td>\n",
       "      <td>4.5</td>\n",
       "      <td>8.87</td>\n",
       "      <td>1</td>\n",
       "      <td>0.76</td>\n",
       "    </tr>\n",
       "    <tr>\n",
       "      <th>2</th>\n",
       "      <td>3</td>\n",
       "      <td>NaN</td>\n",
       "      <td>104.0</td>\n",
       "      <td>3.0</td>\n",
       "      <td>3.0</td>\n",
       "      <td>3.5</td>\n",
       "      <td>8.00</td>\n",
       "      <td>1</td>\n",
       "      <td>0.72</td>\n",
       "    </tr>\n",
       "    <tr>\n",
       "      <th>3</th>\n",
       "      <td>4</td>\n",
       "      <td>322.0</td>\n",
       "      <td>110.0</td>\n",
       "      <td>3.0</td>\n",
       "      <td>3.5</td>\n",
       "      <td>2.5</td>\n",
       "      <td>8.67</td>\n",
       "      <td>1</td>\n",
       "      <td>0.80</td>\n",
       "    </tr>\n",
       "    <tr>\n",
       "      <th>4</th>\n",
       "      <td>5</td>\n",
       "      <td>314.0</td>\n",
       "      <td>103.0</td>\n",
       "      <td>2.0</td>\n",
       "      <td>2.0</td>\n",
       "      <td>3.0</td>\n",
       "      <td>8.21</td>\n",
       "      <td>0</td>\n",
       "      <td>0.65</td>\n",
       "    </tr>\n",
       "  </tbody>\n",
       "</table>\n",
       "</div>"
      ],
      "text/plain": [
       "   Serial No.  GRE_Score  TOEFL_Score  University_Rating  SOP  LOR  CGPA  \\\n",
       "0           1      337.0        118.0                4.0  4.5  4.5  9.65   \n",
       "1           2      324.0        107.0                4.0  4.0  4.5  8.87   \n",
       "2           3        NaN        104.0                3.0  3.0  3.5  8.00   \n",
       "3           4      322.0        110.0                3.0  3.5  2.5  8.67   \n",
       "4           5      314.0        103.0                2.0  2.0  3.0  8.21   \n",
       "\n",
       "   Research  Chance_of_Admit  \n",
       "0         1             0.92  \n",
       "1         1             0.76  \n",
       "2         1             0.72  \n",
       "3         1             0.80  \n",
       "4         0             0.65  "
      ]
     },
     "execution_count": 25,
     "metadata": {},
     "output_type": "execute_result"
    }
   ],
   "source": [
    "data.head()"
   ]
  },
  {
   "cell_type": "code",
   "execution_count": 26,
   "metadata": {},
   "outputs": [
    {
     "data": {
      "text/plain": [
       "ModeResult(mode=array([3.]), count=array([154]))"
      ]
     },
     "execution_count": 26,
     "metadata": {},
     "output_type": "execute_result"
    }
   ],
   "source": [
    "from scipy import stats\n",
    "stats.mode(data.University_Rating)"
   ]
  },
  {
   "cell_type": "code",
   "execution_count": 27,
   "metadata": {
    "executionInfo": {
     "elapsed": 8,
     "status": "ok",
     "timestamp": 1624894146093,
     "user": {
      "displayName": "ANIRBAN CHOWDHURY",
      "photoUrl": "",
      "userId": "14546601893545644003"
     },
     "user_tz": -330
    },
    "id": "PatyR8FrgLBD"
   },
   "outputs": [],
   "source": [
    "## Impuation using inbuild method fillna.\n",
    "data['University_Rating'] = data['University_Rating'].fillna(data['University_Rating'].mode()[0])\n",
    "\n",
    "data['TOEFL_Score'] = data['TOEFL_Score'].fillna(data['TOEFL_Score'].mean())\n",
    "\n",
    "data['GRE_Score']  = data['GRE_Score'].fillna(data['GRE_Score'].mean())"
   ]
  },
  {
   "cell_type": "code",
   "execution_count": 28,
   "metadata": {
    "colab": {
     "base_uri": "https://localhost:8080/"
    },
    "executionInfo": {
     "elapsed": 7,
     "status": "ok",
     "timestamp": 1624894152333,
     "user": {
      "displayName": "ANIRBAN CHOWDHURY",
      "photoUrl": "",
      "userId": "14546601893545644003"
     },
     "user_tz": -330
    },
    "id": "nQjLNvUTgLBD",
    "outputId": "f5037b9e-de81-4628-d26d-93dea4b062a0"
   },
   "outputs": [
    {
     "data": {
      "text/plain": [
       "Serial No.           0\n",
       "GRE_Score            0\n",
       "TOEFL_Score          0\n",
       "University_Rating    0\n",
       "SOP                  0\n",
       "LOR                  0\n",
       "CGPA                 0\n",
       "Research             0\n",
       "Chance_of_Admit      0\n",
       "dtype: int64"
      ]
     },
     "execution_count": 28,
     "metadata": {},
     "output_type": "execute_result"
    }
   ],
   "source": [
    "data.isnull().sum()"
   ]
  },
  {
   "cell_type": "code",
   "execution_count": 29,
   "metadata": {
    "executionInfo": {
     "elapsed": 865,
     "status": "aborted",
     "timestamp": 1624894135476,
     "user": {
      "displayName": "ANIRBAN CHOWDHURY",
      "photoUrl": "",
      "userId": "14546601893545644003"
     },
     "user_tz": -330
    },
    "id": "HO3Mvbe5gLBE"
   },
   "outputs": [
    {
     "data": {
      "text/plain": [
       "Index(['Serial No.', 'GRE_Score', 'TOEFL_Score', 'University_Rating', 'SOP',\n",
       "       'LOR', 'CGPA', 'Research', 'Chance_of_Admit'],\n",
       "      dtype='object')"
      ]
     },
     "execution_count": 29,
     "metadata": {},
     "output_type": "execute_result"
    }
   ],
   "source": [
    "data.columns"
   ]
  },
  {
   "cell_type": "markdown",
   "metadata": {},
   "source": [
    "# checking for outlier "
   ]
  },
  {
   "cell_type": "code",
   "execution_count": 30,
   "metadata": {
    "colab": {
     "base_uri": "https://localhost:8080/",
     "height": 615
    },
    "executionInfo": {
     "elapsed": 1070,
     "status": "ok",
     "timestamp": 1624894154142,
     "user": {
      "displayName": "ANIRBAN CHOWDHURY",
      "photoUrl": "",
      "userId": "14546601893545644003"
     },
     "user_tz": -330
    },
    "id": "Mt1X_XjrgLBE",
    "outputId": "9a5e5720-4f02-49eb-d923-c525a48dfa33"
   },
   "outputs": [
    {
     "data": {
      "image/png": "[encoded data removed]",
      "text/plain": [
       "<Figure size 360x720 with 3 Axes>"
      ]
     },
     "metadata": {},
     "output_type": "display_data"
    }
   ],
   "source": [
    "## Lets check outliers in any\n",
    "box=data[['GRE_Score', 'TOEFL_Score','CGPA']]\n",
    "plt.figure(figsize=(5,10), facecolor='white')#to sey canvas size\n",
    "plotnumber = 1#counter\n",
    "\n",
    "for column in box:#acc\n",
    "    if plotnumber<=6 : # as there are 9 columns in the data\n",
    "        ax = plt.subplot(3,1,plotnumber)#plotting 3 graphs\n",
    "        sns.boxplot(x=box[column])#boxplot to check for outlier\n",
    "        plt.xlabel(column,fontsize=20)#assign name to x-axis and set font-20\n",
    "        #plt.ylabel('Salary',fontsize=20)\n",
    "    plotnumber+=1#counter increment \n",
    "plt.show()#to show plot"
   ]
  },
  {
   "cell_type": "code",
   "execution_count": 31,
   "metadata": {
    "executionInfo": {
     "elapsed": 865,
     "status": "aborted",
     "timestamp": 1624894135477,
     "user": {
      "displayName": "ANIRBAN CHOWDHURY",
      "photoUrl": "",
      "userId": "14546601893545644003"
     },
     "user_tz": -330
    },
    "id": "eZDUz3augLBE"
   },
   "outputs": [],
   "source": [
    "## There seems to be no outliers"
   ]
  },
  {
   "cell_type": "code",
   "execution_count": 32,
   "metadata": {
    "executionInfo": {
     "elapsed": 865,
     "status": "aborted",
     "timestamp": 1624894135478,
     "user": {
      "displayName": "ANIRBAN CHOWDHURY",
      "photoUrl": "",
      "userId": "14546601893545644003"
     },
     "user_tz": -330
    },
    "id": "a9s1oJNagLBF",
    "scrolled": true
   },
   "outputs": [
    {
     "name": "stdout",
     "output_type": "stream",
     "text": [
      "-0.05231732520434785 GRE_Score\n",
      "0.1027880861342189 TOEFL_Score\n",
      "-0.02653261314181717 CGPA\n"
     ]
    }
   ],
   "source": [
    "## Skweness and Kurtosis test i.e check for normality\n",
    "from scipy import stats\n",
    "for column in box:\n",
    "    print(stats.skew(box[column]),column)"
   ]
  },
  {
   "cell_type": "code",
   "execution_count": 33,
   "metadata": {
    "executionInfo": {
     "elapsed": 865,
     "status": "aborted",
     "timestamp": 1624894135479,
     "user": {
      "displayName": "ANIRBAN CHOWDHURY",
      "photoUrl": "",
      "userId": "14546601893545644003"
     },
     "user_tz": -330
    },
    "id": "FpNopgQfgLBF"
   },
   "outputs": [
    {
     "name": "stdout",
     "output_type": "stream",
     "text": [
      "-0.6183261354443954 GRE_Score\n",
      "-0.6224728502117052 TOEFL_Score\n",
      "-0.5676573553864674 CGPA\n"
     ]
    }
   ],
   "source": [
    "for column in box:\n",
    "    print(stats.kurtosis(box[column]),column)"
   ]
  },
  {
   "cell_type": "code",
   "execution_count": 34,
   "metadata": {
    "executionInfo": {
     "elapsed": 865,
     "status": "aborted",
     "timestamp": 1624894135479,
     "user": {
      "displayName": "ANIRBAN CHOWDHURY",
      "photoUrl": "",
      "userId": "14546601893545644003"
     },
     "user_tz": -330
    },
    "id": "prYQurhngLBF"
   },
   "outputs": [
    {
     "data": {
      "text/html": [
       "<div>\n",
       "<style scoped>\n",
       "    .dataframe tbody tr th:only-of-type {\n",
       "        vertical-align: middle;\n",
       "    }\n",
       "\n",
       "    .dataframe tbody tr th {\n",
       "        vertical-align: top;\n",
       "    }\n",
       "\n",
       "    .dataframe thead th {\n",
       "        text-align: right;\n",
       "    }\n",
       "</style>\n",
       "<table border=\"1\" class=\"dataframe\">\n",
       "  <thead>\n",
       "    <tr style=\"text-align: right;\">\n",
       "      <th></th>\n",
       "      <th>Serial No.</th>\n",
       "      <th>GRE_Score</th>\n",
       "      <th>TOEFL_Score</th>\n",
       "      <th>University_Rating</th>\n",
       "      <th>SOP</th>\n",
       "      <th>LOR</th>\n",
       "      <th>CGPA</th>\n",
       "      <th>Research</th>\n",
       "      <th>Chance_of_Admit</th>\n",
       "    </tr>\n",
       "  </thead>\n",
       "  <tbody>\n",
       "    <tr>\n",
       "      <th>0</th>\n",
       "      <td>1</td>\n",
       "      <td>337.000000</td>\n",
       "      <td>118.0</td>\n",
       "      <td>4.0</td>\n",
       "      <td>4.5</td>\n",
       "      <td>4.5</td>\n",
       "      <td>9.65</td>\n",
       "      <td>1</td>\n",
       "      <td>0.92</td>\n",
       "    </tr>\n",
       "    <tr>\n",
       "      <th>1</th>\n",
       "      <td>2</td>\n",
       "      <td>324.000000</td>\n",
       "      <td>107.0</td>\n",
       "      <td>4.0</td>\n",
       "      <td>4.0</td>\n",
       "      <td>4.5</td>\n",
       "      <td>8.87</td>\n",
       "      <td>1</td>\n",
       "      <td>0.76</td>\n",
       "    </tr>\n",
       "    <tr>\n",
       "      <th>2</th>\n",
       "      <td>3</td>\n",
       "      <td>316.558763</td>\n",
       "      <td>104.0</td>\n",
       "      <td>3.0</td>\n",
       "      <td>3.0</td>\n",
       "      <td>3.5</td>\n",
       "      <td>8.00</td>\n",
       "      <td>1</td>\n",
       "      <td>0.72</td>\n",
       "    </tr>\n",
       "    <tr>\n",
       "      <th>3</th>\n",
       "      <td>4</td>\n",
       "      <td>322.000000</td>\n",
       "      <td>110.0</td>\n",
       "      <td>3.0</td>\n",
       "      <td>3.5</td>\n",
       "      <td>2.5</td>\n",
       "      <td>8.67</td>\n",
       "      <td>1</td>\n",
       "      <td>0.80</td>\n",
       "    </tr>\n",
       "    <tr>\n",
       "      <th>4</th>\n",
       "      <td>5</td>\n",
       "      <td>314.000000</td>\n",
       "      <td>103.0</td>\n",
       "      <td>2.0</td>\n",
       "      <td>2.0</td>\n",
       "      <td>3.0</td>\n",
       "      <td>8.21</td>\n",
       "      <td>0</td>\n",
       "      <td>0.65</td>\n",
       "    </tr>\n",
       "  </tbody>\n",
       "</table>\n",
       "</div>"
      ],
      "text/plain": [
       "   Serial No.   GRE_Score  TOEFL_Score  University_Rating  SOP  LOR  CGPA  \\\n",
       "0           1  337.000000        118.0                4.0  4.5  4.5  9.65   \n",
       "1           2  324.000000        107.0                4.0  4.0  4.5  8.87   \n",
       "2           3  316.558763        104.0                3.0  3.0  3.5  8.00   \n",
       "3           4  322.000000        110.0                3.0  3.5  2.5  8.67   \n",
       "4           5  314.000000        103.0                2.0  2.0  3.0  8.21   \n",
       "\n",
       "   Research  Chance_of_Admit  \n",
       "0         1             0.92  \n",
       "1         1             0.76  \n",
       "2         1             0.72  \n",
       "3         1             0.80  \n",
       "4         0             0.65  "
      ]
     },
     "execution_count": 34,
     "metadata": {},
     "output_type": "execute_result"
    }
   ],
   "source": [
    "data.head()"
   ]
  },
  {
   "cell_type": "code",
   "execution_count": 35,
   "metadata": {
    "executionInfo": {
     "elapsed": 865,
     "status": "aborted",
     "timestamp": 1624894135480,
     "user": {
      "displayName": "ANIRBAN CHOWDHURY",
      "photoUrl": "",
      "userId": "14546601893545644003"
     },
     "user_tz": -330
    },
    "id": "xW1RxCSagLBF"
   },
   "outputs": [],
   "source": [
    "## Scaling the data.As we will implement linear regression so we need to make all numerical features into same sacle.\n",
    "## From the EDA stage we have found all numericla variables are normally distributed so we can apply \n",
    "## Standard scaler."
   ]
  },
  {
   "cell_type": "code",
   "execution_count": 36,
   "metadata": {
    "executionInfo": {
     "elapsed": 866,
     "status": "aborted",
     "timestamp": 1624894135481,
     "user": {
      "displayName": "ANIRBAN CHOWDHURY",
      "photoUrl": "",
      "userId": "14546601893545644003"
     },
     "user_tz": -330
    },
    "id": "CIVRkHkFgLBG"
   },
   "outputs": [],
   "source": [
    "from sklearn.preprocessing import StandardScaler\n",
    "sc=StandardScaler() ## object creation\n",
    "data[['GRE_Score', 'TOEFL_Score','CGPA']]= sc.fit_transform(data[['GRE_Score', 'TOEFL_Score','CGPA']])"
   ]
  },
  {
   "cell_type": "code",
   "execution_count": 37,
   "metadata": {
    "executionInfo": {
     "elapsed": 867,
     "status": "aborted",
     "timestamp": 1624894135482,
     "user": {
      "displayName": "ANIRBAN CHOWDHURY",
      "photoUrl": "",
      "userId": "14546601893545644003"
     },
     "user_tz": -330
    },
    "id": "EfT3MJNxgLBG"
   },
   "outputs": [
    {
     "data": {
      "text/html": [
       "<div>\n",
       "<style scoped>\n",
       "    .dataframe tbody tr th:only-of-type {\n",
       "        vertical-align: middle;\n",
       "    }\n",
       "\n",
       "    .dataframe tbody tr th {\n",
       "        vertical-align: top;\n",
       "    }\n",
       "\n",
       "    .dataframe thead th {\n",
       "        text-align: right;\n",
       "    }\n",
       "</style>\n",
       "<table border=\"1\" class=\"dataframe\">\n",
       "  <thead>\n",
       "    <tr style=\"text-align: right;\">\n",
       "      <th></th>\n",
       "      <th>Serial No.</th>\n",
       "      <th>GRE_Score</th>\n",
       "      <th>TOEFL_Score</th>\n",
       "      <th>University_Rating</th>\n",
       "      <th>SOP</th>\n",
       "      <th>LOR</th>\n",
       "      <th>CGPA</th>\n",
       "      <th>Research</th>\n",
       "      <th>Chance_of_Admit</th>\n",
       "    </tr>\n",
       "  </thead>\n",
       "  <tbody>\n",
       "    <tr>\n",
       "      <th>0</th>\n",
       "      <td>1</td>\n",
       "      <td>1.842741e+00</td>\n",
       "      <td>1.788542</td>\n",
       "      <td>4.0</td>\n",
       "      <td>4.5</td>\n",
       "      <td>4.5</td>\n",
       "      <td>1.776806</td>\n",
       "      <td>1</td>\n",
       "      <td>0.92</td>\n",
       "    </tr>\n",
       "    <tr>\n",
       "      <th>1</th>\n",
       "      <td>2</td>\n",
       "      <td>6.708143e-01</td>\n",
       "      <td>-0.031058</td>\n",
       "      <td>4.0</td>\n",
       "      <td>4.0</td>\n",
       "      <td>4.5</td>\n",
       "      <td>0.485859</td>\n",
       "      <td>1</td>\n",
       "      <td>0.76</td>\n",
       "    </tr>\n",
       "    <tr>\n",
       "      <th>2</th>\n",
       "      <td>3</td>\n",
       "      <td>5.124333e-15</td>\n",
       "      <td>-0.527313</td>\n",
       "      <td>3.0</td>\n",
       "      <td>3.0</td>\n",
       "      <td>3.5</td>\n",
       "      <td>-0.954043</td>\n",
       "      <td>1</td>\n",
       "      <td>0.72</td>\n",
       "    </tr>\n",
       "    <tr>\n",
       "      <th>3</th>\n",
       "      <td>4</td>\n",
       "      <td>4.905178e-01</td>\n",
       "      <td>0.465197</td>\n",
       "      <td>3.0</td>\n",
       "      <td>3.5</td>\n",
       "      <td>2.5</td>\n",
       "      <td>0.154847</td>\n",
       "      <td>1</td>\n",
       "      <td>0.80</td>\n",
       "    </tr>\n",
       "    <tr>\n",
       "      <th>4</th>\n",
       "      <td>5</td>\n",
       "      <td>-2.306679e-01</td>\n",
       "      <td>-0.692731</td>\n",
       "      <td>2.0</td>\n",
       "      <td>2.0</td>\n",
       "      <td>3.0</td>\n",
       "      <td>-0.606480</td>\n",
       "      <td>0</td>\n",
       "      <td>0.65</td>\n",
       "    </tr>\n",
       "  </tbody>\n",
       "</table>\n",
       "</div>"
      ],
      "text/plain": [
       "   Serial No.     GRE_Score  TOEFL_Score  University_Rating  SOP  LOR  \\\n",
       "0           1  1.842741e+00     1.788542                4.0  4.5  4.5   \n",
       "1           2  6.708143e-01    -0.031058                4.0  4.0  4.5   \n",
       "2           3  5.124333e-15    -0.527313                3.0  3.0  3.5   \n",
       "3           4  4.905178e-01     0.465197                3.0  3.5  2.5   \n",
       "4           5 -2.306679e-01    -0.692731                2.0  2.0  3.0   \n",
       "\n",
       "       CGPA  Research  Chance_of_Admit  \n",
       "0  1.776806         1             0.92  \n",
       "1  0.485859         1             0.76  \n",
       "2 -0.954043         1             0.72  \n",
       "3  0.154847         1             0.80  \n",
       "4 -0.606480         0             0.65  "
      ]
     },
     "execution_count": 37,
     "metadata": {},
     "output_type": "execute_result"
    }
   ],
   "source": [
    "data.head()"
   ]
  },
  {
   "cell_type": "markdown",
   "metadata": {
    "id": "NuwqpI68gLBG"
   },
   "source": [
    "## Feature Selection"
   ]
  },
  {
   "cell_type": "code",
   "execution_count": 38,
   "metadata": {
    "executionInfo": {
     "elapsed": 868,
     "status": "aborted",
     "timestamp": 1624894135483,
     "user": {
      "displayName": "ANIRBAN CHOWDHURY",
      "photoUrl": "",
      "userId": "14546601893545644003"
     },
     "user_tz": -330
    },
    "id": "cdMPps4_gLBH"
   },
   "outputs": [],
   "source": [
    "## Feature selection is done to get that specific features which are important to predict the \n",
    "## the target varaible.\n",
    "\n",
    "## First remove the redundant colunms i.e serial no,customer id,ids\n",
    "## In second step remove constant columns,the columns not providing information.\n",
    "## i.e standard deviation=0"
   ]
  },
  {
   "cell_type": "code",
   "execution_count": 39,
   "metadata": {
    "executionInfo": {
     "elapsed": 868,
     "status": "aborted",
     "timestamp": 1624894135484,
     "user": {
      "displayName": "ANIRBAN CHOWDHURY",
      "photoUrl": "",
      "userId": "14546601893545644003"
     },
     "user_tz": -330
    },
    "id": "lVQNsVjrgLBH"
   },
   "outputs": [],
   "source": [
    "## Dropping columns that are not required\n",
    "data.drop(['Serial No.'],axis=1,inplace=True)"
   ]
  },
  {
   "cell_type": "code",
   "execution_count": 40,
   "metadata": {
    "executionInfo": {
     "elapsed": 868,
     "status": "aborted",
     "timestamp": 1624894135484,
     "user": {
      "displayName": "ANIRBAN CHOWDHURY",
      "photoUrl": "",
      "userId": "14546601893545644003"
     },
     "user_tz": -330
    },
    "id": "8eJmSvCIgLBH"
   },
   "outputs": [
    {
     "data": {
      "text/html": [
       "<div>\n",
       "<style scoped>\n",
       "    .dataframe tbody tr th:only-of-type {\n",
       "        vertical-align: middle;\n",
       "    }\n",
       "\n",
       "    .dataframe tbody tr th {\n",
       "        vertical-align: top;\n",
       "    }\n",
       "\n",
       "    .dataframe thead th {\n",
       "        text-align: right;\n",
       "    }\n",
       "</style>\n",
       "<table border=\"1\" class=\"dataframe\">\n",
       "  <thead>\n",
       "    <tr style=\"text-align: right;\">\n",
       "      <th></th>\n",
       "      <th>GRE_Score</th>\n",
       "      <th>TOEFL_Score</th>\n",
       "      <th>University_Rating</th>\n",
       "      <th>SOP</th>\n",
       "      <th>LOR</th>\n",
       "      <th>CGPA</th>\n",
       "      <th>Research</th>\n",
       "      <th>Chance_of_Admit</th>\n",
       "    </tr>\n",
       "  </thead>\n",
       "  <tbody>\n",
       "    <tr>\n",
       "      <th>0</th>\n",
       "      <td>1.842741e+00</td>\n",
       "      <td>1.788542</td>\n",
       "      <td>4.0</td>\n",
       "      <td>4.5</td>\n",
       "      <td>4.5</td>\n",
       "      <td>1.776806</td>\n",
       "      <td>1</td>\n",
       "      <td>0.92</td>\n",
       "    </tr>\n",
       "    <tr>\n",
       "      <th>1</th>\n",
       "      <td>6.708143e-01</td>\n",
       "      <td>-0.031058</td>\n",
       "      <td>4.0</td>\n",
       "      <td>4.0</td>\n",
       "      <td>4.5</td>\n",
       "      <td>0.485859</td>\n",
       "      <td>1</td>\n",
       "      <td>0.76</td>\n",
       "    </tr>\n",
       "    <tr>\n",
       "      <th>2</th>\n",
       "      <td>5.124333e-15</td>\n",
       "      <td>-0.527313</td>\n",
       "      <td>3.0</td>\n",
       "      <td>3.0</td>\n",
       "      <td>3.5</td>\n",
       "      <td>-0.954043</td>\n",
       "      <td>1</td>\n",
       "      <td>0.72</td>\n",
       "    </tr>\n",
       "    <tr>\n",
       "      <th>3</th>\n",
       "      <td>4.905178e-01</td>\n",
       "      <td>0.465197</td>\n",
       "      <td>3.0</td>\n",
       "      <td>3.5</td>\n",
       "      <td>2.5</td>\n",
       "      <td>0.154847</td>\n",
       "      <td>1</td>\n",
       "      <td>0.80</td>\n",
       "    </tr>\n",
       "    <tr>\n",
       "      <th>4</th>\n",
       "      <td>-2.306679e-01</td>\n",
       "      <td>-0.692731</td>\n",
       "      <td>2.0</td>\n",
       "      <td>2.0</td>\n",
       "      <td>3.0</td>\n",
       "      <td>-0.606480</td>\n",
       "      <td>0</td>\n",
       "      <td>0.65</td>\n",
       "    </tr>\n",
       "  </tbody>\n",
       "</table>\n",
       "</div>"
      ],
      "text/plain": [
       "      GRE_Score  TOEFL_Score  University_Rating  SOP  LOR      CGPA  Research  \\\n",
       "0  1.842741e+00     1.788542                4.0  4.5  4.5  1.776806         1   \n",
       "1  6.708143e-01    -0.031058                4.0  4.0  4.5  0.485859         1   \n",
       "2  5.124333e-15    -0.527313                3.0  3.0  3.5 -0.954043         1   \n",
       "3  4.905178e-01     0.465197                3.0  3.5  2.5  0.154847         1   \n",
       "4 -2.306679e-01    -0.692731                2.0  2.0  3.0 -0.606480         0   \n",
       "\n",
       "   Chance_of_Admit  \n",
       "0             0.92  \n",
       "1             0.76  \n",
       "2             0.72  \n",
       "3             0.80  \n",
       "4             0.65  "
      ]
     },
     "execution_count": 40,
     "metadata": {},
     "output_type": "execute_result"
    }
   ],
   "source": [
    "data.head()"
   ]
  },
  {
   "cell_type": "code",
   "execution_count": 41,
   "metadata": {
    "executionInfo": {
     "elapsed": 869,
     "status": "aborted",
     "timestamp": 1624894135485,
     "user": {
      "displayName": "ANIRBAN CHOWDHURY",
      "photoUrl": "",
      "userId": "14546601893545644003"
     },
     "user_tz": -330
    },
    "id": "WdCMStczgLBH"
   },
   "outputs": [
    {
     "data": {
      "text/plain": [
       "<AxesSubplot:>"
      ]
     },
     "execution_count": 41,
     "metadata": {},
     "output_type": "execute_result"
    },
    {
     "data": {
      "image/png": "[encoded data removed]",
      "text/plain": [
       "<Figure size 432x288 with 2 Axes>"
      ]
     },
     "metadata": {
      "needs_background": "light"
     },
     "output_type": "display_data"
    }
   ],
   "source": [
    "## Third step is Checking correlation i.e checking the linear relation between 2 variables.\n",
    "sns.heatmap(data.drop('Chance_of_Admit',axis=1).corr(),annot=True)"
   ]
  },
  {
   "cell_type": "code",
   "execution_count": 42,
   "metadata": {
    "executionInfo": {
     "elapsed": 41,
     "status": "aborted",
     "timestamp": 1624894135495,
     "user": {
      "displayName": "ANIRBAN CHOWDHURY",
      "photoUrl": "",
      "userId": "14546601893545644003"
     },
     "user_tz": -330
    },
    "id": "2kGR7Z8tgLBI"
   },
   "outputs": [],
   "source": [
    "## There seems to be relationship between GRE and TOFEL score,CGPA however the relationship is not \n",
    "# that strong.So we will not drop further any features"
   ]
  },
  {
   "cell_type": "markdown",
   "metadata": {
    "id": "2TeEwZiYgLBI"
   },
   "source": [
    "## Model Building"
   ]
  },
  {
   "cell_type": "code",
   "execution_count": 43,
   "metadata": {
    "executionInfo": {
     "elapsed": 618,
     "status": "ok",
     "timestamp": 1624894166757,
     "user": {
      "displayName": "ANIRBAN CHOWDHURY",
      "photoUrl": "",
      "userId": "14546601893545644003"
     },
     "user_tz": -330
    },
    "id": "MbD___FQgLBI"
   },
   "outputs": [],
   "source": [
    "## Defining independent and dependent variables\n",
    "X=data.iloc[:,0:-1]\n",
    "y=data.Chance_of_Admit"
   ]
  },
  {
   "cell_type": "code",
   "execution_count": 44,
   "metadata": {
    "colab": {
     "base_uri": "https://localhost:8080/",
     "height": 204
    },
    "executionInfo": {
     "elapsed": 10,
     "status": "ok",
     "timestamp": 1624894168699,
     "user": {
      "displayName": "ANIRBAN CHOWDHURY",
      "photoUrl": "",
      "userId": "14546601893545644003"
     },
     "user_tz": -330
    },
    "id": "CxE8ixbogLBI",
    "outputId": "44211971-daeb-4a90-cdaf-5729afaaa9d3"
   },
   "outputs": [
    {
     "data": {
      "text/html": [
       "<div>\n",
       "<style scoped>\n",
       "    .dataframe tbody tr th:only-of-type {\n",
       "        vertical-align: middle;\n",
       "    }\n",
       "\n",
       "    .dataframe tbody tr th {\n",
       "        vertical-align: top;\n",
       "    }\n",
       "\n",
       "    .dataframe thead th {\n",
       "        text-align: right;\n",
       "    }\n",
       "</style>\n",
       "<table border=\"1\" class=\"dataframe\">\n",
       "  <thead>\n",
       "    <tr style=\"text-align: right;\">\n",
       "      <th></th>\n",
       "      <th>GRE_Score</th>\n",
       "      <th>TOEFL_Score</th>\n",
       "      <th>University_Rating</th>\n",
       "      <th>SOP</th>\n",
       "      <th>LOR</th>\n",
       "      <th>CGPA</th>\n",
       "      <th>Research</th>\n",
       "      <th>Chance_of_Admit</th>\n",
       "    </tr>\n",
       "  </thead>\n",
       "  <tbody>\n",
       "    <tr>\n",
       "      <th>0</th>\n",
       "      <td>1.842741e+00</td>\n",
       "      <td>1.788542</td>\n",
       "      <td>4.0</td>\n",
       "      <td>4.5</td>\n",
       "      <td>4.5</td>\n",
       "      <td>1.776806</td>\n",
       "      <td>1</td>\n",
       "      <td>0.92</td>\n",
       "    </tr>\n",
       "    <tr>\n",
       "      <th>1</th>\n",
       "      <td>6.708143e-01</td>\n",
       "      <td>-0.031058</td>\n",
       "      <td>4.0</td>\n",
       "      <td>4.0</td>\n",
       "      <td>4.5</td>\n",
       "      <td>0.485859</td>\n",
       "      <td>1</td>\n",
       "      <td>0.76</td>\n",
       "    </tr>\n",
       "    <tr>\n",
       "      <th>2</th>\n",
       "      <td>5.124333e-15</td>\n",
       "      <td>-0.527313</td>\n",
       "      <td>3.0</td>\n",
       "      <td>3.0</td>\n",
       "      <td>3.5</td>\n",
       "      <td>-0.954043</td>\n",
       "      <td>1</td>\n",
       "      <td>0.72</td>\n",
       "    </tr>\n",
       "    <tr>\n",
       "      <th>3</th>\n",
       "      <td>4.905178e-01</td>\n",
       "      <td>0.465197</td>\n",
       "      <td>3.0</td>\n",
       "      <td>3.5</td>\n",
       "      <td>2.5</td>\n",
       "      <td>0.154847</td>\n",
       "      <td>1</td>\n",
       "      <td>0.80</td>\n",
       "    </tr>\n",
       "    <tr>\n",
       "      <th>4</th>\n",
       "      <td>-2.306679e-01</td>\n",
       "      <td>-0.692731</td>\n",
       "      <td>2.0</td>\n",
       "      <td>2.0</td>\n",
       "      <td>3.0</td>\n",
       "      <td>-0.606480</td>\n",
       "      <td>0</td>\n",
       "      <td>0.65</td>\n",
       "    </tr>\n",
       "  </tbody>\n",
       "</table>\n",
       "</div>"
      ],
      "text/plain": [
       "      GRE_Score  TOEFL_Score  University_Rating  SOP  LOR      CGPA  Research  \\\n",
       "0  1.842741e+00     1.788542                4.0  4.5  4.5  1.776806         1   \n",
       "1  6.708143e-01    -0.031058                4.0  4.0  4.5  0.485859         1   \n",
       "2  5.124333e-15    -0.527313                3.0  3.0  3.5 -0.954043         1   \n",
       "3  4.905178e-01     0.465197                3.0  3.5  2.5  0.154847         1   \n",
       "4 -2.306679e-01    -0.692731                2.0  2.0  3.0 -0.606480         0   \n",
       "\n",
       "   Chance_of_Admit  \n",
       "0             0.92  \n",
       "1             0.76  \n",
       "2             0.72  \n",
       "3             0.80  \n",
       "4             0.65  "
      ]
     },
     "execution_count": 44,
     "metadata": {},
     "output_type": "execute_result"
    }
   ],
   "source": [
    "data.head()"
   ]
  },
  {
   "cell_type": "code",
   "execution_count": 45,
   "metadata": {
    "executionInfo": {
     "elapsed": 4,
     "status": "ok",
     "timestamp": 1624894169254,
     "user": {
      "displayName": "ANIRBAN CHOWDHURY",
      "photoUrl": "",
      "userId": "14546601893545644003"
     },
     "user_tz": -330
    },
    "id": "EyKPASpNgLBJ"
   },
   "outputs": [],
   "source": [
    "X=data.iloc[:,0:7] ## independent variables\n",
    "y=data.Chance_of_Admit ## dependent or target variable."
   ]
  },
  {
   "cell_type": "code",
   "execution_count": 46,
   "metadata": {
    "colab": {
     "base_uri": "https://localhost:8080/"
    },
    "executionInfo": {
     "elapsed": 564,
     "status": "ok",
     "timestamp": 1624894171960,
     "user": {
      "displayName": "ANIRBAN CHOWDHURY",
      "photoUrl": "",
      "userId": "14546601893545644003"
     },
     "user_tz": -330
    },
    "id": "pvPN46E9gLBJ",
    "outputId": "dfb8bf1c-a480-44a8-f990-6bd7786cdfb0"
   },
   "outputs": [
    {
     "data": {
      "text/html": [
       "<div>\n",
       "<style scoped>\n",
       "    .dataframe tbody tr th:only-of-type {\n",
       "        vertical-align: middle;\n",
       "    }\n",
       "\n",
       "    .dataframe tbody tr th {\n",
       "        vertical-align: top;\n",
       "    }\n",
       "\n",
       "    .dataframe thead th {\n",
       "        text-align: right;\n",
       "    }\n",
       "</style>\n",
       "<table border=\"1\" class=\"dataframe\">\n",
       "  <thead>\n",
       "    <tr style=\"text-align: right;\">\n",
       "      <th></th>\n",
       "      <th>GRE_Score</th>\n",
       "      <th>TOEFL_Score</th>\n",
       "      <th>University_Rating</th>\n",
       "      <th>SOP</th>\n",
       "      <th>LOR</th>\n",
       "      <th>CGPA</th>\n",
       "      <th>Research</th>\n",
       "    </tr>\n",
       "  </thead>\n",
       "  <tbody>\n",
       "    <tr>\n",
       "      <th>0</th>\n",
       "      <td>1.842741e+00</td>\n",
       "      <td>1.788542</td>\n",
       "      <td>4.0</td>\n",
       "      <td>4.5</td>\n",
       "      <td>4.5</td>\n",
       "      <td>1.776806</td>\n",
       "      <td>1</td>\n",
       "    </tr>\n",
       "    <tr>\n",
       "      <th>1</th>\n",
       "      <td>6.708143e-01</td>\n",
       "      <td>-0.031058</td>\n",
       "      <td>4.0</td>\n",
       "      <td>4.0</td>\n",
       "      <td>4.5</td>\n",
       "      <td>0.485859</td>\n",
       "      <td>1</td>\n",
       "    </tr>\n",
       "    <tr>\n",
       "      <th>2</th>\n",
       "      <td>5.124333e-15</td>\n",
       "      <td>-0.527313</td>\n",
       "      <td>3.0</td>\n",
       "      <td>3.0</td>\n",
       "      <td>3.5</td>\n",
       "      <td>-0.954043</td>\n",
       "      <td>1</td>\n",
       "    </tr>\n",
       "    <tr>\n",
       "      <th>3</th>\n",
       "      <td>4.905178e-01</td>\n",
       "      <td>0.465197</td>\n",
       "      <td>3.0</td>\n",
       "      <td>3.5</td>\n",
       "      <td>2.5</td>\n",
       "      <td>0.154847</td>\n",
       "      <td>1</td>\n",
       "    </tr>\n",
       "    <tr>\n",
       "      <th>4</th>\n",
       "      <td>-2.306679e-01</td>\n",
       "      <td>-0.692731</td>\n",
       "      <td>2.0</td>\n",
       "      <td>2.0</td>\n",
       "      <td>3.0</td>\n",
       "      <td>-0.606480</td>\n",
       "      <td>0</td>\n",
       "    </tr>\n",
       "    <tr>\n",
       "      <th>...</th>\n",
       "      <td>...</td>\n",
       "      <td>...</td>\n",
       "      <td>...</td>\n",
       "      <td>...</td>\n",
       "      <td>...</td>\n",
       "      <td>...</td>\n",
       "      <td>...</td>\n",
       "    </tr>\n",
       "    <tr>\n",
       "      <th>495</th>\n",
       "      <td>1.392000e+00</td>\n",
       "      <td>0.134360</td>\n",
       "      <td>5.0</td>\n",
       "      <td>4.5</td>\n",
       "      <td>4.0</td>\n",
       "      <td>0.734118</td>\n",
       "      <td>1</td>\n",
       "    </tr>\n",
       "    <tr>\n",
       "      <th>496</th>\n",
       "      <td>1.842741e+00</td>\n",
       "      <td>1.623124</td>\n",
       "      <td>5.0</td>\n",
       "      <td>5.0</td>\n",
       "      <td>5.0</td>\n",
       "      <td>2.140919</td>\n",
       "      <td>1</td>\n",
       "    </tr>\n",
       "    <tr>\n",
       "      <th>497</th>\n",
       "      <td>1.211704e+00</td>\n",
       "      <td>2.119379</td>\n",
       "      <td>5.0</td>\n",
       "      <td>4.5</td>\n",
       "      <td>5.0</td>\n",
       "      <td>1.627851</td>\n",
       "      <td>1</td>\n",
       "    </tr>\n",
       "    <tr>\n",
       "      <th>498</th>\n",
       "      <td>-4.109644e-01</td>\n",
       "      <td>-0.692731</td>\n",
       "      <td>4.0</td>\n",
       "      <td>4.0</td>\n",
       "      <td>5.0</td>\n",
       "      <td>-0.242367</td>\n",
       "      <td>0</td>\n",
       "    </tr>\n",
       "    <tr>\n",
       "      <th>499</th>\n",
       "      <td>9.412590e-01</td>\n",
       "      <td>0.961451</td>\n",
       "      <td>4.0</td>\n",
       "      <td>4.5</td>\n",
       "      <td>4.5</td>\n",
       "      <td>0.767220</td>\n",
       "      <td>0</td>\n",
       "    </tr>\n",
       "  </tbody>\n",
       "</table>\n",
       "<p>500 rows × 7 columns</p>\n",
       "</div>"
      ],
      "text/plain": [
       "        GRE_Score  TOEFL_Score  University_Rating  SOP  LOR      CGPA  \\\n",
       "0    1.842741e+00     1.788542                4.0  4.5  4.5  1.776806   \n",
       "1    6.708143e-01    -0.031058                4.0  4.0  4.5  0.485859   \n",
       "2    5.124333e-15    -0.527313                3.0  3.0  3.5 -0.954043   \n",
       "3    4.905178e-01     0.465197                3.0  3.5  2.5  0.154847   \n",
       "4   -2.306679e-01    -0.692731                2.0  2.0  3.0 -0.606480   \n",
       "..            ...          ...                ...  ...  ...       ...   \n",
       "495  1.392000e+00     0.134360                5.0  4.5  4.0  0.734118   \n",
       "496  1.842741e+00     1.623124                5.0  5.0  5.0  2.140919   \n",
       "497  1.211704e+00     2.119379                5.0  4.5  5.0  1.627851   \n",
       "498 -4.109644e-01    -0.692731                4.0  4.0  5.0 -0.242367   \n",
       "499  9.412590e-01     0.961451                4.0  4.5  4.5  0.767220   \n",
       "\n",
       "     Research  \n",
       "0           1  \n",
       "1           1  \n",
       "2           1  \n",
       "3           1  \n",
       "4           0  \n",
       "..        ...  \n",
       "495         1  \n",
       "496         1  \n",
       "497         1  \n",
       "498         0  \n",
       "499         0  \n",
       "\n",
       "[500 rows x 7 columns]"
      ]
     },
     "execution_count": 46,
     "metadata": {},
     "output_type": "execute_result"
    }
   ],
   "source": [
    "X"
   ]
  },
  {
   "cell_type": "code",
   "execution_count": 47,
   "metadata": {
    "colab": {
     "base_uri": "https://localhost:8080/",
     "height": 316
    },
    "executionInfo": {
     "elapsed": 564,
     "status": "error",
     "timestamp": 1624894206021,
     "user": {
      "displayName": "ANIRBAN CHOWDHURY",
      "photoUrl": "",
      "userId": "14546601893545644003"
     },
     "user_tz": -330
    },
    "id": "gUbpueECgLBJ",
    "outputId": "fee12c18-d6fe-41a5-a8ad-61578151695a"
   },
   "outputs": [],
   "source": [
    "## Definiging training and testing data, on training data, model will be created.Now to evaluate the \n",
    "## model,testing data is required.However on production you will have unseen data\n",
    "from sklearn.model_selection import train_test_split\n",
    "X_train,X_test,y_train,y_test=train_test_split(X,y,test_size=0.25,random_state=42)\n"
   ]
  },
  {
   "cell_type": "code",
   "execution_count": 48,
   "metadata": {
    "executionInfo": {
     "elapsed": 40,
     "status": "aborted",
     "timestamp": 1624894135500,
     "user": {
      "displayName": "ANIRBAN CHOWDHURY",
      "photoUrl": "",
      "userId": "14546601893545644003"
     },
     "user_tz": -330
    },
    "id": "kvuOQ9qugLBJ"
   },
   "outputs": [],
   "source": [
    "## Model creation\n",
    "from sklearn.linear_model import LinearRegression ## importing the model library \n",
    "\n",
    "LR=LinearRegression() ## creating the model object \n",
    "LR.fit(X_train,y_train) ## fitting the training data.\n",
    "\n",
    "y_hat=LR.predict(X_test) ## prediciton from model"
   ]
  },
  {
   "cell_type": "code",
   "execution_count": 49,
   "metadata": {
    "executionInfo": {
     "elapsed": 39,
     "status": "aborted",
     "timestamp": 1624894135500,
     "user": {
      "displayName": "ANIRBAN CHOWDHURY",
      "photoUrl": "",
      "userId": "14546601893545644003"
     },
     "user_tz": -330
    },
    "id": "_RBgtmr9gLBK"
   },
   "outputs": [],
   "source": [
    "y_h=LR.predict(X_train)"
   ]
  },
  {
   "cell_type": "markdown",
   "metadata": {},
   "source": [
    "## Model Evaluation"
   ]
  },
  {
   "cell_type": "code",
   "execution_count": 50,
   "metadata": {
    "executionInfo": {
     "elapsed": 40,
     "status": "aborted",
     "timestamp": 1624894135501,
     "user": {
      "displayName": "ANIRBAN CHOWDHURY",
      "photoUrl": "",
      "userId": "14546601893545644003"
     },
     "user_tz": -330
    },
    "id": "uhPYPTdzgLBK"
   },
   "outputs": [
    {
     "data": {
      "text/plain": [
       "0.8205681087702013"
      ]
     },
     "execution_count": 50,
     "metadata": {},
     "output_type": "execute_result"
    }
   ],
   "source": [
    "\n",
    "from sklearn.metrics import r2_score, mean_squared_error, mean_absolute_error\n",
    "\n",
    "\n",
    "train_score=r2_score(y_train,y_h)\n",
    "train_score"
   ]
  },
  {
   "cell_type": "code",
   "execution_count": 51,
   "metadata": {
    "executionInfo": {
     "elapsed": 40,
     "status": "aborted",
     "timestamp": 1624894135502,
     "user": {
      "displayName": "ANIRBAN CHOWDHURY",
      "photoUrl": "",
      "userId": "14546601893545644003"
     },
     "user_tz": -330
    },
    "id": "5E36LvuJgLBK"
   },
   "outputs": [
    {
     "data": {
      "text/plain": [
       "0.8175156689543607"
      ]
     },
     "execution_count": 51,
     "metadata": {},
     "output_type": "execute_result"
    }
   ],
   "source": [
    "test_score=r2_score(y_test,y_hat)\n",
    "test_score"
   ]
  },
  {
   "cell_type": "code",
   "execution_count": 52,
   "metadata": {},
   "outputs": [
    {
     "name": "stdout",
     "output_type": "stream",
     "text": [
      "MSE:  0.0035624141465338\n",
      "MAE:  0.042864473899984684\n"
     ]
    }
   ],
   "source": [
    "# Mean Squared Error & Mean Absolute Error\n",
    "print(\"MSE: \", mean_squared_error(y_test, y_hat))\n",
    "print(\"MAE: \", mean_absolute_error(y_test, y_hat))"
   ]
  },
  {
   "cell_type": "code",
   "execution_count": 53,
   "metadata": {},
   "outputs": [
    {
     "name": "stdout",
     "output_type": "stream",
     "text": [
      "0.059685962726036344\n"
     ]
    }
   ],
   "source": [
    "# RMSE\n",
    "import math\n",
    "print(math.sqrt(mean_squared_error(y_test,y_hat))) # root mean squared error"
   ]
  },
  {
   "cell_type": "code",
   "execution_count": 54,
   "metadata": {
    "executionInfo": {
     "elapsed": 40,
     "status": "aborted",
     "timestamp": 1624894135502,
     "user": {
      "displayName": "ANIRBAN CHOWDHURY",
      "photoUrl": "",
      "userId": "14546601893545644003"
     },
     "user_tz": -330
    },
    "id": "tQnWvvvggLBK"
   },
   "outputs": [
    {
     "data": {
      "text/plain": [
       "((375, 7), (125, 7))"
      ]
     },
     "execution_count": 54,
     "metadata": {},
     "output_type": "execute_result"
    }
   ],
   "source": [
    "X_train.shape,X_test.shape"
   ]
  },
  {
   "cell_type": "code",
   "execution_count": 55,
   "metadata": {
    "executionInfo": {
     "elapsed": 40,
     "status": "aborted",
     "timestamp": 1624894135503,
     "user": {
      "displayName": "ANIRBAN CHOWDHURY",
      "photoUrl": "",
      "userId": "14546601893545644003"
     },
     "user_tz": -330
    },
    "id": "iDGAQNlIgLBL"
   },
   "outputs": [
    {
     "data": {
      "text/plain": [
       "0.816566757493188"
      ]
     },
     "execution_count": 55,
     "metadata": {},
     "output_type": "execute_result"
    }
   ],
   "source": [
    "## CHecking adjusted r2 score\n",
    "train_adjusted_r2 = 1-(1-0.82)*(375-1)/(375-7-1)\n",
    "train_adjusted_r2"
   ]
  },
  {
   "cell_type": "code",
   "execution_count": 56,
   "metadata": {
    "executionInfo": {
     "elapsed": 41,
     "status": "aborted",
     "timestamp": 1624894135504,
     "user": {
      "displayName": "ANIRBAN CHOWDHURY",
      "photoUrl": "",
      "userId": "14546601893545644003"
     },
     "user_tz": -330
    },
    "id": "ymgN6hhDgLBL"
   },
   "outputs": [
    {
     "data": {
      "text/plain": [
       "0.7986324786324787"
      ]
     },
     "execution_count": 56,
     "metadata": {},
     "output_type": "execute_result"
    }
   ],
   "source": [
    "test_adjusted_r2= 1-(1-0.81)*(125-1)/(125-7-1)\n",
    "test_adjusted_r2"
   ]
  },
  {
   "cell_type": "code",
   "execution_count": 57,
   "metadata": {
    "executionInfo": {
     "elapsed": 40,
     "status": "aborted",
     "timestamp": 1624894135504,
     "user": {
      "displayName": "ANIRBAN CHOWDHURY",
      "photoUrl": "",
      "userId": "14546601893545644003"
     },
     "user_tz": -330
    },
    "id": "_fSpGdmTgLBL"
   },
   "outputs": [
    {
     "name": "stdout",
     "output_type": "stream",
     "text": [
      "intercept: 0.6385880356223818\n"
     ]
    }
   ],
   "source": [
    "print('intercept:', LR.intercept_) ## c value"
   ]
  },
  {
   "cell_type": "code",
   "execution_count": 58,
   "metadata": {
    "executionInfo": {
     "elapsed": 41,
     "status": "aborted",
     "timestamp": 1624894135505,
     "user": {
      "displayName": "ANIRBAN CHOWDHURY",
      "photoUrl": "",
      "userId": "14546601893545644003"
     },
     "user_tz": -330
    },
    "id": "mkyDbcFfgLBM"
   },
   "outputs": [
    {
     "name": "stdout",
     "output_type": "stream",
     "text": [
      "slope: [0.02223197 0.01962726 0.00216471 0.0013331  0.01665794 0.07279768\n",
      " 0.02618398]\n"
     ]
    }
   ],
   "source": [
    "print('slope:', LR.coef_) ## m0,m1,m2,m3,m4,m5,m6"
   ]
  },
  {
   "cell_type": "markdown",
   "metadata": {},
   "source": [
    "**Assumptions of Linear Regression:**<br>\n",
    "    - Linearity: Linear relationship exist between dependent and independent variable. In case of non-linearity, use transformation such as logarthmic, exponential, square root etc <br>\n",
    "    - No multicollinearity: If there is multicollinearity its unclear which independent variable explains the dependent variable. <br>\n",
    "    - Errors are normally distributed. If not, then confidence interval may become too wide or narrow.\n",
    "\n",
    "**Pros:**<br>\n",
    "    - Simple method<br>\n",
    "    - Easy to use and understand<br>\n",
    "    \n",
    "**Cons**<br>\n",
    "    - Very sensitive to outliers : often leads to model with low accuracy<br>\n",
    "    - It performs well for linearly seperable datasets. So not recommended for most real world applications as it produces simplified results assuming linear relationship between the data."
   ]
  },
  {
   "cell_type": "code",
   "execution_count": null,
   "metadata": {},
   "outputs": [],
   "source": []
  }
 ],
 "metadata": {
  "colab": {
   "name": "Linear_Regression.ipynb",
   "provenance": []
  },
  "kernelspec": {
   "display_name": "Python 3",
   "language": "python",
   "name": "python3"
  },
  "language_info": {
   "codemirror_mode": {
    "name": "ipython",
    "version": 3
   },
   "file_extension": ".py",
   "mimetype": "text/x-python",
   "name": "python",
   "nbconvert_exporter": "python",
   "pygments_lexer": "ipython3",
   "version": "3.8.8"
  }
 },
 "nbformat": 4,
 "nbformat_minor": 1
}
