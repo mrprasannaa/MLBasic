{
  "nbformat": 4,
  "nbformat_minor": 0,
  "metadata": {
    "colab": {
      "name": "Untitled0.ipynb",
      "provenance": [],
      "authorship_tag": "ABX9TyOO+DF2oDR97+Y9IiW2n52A",
      "include_colab_link": true
    },
    "kernelspec": {
      "name": "python3",
      "display_name": "Python 3"
    }
  },
  "cells": [
    {
      "cell_type": "markdown",
      "metadata": {
        "id": "view-in-github",
        "colab_type": "text"
      },
      "source": [
        "<a href=\"https://colab.research.google.com/github/mrprasannaa/MLBasic/blob/main/SimpleLinearTest.ipynb\" target=\"_parent\"><img src=\"https://colab.research.google.com/assets/colab-badge.svg\" alt=\"Open In Colab\"/></a>"
      ]
    },
    {
      "cell_type": "markdown",
      "metadata": {
        "id": "jKs5_25VTjOs"
      },
      "source": [
        "Import Libraries"
      ]
    },
    {
      "cell_type": "code",
      "metadata": {
        "id": "cnsZBfWdPZHF"
      },
      "source": [
        "import numpy as np\r\n",
        "import pandas as pd\r\n",
        "import matplotlib.pyplot as plt"
      ],
      "execution_count": 62,
      "outputs": []
    },
    {
      "cell_type": "markdown",
      "metadata": {
        "id": "7_d-w7SaTnnR"
      },
      "source": [
        "Import DataSet"
      ]
    },
    {
      "cell_type": "code",
      "metadata": {
        "colab": {
          "base_uri": "https://localhost:8080/"
        },
        "id": "2IEBVJU1Pe-Z",
        "outputId": "eca57e0a-b157-4a9e-896d-02b736bfcd6f"
      },
      "source": [
        "url = 'https://raw.githubusercontent.com/mrprasannaa/MLBasic/main/Data.csv'\r\n",
        "url1 = 'https://raw.githubusercontent.com/mrprasannaa/MLBasic/main/Salary_Data.csv'\r\n",
        "dataset = pd.read_csv(url, error_bad_lines=False)\r\n",
        "x=dataset.iloc[:,:-1]\r\n",
        "y=dataset.iloc[:,-1]\r\n",
        "print(x)\r\n",
        "print(y)"
      ],
      "execution_count": 63,
      "outputs": [
        {
          "output_type": "stream",
          "text": [
            "   Country   Age   Salary\n",
            "0   France  44.0  72000.0\n",
            "1    Spain  27.0  48000.0\n",
            "2  Germany  30.0  54000.0\n",
            "3    Spain  38.0  61000.0\n",
            "4  Germany  40.0      NaN\n",
            "5   France  35.0  58000.0\n",
            "6    Spain   NaN  52000.0\n",
            "7   France  48.0  79000.0\n",
            "8  Germany  50.0  83000.0\n",
            "9   France  37.0  67000.0\n",
            "0     No\n",
            "1    Yes\n",
            "2     No\n",
            "3     No\n",
            "4    Yes\n",
            "5    Yes\n",
            "6     No\n",
            "7    Yes\n",
            "8     No\n",
            "9    Yes\n",
            "Name: Purchased, dtype: object\n"
          ],
          "name": "stdout"
        }
      ]
    },
    {
      "cell_type": "markdown",
      "metadata": {
        "id": "ICgvrMWvTqMC"
      },
      "source": [
        "Correct Missing Character"
      ]
    },
    {
      "cell_type": "code",
      "metadata": {
        "id": "uX74c5voPsls"
      },
      "source": [
        "from sklearn.impute import SimpleImputer\r\n",
        "imputer=SimpleImputer(missing_values=np.nan, strategy='mean')\r\n",
        "imputer.fit(x.iloc[:,1:3])\r\n",
        "x.iloc[:,1:3]=imputer.transform(x.iloc[:,1:3])"
      ],
      "execution_count": 64,
      "outputs": []
    },
    {
      "cell_type": "markdown",
      "metadata": {
        "id": "NfB6rWNgTvmK"
      },
      "source": [
        "Transform Independent variable"
      ]
    },
    {
      "cell_type": "code",
      "metadata": {
        "colab": {
          "base_uri": "https://localhost:8080/"
        },
        "id": "a2-oXfVsRAxy",
        "outputId": "5c8e81b1-2679-4887-82bf-611f3178cf8e"
      },
      "source": [
        "from sklearn.compose import ColumnTransformer\r\n",
        "from sklearn.preprocessing import OneHotEncoder\r\n",
        "ct=ColumnTransformer(transformers=[('encoder', OneHotEncoder(),[0])],remainder='passthrough')\r\n",
        "x=np.array(ct.fit_transform(x))\r\n",
        "print(x)"
      ],
      "execution_count": 65,
      "outputs": [
        {
          "output_type": "stream",
          "text": [
            "[[1.00000000e+00 0.00000000e+00 0.00000000e+00 4.40000000e+01\n",
            "  7.20000000e+04]\n",
            " [0.00000000e+00 0.00000000e+00 1.00000000e+00 2.70000000e+01\n",
            "  4.80000000e+04]\n",
            " [0.00000000e+00 1.00000000e+00 0.00000000e+00 3.00000000e+01\n",
            "  5.40000000e+04]\n",
            " [0.00000000e+00 0.00000000e+00 1.00000000e+00 3.80000000e+01\n",
            "  6.10000000e+04]\n",
            " [0.00000000e+00 1.00000000e+00 0.00000000e+00 4.00000000e+01\n",
            "  6.37777778e+04]\n",
            " [1.00000000e+00 0.00000000e+00 0.00000000e+00 3.50000000e+01\n",
            "  5.80000000e+04]\n",
            " [0.00000000e+00 0.00000000e+00 1.00000000e+00 3.87777778e+01\n",
            "  5.20000000e+04]\n",
            " [1.00000000e+00 0.00000000e+00 0.00000000e+00 4.80000000e+01\n",
            "  7.90000000e+04]\n",
            " [0.00000000e+00 1.00000000e+00 0.00000000e+00 5.00000000e+01\n",
            "  8.30000000e+04]\n",
            " [1.00000000e+00 0.00000000e+00 0.00000000e+00 3.70000000e+01\n",
            "  6.70000000e+04]]\n"
          ],
          "name": "stdout"
        }
      ]
    },
    {
      "cell_type": "markdown",
      "metadata": {
        "id": "P0u6FF3VT1gI"
      },
      "source": [
        "Transform Dependent Variables"
      ]
    },
    {
      "cell_type": "code",
      "metadata": {
        "colab": {
          "base_uri": "https://localhost:8080/"
        },
        "id": "J3YiXDODS_Ue",
        "outputId": "85e1750a-9285-4c0b-a52e-e80520a83216"
      },
      "source": [
        "from sklearn.preprocessing import LabelEncoder\r\n",
        "le = LabelEncoder()\r\n",
        "y=le.fit_transform(y)\r\n",
        "print(y)"
      ],
      "execution_count": 66,
      "outputs": [
        {
          "output_type": "stream",
          "text": [
            "[0 1 0 0 1 1 0 1 0 1]\n"
          ],
          "name": "stdout"
        }
      ]
    },
    {
      "cell_type": "markdown",
      "metadata": {
        "id": "A8GhxMw4T5pA"
      },
      "source": [
        "Split between Training & Test"
      ]
    },
    {
      "cell_type": "code",
      "metadata": {
        "colab": {
          "base_uri": "https://localhost:8080/"
        },
        "id": "SCwxzYObT9y3",
        "outputId": "c80e2ead-8d5e-47a1-9edc-20420c40fe5e"
      },
      "source": [
        "from sklearn.model_selection import train_test_split\r\n",
        "x_train,x_test,y_train,y_test = train_test_split(x,y,test_size=0.2, random_state = 1)\r\n",
        "print(x_train)\r\n",
        "print(y_train)\r\n",
        "print(x_test)\r\n",
        "print(y_test)"
      ],
      "execution_count": 67,
      "outputs": [
        {
          "output_type": "stream",
          "text": [
            "[[0.00000000e+00 0.00000000e+00 1.00000000e+00 3.87777778e+01\n",
            "  5.20000000e+04]\n",
            " [0.00000000e+00 1.00000000e+00 0.00000000e+00 4.00000000e+01\n",
            "  6.37777778e+04]\n",
            " [1.00000000e+00 0.00000000e+00 0.00000000e+00 4.40000000e+01\n",
            "  7.20000000e+04]\n",
            " [0.00000000e+00 0.00000000e+00 1.00000000e+00 3.80000000e+01\n",
            "  6.10000000e+04]\n",
            " [0.00000000e+00 0.00000000e+00 1.00000000e+00 2.70000000e+01\n",
            "  4.80000000e+04]\n",
            " [1.00000000e+00 0.00000000e+00 0.00000000e+00 4.80000000e+01\n",
            "  7.90000000e+04]\n",
            " [0.00000000e+00 1.00000000e+00 0.00000000e+00 5.00000000e+01\n",
            "  8.30000000e+04]\n",
            " [1.00000000e+00 0.00000000e+00 0.00000000e+00 3.50000000e+01\n",
            "  5.80000000e+04]]\n",
            "[0 1 0 0 1 1 0 1]\n",
            "[[0.0e+00 1.0e+00 0.0e+00 3.0e+01 5.4e+04]\n",
            " [1.0e+00 0.0e+00 0.0e+00 3.7e+01 6.7e+04]]\n",
            "[0 1]\n"
          ],
          "name": "stdout"
        }
      ]
    },
    {
      "cell_type": "code",
      "metadata": {
        "colab": {
          "base_uri": "https://localhost:8080/"
        },
        "id": "gG-3-khkV3Y3",
        "outputId": "517999d2-3d09-4956-910e-4b2533e735ce"
      },
      "source": [
        "from sklearn.linear_model import LinearRegression\r\n",
        "regresser = LinearRegression()\r\n",
        "regresser.fit(x_train,y_train)"
      ],
      "execution_count": 68,
      "outputs": [
        {
          "output_type": "execute_result",
          "data": {
            "text/plain": [
              "LinearRegression(copy_X=True, fit_intercept=True, n_jobs=None, normalize=False)"
            ]
          },
          "metadata": {
            "tags": []
          },
          "execution_count": 68
        }
      ]
    },
    {
      "cell_type": "code",
      "metadata": {
        "colab": {
          "base_uri": "https://localhost:8080/"
        },
        "id": "CdpqwqhWW60F",
        "outputId": "422ef522-a18b-4a1d-be20-480cb0dd6616"
      },
      "source": [
        "y_predict=regresser.predict(x_test)\r\n",
        "print(y_predict)\r\n",
        "print(y_test)\r\n",
        "print(x_test)"
      ],
      "execution_count": 69,
      "outputs": [
        {
          "output_type": "stream",
          "text": [
            "[1.45562581 1.06043181]\n",
            "[0 1]\n",
            "[[0.0e+00 1.0e+00 0.0e+00 3.0e+01 5.4e+04]\n",
            " [1.0e+00 0.0e+00 0.0e+00 3.7e+01 6.7e+04]]\n"
          ],
          "name": "stdout"
        }
      ]
    },
    {
      "cell_type": "code",
      "metadata": {
        "colab": {
          "base_uri": "https://localhost:8080/",
          "height": 470
        },
        "id": "3XheWMTicXdZ",
        "outputId": "2a487d3a-b1fc-4dfc-c7a3-1873212eea40"
      },
      "source": [
        "Country=input('enter country')\r\n",
        "age=input('enter age')\r\n",
        "sal=input('enter sal')\r\n",
        "ext_cal=[Country, age, sal]\r\n",
        "ext_cal=np.array(ext_cal)\r\n",
        "ext_cal=ext_cal.reshape(-1,1)\r\n",
        "#ext_cal=np.array(ct.fit_transform(ext_cal))\r\n",
        "\r\n",
        "ext_predict=regresser.predict(ext_cal)\r\n",
        "print(ext_cal)"
      ],
      "execution_count": 84,
      "outputs": [
        {
          "output_type": "stream",
          "text": [
            "enter countryfrance\n",
            "enter age30\n",
            "enter sal0033\n"
          ],
          "name": "stdout"
        },
        {
          "output_type": "stream",
          "text": [
            "/usr/local/lib/python3.6/dist-packages/sklearn/linear_model/_base.py:207: FutureWarning: Beginning in version 0.22, arrays of bytes/strings will be converted to decimal numbers if dtype='numeric'. It is recommended that you convert the array to a float dtype before using it in scikit-learn, for example by using your_array = your_array.astype(np.float64).\n",
            "  X = check_array(X, accept_sparse=['csr', 'csc', 'coo'])\n"
          ],
          "name": "stderr"
        },
        {
          "output_type": "error",
          "ename": "ValueError",
          "evalue": "ignored",
          "traceback": [
            "\u001b[0;31m---------------------------------------------------------------------------\u001b[0m",
            "\u001b[0;31mValueError\u001b[0m                                Traceback (most recent call last)",
            "\u001b[0;32m<ipython-input-84-2700987740c5>\u001b[0m in \u001b[0;36m<module>\u001b[0;34m()\u001b[0m\n\u001b[1;32m      7\u001b[0m \u001b[0;31m#ext_cal=np.array(ct.fit_transform(ext_cal))\u001b[0m\u001b[0;34m\u001b[0m\u001b[0;34m\u001b[0m\u001b[0;34m\u001b[0m\u001b[0m\n\u001b[1;32m      8\u001b[0m \u001b[0;34m\u001b[0m\u001b[0m\n\u001b[0;32m----> 9\u001b[0;31m \u001b[0mext_predict\u001b[0m\u001b[0;34m=\u001b[0m\u001b[0mregresser\u001b[0m\u001b[0;34m.\u001b[0m\u001b[0mpredict\u001b[0m\u001b[0;34m(\u001b[0m\u001b[0mext_cal\u001b[0m\u001b[0;34m)\u001b[0m\u001b[0;34m\u001b[0m\u001b[0;34m\u001b[0m\u001b[0m\n\u001b[0m\u001b[1;32m     10\u001b[0m \u001b[0mprint\u001b[0m\u001b[0;34m(\u001b[0m\u001b[0mext_cal\u001b[0m\u001b[0;34m)\u001b[0m\u001b[0;34m\u001b[0m\u001b[0;34m\u001b[0m\u001b[0m\n",
            "\u001b[0;32m/usr/local/lib/python3.6/dist-packages/sklearn/linear_model/_base.py\u001b[0m in \u001b[0;36mpredict\u001b[0;34m(self, X)\u001b[0m\n\u001b[1;32m    223\u001b[0m             \u001b[0mReturns\u001b[0m \u001b[0mpredicted\u001b[0m \u001b[0mvalues\u001b[0m\u001b[0;34m.\u001b[0m\u001b[0;34m\u001b[0m\u001b[0;34m\u001b[0m\u001b[0m\n\u001b[1;32m    224\u001b[0m         \"\"\"\n\u001b[0;32m--> 225\u001b[0;31m         \u001b[0;32mreturn\u001b[0m \u001b[0mself\u001b[0m\u001b[0;34m.\u001b[0m\u001b[0m_decision_function\u001b[0m\u001b[0;34m(\u001b[0m\u001b[0mX\u001b[0m\u001b[0;34m)\u001b[0m\u001b[0;34m\u001b[0m\u001b[0;34m\u001b[0m\u001b[0m\n\u001b[0m\u001b[1;32m    226\u001b[0m \u001b[0;34m\u001b[0m\u001b[0m\n\u001b[1;32m    227\u001b[0m     \u001b[0m_preprocess_data\u001b[0m \u001b[0;34m=\u001b[0m \u001b[0mstaticmethod\u001b[0m\u001b[0;34m(\u001b[0m\u001b[0m_preprocess_data\u001b[0m\u001b[0;34m)\u001b[0m\u001b[0;34m\u001b[0m\u001b[0;34m\u001b[0m\u001b[0m\n",
            "\u001b[0;32m/usr/local/lib/python3.6/dist-packages/sklearn/linear_model/_base.py\u001b[0m in \u001b[0;36m_decision_function\u001b[0;34m(self, X)\u001b[0m\n\u001b[1;32m    207\u001b[0m         \u001b[0mX\u001b[0m \u001b[0;34m=\u001b[0m \u001b[0mcheck_array\u001b[0m\u001b[0;34m(\u001b[0m\u001b[0mX\u001b[0m\u001b[0;34m,\u001b[0m \u001b[0maccept_sparse\u001b[0m\u001b[0;34m=\u001b[0m\u001b[0;34m[\u001b[0m\u001b[0;34m'csr'\u001b[0m\u001b[0;34m,\u001b[0m \u001b[0;34m'csc'\u001b[0m\u001b[0;34m,\u001b[0m \u001b[0;34m'coo'\u001b[0m\u001b[0;34m]\u001b[0m\u001b[0;34m)\u001b[0m\u001b[0;34m\u001b[0m\u001b[0;34m\u001b[0m\u001b[0m\n\u001b[1;32m    208\u001b[0m         return safe_sparse_dot(X, self.coef_.T,\n\u001b[0;32m--> 209\u001b[0;31m                                dense_output=True) + self.intercept_\n\u001b[0m\u001b[1;32m    210\u001b[0m \u001b[0;34m\u001b[0m\u001b[0m\n\u001b[1;32m    211\u001b[0m     \u001b[0;32mdef\u001b[0m \u001b[0mpredict\u001b[0m\u001b[0;34m(\u001b[0m\u001b[0mself\u001b[0m\u001b[0;34m,\u001b[0m \u001b[0mX\u001b[0m\u001b[0;34m)\u001b[0m\u001b[0;34m:\u001b[0m\u001b[0;34m\u001b[0m\u001b[0;34m\u001b[0m\u001b[0m\n",
            "\u001b[0;32m/usr/local/lib/python3.6/dist-packages/sklearn/utils/extmath.py\u001b[0m in \u001b[0;36msafe_sparse_dot\u001b[0;34m(a, b, dense_output)\u001b[0m\n\u001b[1;32m    149\u001b[0m             \u001b[0mret\u001b[0m \u001b[0;34m=\u001b[0m \u001b[0mnp\u001b[0m\u001b[0;34m.\u001b[0m\u001b[0mdot\u001b[0m\u001b[0;34m(\u001b[0m\u001b[0ma\u001b[0m\u001b[0;34m,\u001b[0m \u001b[0mb\u001b[0m\u001b[0;34m)\u001b[0m\u001b[0;34m\u001b[0m\u001b[0;34m\u001b[0m\u001b[0m\n\u001b[1;32m    150\u001b[0m     \u001b[0;32melse\u001b[0m\u001b[0;34m:\u001b[0m\u001b[0;34m\u001b[0m\u001b[0;34m\u001b[0m\u001b[0m\n\u001b[0;32m--> 151\u001b[0;31m         \u001b[0mret\u001b[0m \u001b[0;34m=\u001b[0m \u001b[0ma\u001b[0m \u001b[0;34m@\u001b[0m \u001b[0mb\u001b[0m\u001b[0;34m\u001b[0m\u001b[0;34m\u001b[0m\u001b[0m\n\u001b[0m\u001b[1;32m    152\u001b[0m \u001b[0;34m\u001b[0m\u001b[0m\n\u001b[1;32m    153\u001b[0m     if (sparse.issparse(a) and sparse.issparse(b)\n",
            "\u001b[0;31mValueError\u001b[0m: matmul: Input operand 1 has a mismatch in its core dimension 0, with gufunc signature (n?,k),(k,m?)->(n?,m?) (size 5 is different from 1)"
          ]
        }
      ]
    }
  ]
}