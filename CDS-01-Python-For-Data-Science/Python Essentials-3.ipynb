{
 "cells": [
  {
   "cell_type": "markdown",
   "id": "b7aa2c05",
   "metadata": {},
   "source": [
    "# LOOPS"
   ]
  },
  {
   "cell_type": "markdown",
   "id": "c626ed9d",
   "metadata": {},
   "source": [
    "## While Loop:"
   ]
  },
  {
   "cell_type": "raw",
   "id": "f55d20ee",
   "metadata": {},
   "source": [
    "In python, while loop is used to execute a block of statements repeatedly until a given a condition is satisfied. And when the condition becomes false, the line immediately after the loop in program is executed."
   ]
  },
  {
   "cell_type": "code",
   "execution_count": null,
   "id": "03357265",
   "metadata": {},
   "outputs": [],
   "source": [
    "# Simple while loop causing infinite loop\n",
    "i=1\n",
    "while i<6:\n",
    "    print('While condition is true')\n",
    "    # i+=1"
   ]
  },
  {
   "cell_type": "code",
   "execution_count": null,
   "id": "1d3818fc",
   "metadata": {},
   "outputs": [],
   "source": [
    "# While loop with break.It is used to stop loop even if while condition is true\n",
    "i=1\n",
    "while i<6:\n",
    "    print(i)\n",
    "    if i==3:\n",
    "        break\n",
    "    i+=1\n",
    "    "
   ]
  },
  {
   "cell_type": "code",
   "execution_count": null,
   "id": "ad106f39",
   "metadata": {},
   "outputs": [],
   "source": [
    "i=0\n",
    "while i in range(10):\n",
    "    print (i**2)\n",
    "    i+=1\n",
    "    if i==5:\n",
    "        break"
   ]
  },
  {
   "cell_type": "code",
   "execution_count": null,
   "id": "1a240bae",
   "metadata": {},
   "outputs": [],
   "source": [
    "# While loop with continue statement.\n",
    "i=0\n",
    "while i<6:\n",
    "    i+=1\n",
    "    if i==3:\n",
    "        continue\n",
    "        \n",
    "    print(i)"
   ]
  },
  {
   "cell_type": "code",
   "execution_count": null,
   "id": "379d5289",
   "metadata": {},
   "outputs": [],
   "source": [
    "# While loop with else statement.\n",
    "i=1\n",
    "while i <6:\n",
    "    print(i)\n",
    "    i+=1\n",
    "else:\n",
    "    print('While loop condition is false')"
   ]
  },
  {
   "cell_type": "code",
   "execution_count": null,
   "id": "48b9149e",
   "metadata": {},
   "outputs": [],
   "source": [
    "count = 0\n",
    "while (count < 3):   \n",
    "    count = count + 1\n",
    "    print(\"Data science\")"
   ]
  },
  {
   "cell_type": "code",
   "execution_count": null,
   "id": "5be6141b",
   "metadata": {},
   "outputs": [],
   "source": [
    "count = 2\n",
    "while (count < 3):   \n",
    "    count = count + 1\n",
    "    print(\"Hello\")"
   ]
  },
  {
   "cell_type": "markdown",
   "id": "a5a173b3",
   "metadata": {},
   "source": [
    "# FOR LOOP\n"
   ]
  },
  {
   "cell_type": "raw",
   "id": "2ece8894",
   "metadata": {},
   "source": [
    "Python for loops are used to loop through an iterable object (like a list, tuple, set, etc.) and perform the same action for each entry "
   ]
  },
  {
   "cell_type": "code",
   "execution_count": null,
   "id": "3b525a67",
   "metadata": {},
   "outputs": [],
   "source": [
    "list1=[1,2,3,4]\n",
    "list2=[5,6,7,8]\n",
    "for c in list1:\n",
    "    print(list1.index(c))"
   ]
  },
  {
   "cell_type": "code",
   "execution_count": null,
   "id": "3c72273a",
   "metadata": {},
   "outputs": [],
   "source": [
    "l=[1,2,3,4,5,6,7,8,9,0,12,34,55]\n",
    "for c in l:\n",
    "    print(c)"
   ]
  },
  {
   "cell_type": "code",
   "execution_count": null,
   "id": "a45f4c4d",
   "metadata": {},
   "outputs": [],
   "source": [
    "for i in range(-10,-1):\n",
    "    print (i)"
   ]
  },
  {
   "cell_type": "code",
   "execution_count": null,
   "id": "f2a1ad9e",
   "metadata": {},
   "outputs": [],
   "source": [
    "fruits=['Apple','Banana','Mango','Watermelon']\n",
    "for i in fruits:\n",
    "    print(i)"
   ]
  },
  {
   "cell_type": "code",
   "execution_count": null,
   "id": "3e009e99",
   "metadata": {},
   "outputs": [],
   "source": [
    "s='This is data science course'\n",
    "for i in s:\n",
    "    print(i)"
   ]
  },
  {
   "cell_type": "code",
   "execution_count": null,
   "id": "8b29b31c",
   "metadata": {},
   "outputs": [],
   "source": [
    "## Range function\n",
    "for i in range(0,10): # range is a generator function which yields numbers form given starting and end point\n",
    "    print(i)"
   ]
  },
  {
   "cell_type": "code",
   "execution_count": null,
   "id": "db55f68f",
   "metadata": {},
   "outputs": [],
   "source": [
    "for i in range(5):# Numbers will get generated from 0 and will go till 4\n",
    "    print(i)      \n"
   ]
  },
  {
   "cell_type": "code",
   "execution_count": null,
   "id": "599af1d8",
   "metadata": {},
   "outputs": [],
   "source": [
    "for i in range(0,20,2):\n",
    "    print(i)"
   ]
  },
  {
   "cell_type": "code",
   "execution_count": null,
   "id": "be482593",
   "metadata": {},
   "outputs": [],
   "source": [
    "# Nested loops\n",
    "loop1=['Maths','Science','Geo','Eco','Social']\n",
    "loop2=[78,90,70,56,90]"
   ]
  },
  {
   "cell_type": "code",
   "execution_count": null,
   "id": "836a32d0",
   "metadata": {},
   "outputs": [],
   "source": [
    "for i in loop1: # Outer loop\n",
    "    for k in loop2: # inner loop\n",
    "        print(i,k)"
   ]
  },
  {
   "cell_type": "code",
   "execution_count": null,
   "id": "7db1fb94",
   "metadata": {},
   "outputs": [],
   "source": [
    "l=[1,2,45,62,76,55]"
   ]
  },
  {
   "cell_type": "code",
   "execution_count": null,
   "id": "d2347f74",
   "metadata": {},
   "outputs": [],
   "source": [
    "max(l)"
   ]
  },
  {
   "cell_type": "code",
   "execution_count": null,
   "id": "ecd02ef0",
   "metadata": {},
   "outputs": [],
   "source": [
    "sum(l)"
   ]
  },
  {
   "cell_type": "code",
   "execution_count": null,
   "id": "bc997ca8",
   "metadata": {},
   "outputs": [],
   "source": [
    "a=['red','blue','green']\n",
    "b=['Apple','Banana','Orange']\n",
    "for i in a:\n",
    "    for h in b:\n",
    "        print(i,h)"
   ]
  },
  {
   "cell_type": "code",
   "execution_count": null,
   "id": "e1249b26",
   "metadata": {},
   "outputs": [],
   "source": [
    "for c in l:\n",
    "    if(c%2==0):\n",
    "        print('even')\n",
    "    else:\n",
    "        print('odd')"
   ]
  },
  {
   "cell_type": "code",
   "execution_count": null,
   "id": "bdc52900",
   "metadata": {},
   "outputs": [],
   "source": [
    "city = ['bangalore', 'Mumbai',  'Pune']\n",
    "for index in range(len(city)):\n",
    "    print('Current city :', city[index])\n",
    "\n",
    "print(\"Good bye!\")"
   ]
  },
  {
   "cell_type": "markdown",
   "id": "27b23a5e",
   "metadata": {},
   "source": [
    "# Function"
   ]
  },
  {
   "cell_type": "raw",
   "id": "72f1d78b",
   "metadata": {},
   "source": [
    "A function is a block of organized code written to carry out a specified task.\n",
    "\n",
    "Functions help break our program into smaller and modular chunks for better readability. Information can be passed into a function as arguments.\n",
    "\n",
    "Parameters are specified after the function name inside the parentheses.\n",
    "\n",
    "We can add as many parameters as we want. Parameters must be separated with a comma. A function may or may not return data.\n",
    "In Python a function is defined using the def keyword\n"
   ]
  },
  {
   "cell_type": "markdown",
   "id": "b7c9fddd",
   "metadata": {},
   "source": [
    "## Parameter VS Argument"
   ]
  },
  {
   "cell_type": "raw",
   "id": "df415297",
   "metadata": {},
   "source": [
    "A parameter is the variable listed inside the parentheses in the function definition. An argument is the value that is sent to the function when it is called."
   ]
  },
  {
   "cell_type": "markdown",
   "id": "d5ca03dc",
   "metadata": {},
   "source": [
    "## Three types of functions in Python:-\n",
    " \n",
    "1) Built-in function :- Python predefined functions that are readily available for use like min() , max() , sum() , print() etc.\n",
    "\n",
    "2) User-Defined Functions:- Function that we define ourselves to perform a specific task.\n",
    "\n",
    "3) Anonymous functions : Function that is defined without a name. Anonymous functions are also called as lambda functions. They are not declared with the def keyword.\n"
   ]
  },
  {
   "cell_type": "markdown",
   "id": "692c41b2",
   "metadata": {},
   "source": [
    "1) Python Function with no argument and no return value.\n",
    "\n",
    "2) Function with no argument and with a Return value.\n",
    "\n",
    "\n",
    "3) Python Function with argument and No Return value.\n",
    "\n",
    "4) Function with argument and return value."
   ]
  },
  {
   "cell_type": "code",
   "execution_count": null,
   "id": "440857bb",
   "metadata": {},
   "outputs": [],
   "source": [
    "# name_of... requires no argument but generates output"
   ]
  },
  {
   "cell_type": "code",
   "execution_count": null,
   "id": "9275a626",
   "metadata": {},
   "outputs": [],
   "source": [
    "# Definition of function\n",
    "def name_of_function():\n",
    "    '''Simply prints the statement Hello.'''\n",
    "    print('Hello')"
   ]
  },
  {
   "cell_type": "code",
   "execution_count": null,
   "id": "097d047d",
   "metadata": {},
   "outputs": [],
   "source": [
    "# Calling the function\n",
    "name_of_function() # without arguments"
   ]
  },
  {
   "cell_type": "code",
   "execution_count": null,
   "id": "aeb7202b",
   "metadata": {},
   "outputs": [],
   "source": [
    "help(print)"
   ]
  },
  {
   "cell_type": "code",
   "execution_count": null,
   "id": "0bfa2fff",
   "metadata": {},
   "outputs": [],
   "source": [
    "# Docstring gives information about the function.\n",
    "help(name_of_function)"
   ]
  },
  {
   "cell_type": "code",
   "execution_count": null,
   "id": "da33f80d",
   "metadata": {},
   "outputs": [],
   "source": [
    "import math"
   ]
  },
  {
   "cell_type": "code",
   "execution_count": null,
   "id": "25a5dfcf",
   "metadata": {},
   "outputs": [],
   "source": [
    "def area_of_circle(r):\n",
    "    '''the function gives us the area of a circle based on radius'''\n",
    "    area=math.pi*r*r\n",
    "    print(area)"
   ]
  },
  {
   "cell_type": "code",
   "execution_count": null,
   "id": "ec166f83",
   "metadata": {},
   "outputs": [],
   "source": [
    "help(area_of_circle)"
   ]
  },
  {
   "cell_type": "code",
   "execution_count": null,
   "id": "d1d0ccc9",
   "metadata": {},
   "outputs": [],
   "source": [
    "area_of_circle(5) # function with an argument and a return value"
   ]
  },
  {
   "cell_type": "code",
   "execution_count": null,
   "id": "942f9b35",
   "metadata": {},
   "outputs": [],
   "source": [
    "new_area=area_of_circle(5)"
   ]
  },
  {
   "cell_type": "code",
   "execution_count": null,
   "id": "54404e47",
   "metadata": {},
   "outputs": [],
   "source": [
    "new_area"
   ]
  },
  {
   "cell_type": "code",
   "execution_count": null,
   "id": "f7afb3bd",
   "metadata": {},
   "outputs": [],
   "source": [
    "# "
   ]
  },
  {
   "cell_type": "code",
   "execution_count": null,
   "id": "5ffaa422",
   "metadata": {},
   "outputs": [],
   "source": [
    "def area_circ(r):\n",
    "    area=3.14*r**2\n",
    "    return area\n",
    "    "
   ]
  },
  {
   "cell_type": "code",
   "execution_count": null,
   "id": "83080585",
   "metadata": {},
   "outputs": [],
   "source": [
    "area1= area_circ(5)"
   ]
  },
  {
   "cell_type": "code",
   "execution_count": null,
   "id": "73fda8f4",
   "metadata": {},
   "outputs": [],
   "source": [
    "area1"
   ]
  },
  {
   "cell_type": "code",
   "execution_count": null,
   "id": "1048928c",
   "metadata": {},
   "outputs": [],
   "source": [
    "# Generate list of areas for given radii."
   ]
  },
  {
   "cell_type": "code",
   "execution_count": null,
   "id": "f2bceefe",
   "metadata": {},
   "outputs": [],
   "source": [
    "# Function that has no argument and no return value\n",
    "\n",
    "def blank_fn():\n",
    "    pass"
   ]
  },
  {
   "cell_type": "code",
   "execution_count": null,
   "id": "edebf0e9",
   "metadata": {},
   "outputs": [],
   "source": [
    "blank_fn()"
   ]
  },
  {
   "cell_type": "code",
   "execution_count": null,
   "id": "25378a29",
   "metadata": {},
   "outputs": [],
   "source": [
    "def rectangle(l,b):\n",
    "    area=l*b\n",
    "    print(area)"
   ]
  },
  {
   "cell_type": "code",
   "execution_count": null,
   "id": "07a7e0e4",
   "metadata": {},
   "outputs": [],
   "source": [
    "# Function requiring no argument and has a return value\n",
    "def rectangle():\n",
    "    l=float(input('Enter the length: '))\n",
    "    b=float(input('Enter the breadth: '))\n",
    "    area=l*b\n",
    "    return area"
   ]
  },
  {
   "cell_type": "code",
   "execution_count": null,
   "id": "2ec6569a",
   "metadata": {
    "scrolled": true
   },
   "outputs": [],
   "source": [
    "rectangle()"
   ]
  },
  {
   "cell_type": "code",
   "execution_count": null,
   "id": "f0561ecf",
   "metadata": {},
   "outputs": [],
   "source": [
    "def  details(name,userid,country):  #  Function  to  print  User  details\n",
    "    print('Name :- ', name)\n",
    "    print('User ID is :- ', userid) \n",
    "    print('Country  :-  ',country)\n",
    "\n",
    "details('Data', 'Data123' , 'India')\n"
   ]
  },
  {
   "cell_type": "code",
   "execution_count": null,
   "id": "b5224979",
   "metadata": {},
   "outputs": [],
   "source": [
    "Task:-Write function to check whether given number is odd or even"
   ]
  },
  {
   "cell_type": "markdown",
   "id": "b61884ad",
   "metadata": {},
   "source": [
    "## Lambda, Filter, Map and Reduce"
   ]
  },
  {
   "cell_type": "markdown",
   "id": "1e2b84f0",
   "metadata": {},
   "source": [
    "## Lambda\n",
    "\n",
    " 1) A lambda function is an anonymous function (function without a name).\n",
    "\n",
    " 2) Lambda functions can have any number of arguments but only one expression. The expression is evaluated and returned.\n",
    "\n",
    " 3) We use lambda functions when we require a nameless function for a short period of time.\n"
   ]
  },
  {
   "attachments": {
    "image.png": {
     "image/png": "[encoded data removed]"
    }
   },
   "cell_type": "markdown",
   "id": "8304ef24",
   "metadata": {},
   "source": [
    "![image.png](attachment:image.png)"
   ]
  },
  {
   "cell_type": "code",
   "execution_count": null,
   "id": "c5b1a578",
   "metadata": {},
   "outputs": [],
   "source": [
    "addition = lambda  a : a  + 10\t# This lambda function adds value 10 to an argument\n",
    "print(addition(5))\n"
   ]
  },
  {
   "cell_type": "code",
   "execution_count": null,
   "id": "4c661fb0",
   "metadata": {},
   "outputs": [],
   "source": [
    "product  =  lambda  a,  b  :  a  *  b  #This  lambda  function  takes  two  arguments  (a,b)  and do the multiplication\n",
    "print(product(5,  6))\n"
   ]
  },
  {
   "cell_type": "code",
   "execution_count": null,
   "id": "63e973a3",
   "metadata": {},
   "outputs": [],
   "source": []
  },
  {
   "cell_type": "code",
   "execution_count": null,
   "id": "e3d403a1",
   "metadata": {},
   "outputs": [],
   "source": [
    "import math\n",
    "area_c= lambda r: math.pi*r**2"
   ]
  },
  {
   "cell_type": "code",
   "execution_count": null,
   "id": "5c4b7899",
   "metadata": {},
   "outputs": [],
   "source": [
    "area_c(4)"
   ]
  },
  {
   "cell_type": "markdown",
   "id": "5d947742",
   "metadata": {},
   "source": [
    "### Map (arg1=function, arg2=data to iterate over)\n"
   ]
  },
  {
   "cell_type": "code",
   "execution_count": null,
   "id": "22423456",
   "metadata": {},
   "outputs": [],
   "source": [
    "# Mapping the function onto an iterable"
   ]
  },
  {
   "cell_type": "code",
   "execution_count": null,
   "id": "c9e7ef47",
   "metadata": {},
   "outputs": [],
   "source": [
    "# List of weights in lbs\n",
    "w= [180,148,192,158,176,210,166,175]"
   ]
  },
  {
   "cell_type": "code",
   "execution_count": null,
   "id": "df06c69d",
   "metadata": {},
   "outputs": [],
   "source": [
    "lb_kg= lambda p: p/2.204  # to obtain weight in kg"
   ]
  },
  {
   "cell_type": "code",
   "execution_count": null,
   "id": "fded0306",
   "metadata": {},
   "outputs": [],
   "source": [
    "lb_kg(150)"
   ]
  },
  {
   "cell_type": "code",
   "execution_count": null,
   "id": "80cb1c8d",
   "metadata": {},
   "outputs": [],
   "source": [
    "# Mapping a function onto an iterable, say a list or a tuple "
   ]
  },
  {
   "cell_type": "code",
   "execution_count": null,
   "id": "1ebaa874",
   "metadata": {},
   "outputs": [],
   "source": [
    "# By itself the map function generates an object. \n",
    "# This is convenient for classes in Python.\n",
    "\n",
    "map(lb_kg, w)"
   ]
  },
  {
   "cell_type": "code",
   "execution_count": null,
   "id": "713067b6",
   "metadata": {},
   "outputs": [],
   "source": [
    "list1= list(map(lb_kg, w)) # list function to generate new list\n",
    "print (list1)"
   ]
  },
  {
   "cell_type": "code",
   "execution_count": null,
   "id": "7d80b112",
   "metadata": {},
   "outputs": [],
   "source": [
    "print (list1)"
   ]
  },
  {
   "cell_type": "markdown",
   "id": "2a4c27ff",
   "metadata": {},
   "source": [
    "### Filter (arg1=function to check condition,  arg2=data to iterate over)\n"
   ]
  },
  {
   "cell_type": "markdown",
   "id": "aaf1a651",
   "metadata": {},
   "source": [
    "Filter is to choose certain data that is needed from an iterable.\n",
    "The unnecessary data is 'filtered' out."
   ]
  },
  {
   "cell_type": "code",
   "execution_count": null,
   "id": "bb4fec3c",
   "metadata": {},
   "outputs": [],
   "source": [
    "list1"
   ]
  },
  {
   "cell_type": "code",
   "execution_count": null,
   "id": "b57532ea",
   "metadata": {},
   "outputs": [],
   "source": [
    "# list_wts such that weights are over 75 kg.\n",
    "list_wts= list(filter(lambda w:w>75, list1))"
   ]
  },
  {
   "cell_type": "code",
   "execution_count": null,
   "id": "514d90f9",
   "metadata": {},
   "outputs": [],
   "source": [
    "list_wts"
   ]
  },
  {
   "cell_type": "markdown",
   "id": "e6277b2d",
   "metadata": {},
   "source": [
    "#### Reduce is to perform a sequence of operations aided by the next value in an iterable"
   ]
  },
  {
   "cell_type": "code",
   "execution_count": 1,
   "id": "745a07fd",
   "metadata": {},
   "outputs": [],
   "source": [
    "from functools import reduce"
   ]
  },
  {
   "cell_type": "code",
   "execution_count": 2,
   "id": "6c5e4e43",
   "metadata": {},
   "outputs": [
    {
     "data": {
      "text/plain": [
       "[1, 2, 3, 4, 5, 6, 7, 8, 9, 10]"
      ]
     },
     "execution_count": 2,
     "metadata": {},
     "output_type": "execute_result"
    }
   ],
   "source": [
    "list10= list(range(1,11))\n",
    "list10"
   ]
  },
  {
   "cell_type": "code",
   "execution_count": null,
   "id": "b661d3af",
   "metadata": {},
   "outputs": [],
   "source": [
    "product= lambda x,y: x*y\n"
   ]
  },
  {
   "cell_type": "code",
   "execution_count": null,
   "id": "f0feb07e",
   "metadata": {},
   "outputs": [],
   "source": [
    "reduce(product, list10)"
   ]
  },
  {
   "cell_type": "code",
   "execution_count": null,
   "id": "ef759b62",
   "metadata": {},
   "outputs": [],
   "source": [
    "# GEnerate 10 factorial using a for loop"
   ]
  },
  {
   "cell_type": "code",
   "execution_count": null,
   "id": "286b8559",
   "metadata": {},
   "outputs": [],
   "source": [
    "### A for loop is often more preferred."
   ]
  },
  {
   "cell_type": "code",
   "execution_count": null,
   "id": "5b49375d",
   "metadata": {},
   "outputs": [],
   "source": [
    "a=1\n",
    "# product=[]\n",
    "for i in list10:\n",
    "    a=a*i"
   ]
  },
  {
   "cell_type": "code",
   "execution_count": null,
   "id": "dc4c7955",
   "metadata": {},
   "outputs": [],
   "source": [
    "print(a)"
   ]
  },
  {
   "cell_type": "code",
   "execution_count": null,
   "id": "f5bdce58",
   "metadata": {},
   "outputs": [],
   "source": []
  }
 ],
 "metadata": {
  "kernelspec": {
   "display_name": "Python 3 (ipykernel)",
   "language": "python",
   "name": "python3"
  },
  "language_info": {
   "codemirror_mode": {
    "name": "ipython",
    "version": 3
   },
   "file_extension": ".py",
   "mimetype": "text/x-python",
   "name": "python",
   "nbconvert_exporter": "python",
   "pygments_lexer": "ipython3",
   "version": "3.9.12"
  }
 },
 "nbformat": 4,
 "nbformat_minor": 5
}
