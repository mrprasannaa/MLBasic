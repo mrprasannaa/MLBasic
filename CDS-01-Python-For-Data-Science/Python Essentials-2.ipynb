{
 "cells": [
  {
   "cell_type": "markdown",
   "id": "00fba424",
   "metadata": {
    "id": "00fba424"
   },
   "source": [
    "# If  conditional statement"
   ]
  },
  {
   "cell_type": "markdown",
   "id": "7e4d095e",
   "metadata": {
    "id": "7e4d095e"
   },
   "source": [
    "* A Python if statement evaluates whether a condition is equal to true or false. \n",
    "* The statement will execute a block of code if a specified condition is equal to true. Otherwise, the block of code within the if statement is not executed"
   ]
  },
  {
   "cell_type": "code",
   "execution_count": null,
   "id": "2a33e7e0",
   "metadata": {
    "id": "2a33e7e0"
   },
   "outputs": [],
   "source": [
    "x=2\n",
    "if x==2: # If condition is true\n",
    "    print('The if condition is true')"
   ]
  },
  {
   "cell_type": "code",
   "execution_count": null,
   "id": "893f5fd7",
   "metadata": {
    "id": "893f5fd7"
   },
   "outputs": [],
   "source": [
    "x=5\n",
    "if x==2: # If condition is false\n",
    "    print('The if condition is true')"
   ]
  },
  {
   "cell_type": "code",
   "execution_count": null,
   "id": "f6be2755",
   "metadata": {
    "id": "f6be2755"
   },
   "outputs": [],
   "source": [
    "x=5\n",
    "if x==2: # If condition is false\n",
    "    print('The if condition is true')\n",
    "else:\n",
    "    print ('If condition is not met')\n",
    "    print('Else part is executed')"
   ]
  },
  {
   "cell_type": "code",
   "execution_count": null,
   "id": "63acf878",
   "metadata": {
    "id": "63acf878"
   },
   "outputs": [],
   "source": [
    "x=-23\n",
    "if(x>0):\n",
    "    print('i am in if block')\n",
    "else:\n",
    "    print('i am not')"
   ]
  },
  {
   "cell_type": "code",
   "execution_count": null,
   "id": "2fb0f1f1",
   "metadata": {
    "id": "2fb0f1f1"
   },
   "outputs": [],
   "source": [
    "if(5<4):\n",
    "    print('5 is big')\n",
    "    print('i am in if block')\n",
    "\n",
    "\n",
    "\n",
    "print('i am out of if block')  # out of block statement"
   ]
  },
  {
   "cell_type": "code",
   "execution_count": null,
   "id": "5f624829",
   "metadata": {
    "id": "5f624829"
   },
   "outputs": [],
   "source": [
    "x = 5\n",
    "\n",
    "if x>0:\n",
    "    print(\"X is positive\")\n",
    "    print(\"i am in IF block\")\n",
    "    \n",
    "print(\"i am  out of IF block\")"
   ]
  },
  {
   "cell_type": "code",
   "execution_count": null,
   "id": "b36032f3",
   "metadata": {
    "id": "b36032f3"
   },
   "outputs": [],
   "source": [
    "# if ... else\n",
    "\n",
    "x = 0\n",
    "\n",
    "if x>0:\n",
    "    print(\"X is positive\")\n",
    "    print(\"i am in IF block\")\n",
    "elif x==0:\n",
    "    print(\"X is neither positive nor negative\")\n",
    "    print(\"X is equal to 0\")\n",
    "else:\n",
    "    print(\"X is Negative\")\n",
    "    print('i am in else block')\n",
    "    \n",
    "    \n",
    "print(\"i am  out of IF block\")"
   ]
  },
  {
   "cell_type": "code",
   "execution_count": null,
   "id": "6d50e5ef",
   "metadata": {
    "id": "6d50e5ef"
   },
   "outputs": [],
   "source": [
    "x=5\n",
    "if(x>10):\n",
    "    print('i am in if block')\n",
    "elif(x<6):   # elif will help in checking more than 1 if condition\n",
    "    print('i am in elif block')\n",
    "else:\n",
    "    print('i am in else block')  "
   ]
  },
  {
   "cell_type": "code",
   "execution_count": null,
   "id": "8ef1d76f",
   "metadata": {
    "id": "8ef1d76f"
   },
   "outputs": [],
   "source": [
    "# if... elif ... else\n",
    "x =int(input('enter the number'))\n",
    "\n",
    "if x>0:\n",
    "    print(\"X is positive\")\n",
    "elif x<0:\n",
    "    print(\"X is Negative\")\n",
    "    print('i am in elif block')\n",
    "else:\n",
    "    print(\"X is Zero\")\n",
    "    print('i am in else block')\n",
    "\n",
    "print('outside of the loop')  "
   ]
  },
  {
   "cell_type": "code",
   "execution_count": null,
   "id": "ae45a89c",
   "metadata": {
    "id": "ae45a89c"
   },
   "outputs": [],
   "source": [
    "## Nesting\n",
    "x=2\n",
    "if(x>=3):\n",
    "    print('i am in 1st if')\n",
    "    if(x>2):\n",
    "        print('i am in 2nd if')\n",
    "        if(x==4):\n",
    "            print('i am in 3rd if ')"
   ]
  },
  {
   "cell_type": "code",
   "execution_count": null,
   "id": "9d40ede0",
   "metadata": {
    "id": "9d40ede0"
   },
   "outputs": [],
   "source": [
    "i=6\n",
    "if(i>0):\n",
    "    print('first loop')\n",
    "    if(i<=5):\n",
    "        print('secound loop')\n",
    "        print('number is in primary range')\n",
    "    if(i>5):\n",
    "        print('mid range')\n",
    "    else:\n",
    "        print('end of the loop')\n",
    "else:\n",
    "    print('number is negative')\n",
    "\n",
    "print('out of the nested loop')  "
   ]
  },
  {
   "cell_type": "code",
   "execution_count": null,
   "id": "7e5b3ef8",
   "metadata": {
    "id": "7e5b3ef8"
   },
   "outputs": [],
   "source": [
    "i = 10\n",
    "if (i == 10):\n",
    "   \n",
    "    #  First if statement\n",
    "    if (i < 15):\n",
    "        print(\"i is smaller than 15\")\n",
    "         \n",
    "    # Nested - if statement\n",
    "    # Will only be executed if statement above\n",
    "    # it is true\n",
    "    if (i < 12):\n",
    "        print(\"i is smaller than 12 too\")\n",
    "    else:\n",
    "        print(\"i is greater than 15\")"
   ]
  },
  {
   "cell_type": "markdown",
   "id": "f3e4de54",
   "metadata": {
    "id": "f3e4de54"
   },
   "source": [
    "# Input function"
   ]
  },
  {
   "cell_type": "code",
   "execution_count": null,
   "id": "d2908c22",
   "metadata": {
    "id": "d2908c22",
    "scrolled": true
   },
   "outputs": [],
   "source": [
    "a=input('Enter your name:')  # Default input is considered a string"
   ]
  },
  {
   "cell_type": "code",
   "execution_count": null,
   "id": "9643f3b8",
   "metadata": {
    "id": "9643f3b8",
    "scrolled": true
   },
   "outputs": [],
   "source": [
    "a"
   ]
  },
  {
   "cell_type": "code",
   "execution_count": null,
   "id": "90f784e5",
   "metadata": {
    "id": "90f784e5",
    "scrolled": true
   },
   "outputs": [],
   "source": [
    "b=int(input('Enter a number between 16 and 40:'))"
   ]
  },
  {
   "cell_type": "code",
   "execution_count": null,
   "id": "08c83a56",
   "metadata": {
    "id": "08c83a56"
   },
   "outputs": [],
   "source": [
    "b"
   ]
  },
  {
   "cell_type": "markdown",
   "id": "d80b83eb",
   "metadata": {
    "id": "d80b83eb"
   },
   "source": [
    "# Packages"
   ]
  },
  {
   "cell_type": "raw",
   "id": "c425cde2",
   "metadata": {
    "id": "c425cde2"
   },
   "source": [
    "Packages are software which holds certain functionalities to work on.In python we have many builtin packages which we will be\n",
    "using.\n",
    "\n",
    "Packages contains moduled and submodules.\n",
    "\n",
    "Each and every module and submodule can be used independently by using certain keywords."
   ]
  },
  {
   "cell_type": "raw",
   "id": "6d7a5b1f",
   "metadata": {
    "id": "6d7a5b1f"
   },
   "source": [
    "So lets assume we want to build a software where we need 4 functionalities like A,B,C,D.So you cannot go directly and we the build the software,you need to breal down this into logical smaller parts.So lets say A and C are have similar types of functionality  and B and D takes similar type of functionality so we will group them under same module."
   ]
  },
  {
   "cell_type": "markdown",
   "id": "65139785",
   "metadata": {
    "id": "65139785"
   },
   "source": [
    "![image.png](attachment:image.png)"
   ]
  },
  {
   "cell_type": "raw",
   "id": "ec1b894e",
   "metadata": {
    "id": "ec1b894e"
   },
   "source": [
    "Modules and submodules provide very efficient way of writing code.If you want to make changes in A,you need to disturb any modules,you can go ahead and make the chnages.\n",
    "\n",
    "Modules also provide code resuibilty.If we wnat to develope new software which uses only A and D,they can be used."
   ]
  },
  {
   "cell_type": "code",
   "execution_count": null,
   "id": "8676109d",
   "metadata": {
    "scrolled": true
   },
   "outputs": [],
   "source": [
    "r= float(input(\"enter the radius\"))\n",
    "area = 3.141*r**2\n",
    "print (area)"
   ]
  },
  {
   "cell_type": "code",
   "execution_count": null,
   "id": "5b25e7fc",
   "metadata": {},
   "outputs": [],
   "source": [
    "import math\n",
    "area= math.pi*r**2\n",
    "area"
   ]
  },
  {
   "cell_type": "markdown",
   "id": "54b39d5a",
   "metadata": {
    "id": "54b39d5a"
   },
   "source": [
    "# Datetime package"
   ]
  },
  {
   "cell_type": "raw",
   "id": "ddda0c5e",
   "metadata": {
    "id": "ddda0c5e"
   },
   "source": [
    "In Python, date and time are not a data type of their own, but a module named datetime can be imported to work with the date as well as time. Python Datetime module comes built into Python, so there is no need to install it externally. "
   ]
  },
  {
   "cell_type": "raw",
   "id": "f7df10eb",
   "metadata": {
    "id": "f7df10eb"
   },
   "source": [
    "1)date – An idealized naive date, assuming the current Gregorian calendar always was, and always will be, in effect. Its attributes are year, month and day.\n",
    "\n",
    "\n",
    "2)time – An idealized time, independent of any particular day, assuming that every day has exactly 24*60*60 seconds. Its attributes are hour, minute, second, microsecond\n",
    "\n",
    "3)datetime – Its a combination of date and time along with the attributes year, month, day, hour, minute, second, microsecond\n",
    "\n",
    "4)timedelta – A duration expressing the difference between two date, time, or datetime instances to microsecond resolution."
   ]
  },
  {
   "cell_type": "code",
   "execution_count": null,
   "id": "f8794c88",
   "metadata": {
    "id": "f8794c88"
   },
   "outputs": [],
   "source": [
    "from datetime import date"
   ]
  },
  {
   "cell_type": "code",
   "execution_count": null,
   "id": "3df143a1",
   "metadata": {
    "id": "3df143a1"
   },
   "outputs": [],
   "source": [
    "my_date = date(1996, 12, 11) ## Simple date creation"
   ]
  },
  {
   "cell_type": "code",
   "execution_count": null,
   "id": "4e13a47f",
   "metadata": {
    "id": "4e13a47f",
    "outputId": "7991ad91-3812-42b8-8898-b1eba0eb1e95"
   },
   "outputs": [],
   "source": [
    "my_date"
   ]
  },
  {
   "cell_type": "code",
   "execution_count": null,
   "id": "c2c84c40",
   "metadata": {
    "id": "55e602b4",
    "outputId": "a0a24ac2-17ed-4a89-e594-f8d9396f738c"
   },
   "outputs": [],
   "source": [
    "# Getting today's date\n",
    "today1 = date.today()\n",
    " \n",
    "print(\"Today's date is\", today1)"
   ]
  },
  {
   "cell_type": "code",
   "execution_count": null,
   "id": "d45c8590",
   "metadata": {},
   "outputs": [],
   "source": [
    "today1.day"
   ]
  },
  {
   "cell_type": "code",
   "execution_count": null,
   "id": "d72a4efa",
   "metadata": {},
   "outputs": [],
   "source": [
    "from datetime import datetime"
   ]
  },
  {
   "cell_type": "code",
   "execution_count": null,
   "id": "99a65064",
   "metadata": {},
   "outputs": [],
   "source": [
    "dt_now= datetime.now()"
   ]
  },
  {
   "cell_type": "code",
   "execution_count": null,
   "id": "8329f868",
   "metadata": {},
   "outputs": [],
   "source": [
    "dt_now"
   ]
  },
  {
   "cell_type": "code",
   "execution_count": null,
   "id": "60fc0f5c",
   "metadata": {},
   "outputs": [],
   "source": [
    "\n",
    "date1=date(2004,12,27)\n",
    "date1"
   ]
  },
  {
   "cell_type": "code",
   "execution_count": null,
   "id": "07aa0473",
   "metadata": {},
   "outputs": [],
   "source": [
    "delta=today1-date1\n",
    "delta"
   ]
  },
  {
   "cell_type": "code",
   "execution_count": null,
   "id": "0f35ad9c",
   "metadata": {},
   "outputs": [],
   "source": [
    "delta.days/365"
   ]
  },
  {
   "cell_type": "code",
   "execution_count": null,
   "id": "6a527bc8",
   "metadata": {},
   "outputs": [],
   "source": []
  },
  {
   "cell_type": "code",
   "execution_count": null,
   "id": "f591dae6",
   "metadata": {
    "id": "f591dae6",
    "outputId": "2ef392b5-876d-4b6e-c132-0768e5685623"
   },
   "outputs": [],
   "source": [
    "# Get Today’s Year, Month, and Date\n",
    "\n",
    "print(\"Current year:\", today1.year)\n",
    "print(\"Current month:\", today1.month)\n",
    "print(\"Current day:\", today1.day)"
   ]
  },
  {
   "cell_type": "code",
   "execution_count": null,
   "id": "6a826964",
   "metadata": {
    "id": "f591dae6",
    "outputId": "2ef392b5-876d-4b6e-c132-0768e5685623"
   },
   "outputs": [],
   "source": [
    "# time attributes for dt_now\n",
    "\n",
    "print(\"Current hour:\", dt_now.hour)\n",
    "print(\"Current minute:\", dt_now.minute)\n",
    "print(\"Current second:\", dt_now.second)"
   ]
  },
  {
   "cell_type": "code",
   "execution_count": null,
   "id": "a3579d96",
   "metadata": {
    "id": "a3579d96",
    "outputId": "18499bb8-9beb-4145-d889-4fb43e491173"
   },
   "outputs": [],
   "source": [
    "# Get date from datetime sub module\n",
    "from datetime import datetime as dt\n",
    "\n",
    "current_date=dt.now()\n",
    "current_date"
   ]
  },
  {
   "cell_type": "code",
   "execution_count": null,
   "id": "339fcf95",
   "metadata": {
    "id": "339fcf95",
    "outputId": "404edfc7-e3dc-4cca-9f58-d6fb7647af3f",
    "scrolled": true
   },
   "outputs": [],
   "source": [
    "dt.date(current_date)"
   ]
  },
  {
   "cell_type": "code",
   "execution_count": null,
   "id": "a8cd79e2",
   "metadata": {
    "id": "a8cd79e2",
    "outputId": "f78a9260-e6db-4b1f-d82a-8f60954f278e"
   },
   "outputs": [],
   "source": [
    "date1.day"
   ]
  },
  {
   "cell_type": "code",
   "execution_count": null,
   "id": "e38c3730",
   "metadata": {
    "id": "e38c3730",
    "outputId": "d52cc0f5-44d8-4127-8b68-743811c48101"
   },
   "outputs": [],
   "source": [
    "date1.hour"
   ]
  },
  {
   "cell_type": "code",
   "execution_count": null,
   "id": "900a7abe",
   "metadata": {
    "id": "900a7abe",
    "outputId": "d0afdf67-26c9-49dc-f00e-a40d30bfb7e2",
    "scrolled": true
   },
   "outputs": [],
   "source": [
    "today1.isoweekday()"
   ]
  },
  {
   "cell_type": "code",
   "execution_count": null,
   "id": "cc387dd6",
   "metadata": {
    "id": "cc387dd6",
    "outputId": "304091f8-f154-4496-f2c6-751ba4fcbb71"
   },
   "outputs": [],
   "source": [
    "date1.month"
   ]
  },
  {
   "cell_type": "code",
   "execution_count": null,
   "id": "87a933e1",
   "metadata": {
    "id": "87a933e1"
   },
   "outputs": [],
   "source": [
    "# Time submodule\n",
    "\n",
    "from datetime import time"
   ]
  },
  {
   "cell_type": "code",
   "execution_count": null,
   "id": "dbf47ed8",
   "metadata": {
    "id": "dbf47ed8",
    "outputId": "ca632937-618c-4c4e-bf19-f98539b00d1a"
   },
   "outputs": [],
   "source": [
    "my_time = time(14, 24, 56)\n",
    " \n",
    "print(\"Entered time\", my_time)"
   ]
  },
  {
   "cell_type": "code",
   "execution_count": null,
   "id": "dfcb1bdd",
   "metadata": {
    "id": "dfcb1bdd",
    "outputId": "00b0c89f-8391-40a9-e107-da14ee1eef2d",
    "scrolled": false
   },
   "outputs": [],
   "source": [
    "# Timedelta function demonstration\n",
    " \n",
    "from datetime import date, timedelta\n",
    "\n",
    "present_day = date.today()\n",
    " \n",
    "# printing initial_date\n",
    "print(\"initial_date\", str(present_day))\n",
    " \n",
    "# Calculating future dates\n",
    "# for 730 days\n",
    "future_date_after_2yrs = present_day + timedelta(days=730)\n",
    "future_date_after_2yrs"
   ]
  },
  {
   "cell_type": "code",
   "execution_count": null,
   "id": "0d424ace",
   "metadata": {},
   "outputs": [],
   "source": [
    "present_day - timedelta(days=300)"
   ]
  },
  {
   "cell_type": "code",
   "execution_count": null,
   "id": "10a5a45b",
   "metadata": {
    "id": "10a5a45b"
   },
   "outputs": [],
   "source": [
    "## Task:-Calculate your age after 5000 days.The output should be in years"
   ]
  },
  {
   "cell_type": "markdown",
   "id": "fcba5077",
   "metadata": {
    "id": "fcba5077"
   },
   "source": [
    "# Data Structures of Python"
   ]
  },
  {
   "cell_type": "code",
   "execution_count": null,
   "id": "6581811f",
   "metadata": {
    "id": "6581811f"
   },
   "outputs": [],
   "source": [
    "a=23,24"
   ]
  },
  {
   "cell_type": "code",
   "execution_count": null,
   "id": "a3063de8",
   "metadata": {
    "id": "a3063de8",
    "outputId": "af506f1f-e056-496b-ee6f-8c2675dc183e"
   },
   "outputs": [],
   "source": [
    "a"
   ]
  },
  {
   "cell_type": "raw",
   "id": "d93398d5",
   "metadata": {
    "id": "d93398d5"
   },
   "source": [
    "There are 4 major ds in python\n",
    "\n",
    "1)List\n",
    "2)Tuple\n",
    "3)Dictonary\n",
    "4)Sets"
   ]
  },
  {
   "cell_type": "markdown",
   "id": "7538dada",
   "metadata": {
    "id": "7538dada"
   },
   "source": [
    "## List"
   ]
  },
  {
   "cell_type": "raw",
   "id": "0a684516",
   "metadata": {
    "id": "0a684516"
   },
   "source": [
    "1)\tList is an ordered sequence of items.\n",
    "\n",
    "2)\tWe can have different data types under a list. E.g we can have integer, float and string items in a same list.\n"
   ]
  },
  {
   "cell_type": "code",
   "execution_count": null,
   "id": "1c89ab4e",
   "metadata": {
    "id": "1c89ab4e",
    "outputId": "91b84c12-6486-472c-8db5-0894b0b00920"
   },
   "outputs": [],
   "source": [
    "# List creation\n",
    "\n",
    "list1=[] # Empty list \n",
    "type(list1)"
   ]
  },
  {
   "cell_type": "code",
   "execution_count": null,
   "id": "1ffa3bb7",
   "metadata": {},
   "outputs": [],
   "source": [
    "print (list1)"
   ]
  },
  {
   "cell_type": "code",
   "execution_count": null,
   "id": "46cd7504",
   "metadata": {},
   "outputs": [],
   "source": [
    "list1=list([]) # using list function\n",
    "list1"
   ]
  },
  {
   "cell_type": "code",
   "execution_count": null,
   "id": "2f961072",
   "metadata": {
    "id": "2f961072",
    "outputId": "bcce4c21-7750-43ea-d5ca-18707d2ac1e7"
   },
   "outputs": [],
   "source": [
    "list2=list([1,2,3,4]) # List of integer\n",
    "list2"
   ]
  },
  {
   "cell_type": "code",
   "execution_count": null,
   "id": "5ac49570",
   "metadata": {},
   "outputs": [],
   "source": [
    "list2 = [1,2,3,4]  "
   ]
  },
  {
   "cell_type": "code",
   "execution_count": null,
   "id": "b0e78212",
   "metadata": {
    "id": "b0e78212"
   },
   "outputs": [],
   "source": [
    "l3=[12.3,34.5,56.23,5.3]  # List of float values"
   ]
  },
  {
   "cell_type": "code",
   "execution_count": null,
   "id": "83d322d9",
   "metadata": {},
   "outputs": [],
   "source": [
    "len(l3)"
   ]
  },
  {
   "cell_type": "code",
   "execution_count": null,
   "id": "618b3ff3",
   "metadata": {},
   "outputs": [],
   "source": [
    "strlist = ['begin', 'aroma', 'vintage', 'cross','23%dfg']\n",
    "strlist"
   ]
  },
  {
   "cell_type": "code",
   "execution_count": null,
   "id": "16be4364",
   "metadata": {},
   "outputs": [],
   "source": [
    "strlist[len(strlist)-1]   # last item"
   ]
  },
  {
   "cell_type": "code",
   "execution_count": null,
   "id": "5282298b",
   "metadata": {},
   "outputs": [],
   "source": [
    "# Reverse strlist\n",
    "strlist[::-1]  # calling the reversed list "
   ]
  },
  {
   "cell_type": "code",
   "execution_count": null,
   "id": "a381eb18",
   "metadata": {},
   "outputs": [],
   "source": [
    "strlist.reverse()  # modifies the list instantly"
   ]
  },
  {
   "cell_type": "code",
   "execution_count": null,
   "id": "b0a03bc4",
   "metadata": {},
   "outputs": [],
   "source": [
    "print (strlist)"
   ]
  },
  {
   "cell_type": "code",
   "execution_count": null,
   "id": "1935d9ab",
   "metadata": {},
   "outputs": [],
   "source": [
    "str1=strlist[1]\n",
    "str1"
   ]
  },
  {
   "cell_type": "code",
   "execution_count": null,
   "id": "21a6d207",
   "metadata": {},
   "outputs": [],
   "source": [
    "list5 = [21, 56, 4, 7, 21, 8, 90]\n",
    "list5[2] # call the element 4\n",
    "list5[0]  # call the first element of list\n",
    "list5[-1]   # last element"
   ]
  },
  {
   "cell_type": "code",
   "execution_count": null,
   "id": "e9972cab",
   "metadata": {},
   "outputs": [],
   "source": [
    "# Slicing\n",
    "list5[0:3]     # first 3 elements\n",
    "list5[3:]    # last 4 elements\n",
    "list5[-4:]"
   ]
  },
  {
   "cell_type": "code",
   "execution_count": null,
   "id": "5f21fb99",
   "metadata": {
    "id": "5f21fb99"
   },
   "outputs": [],
   "source": [
    "l4=['ABC','PQR','RES']  # List of strings"
   ]
  },
  {
   "cell_type": "code",
   "execution_count": null,
   "id": "23cdb805",
   "metadata": {
    "id": "23cdb805"
   },
   "outputs": [],
   "source": [
    "l5=['Data',  25  ,[50,  100],[150,  90]] #  Nested  Lists i.e list inside list"
   ]
  },
  {
   "cell_type": "code",
   "execution_count": null,
   "id": "e32ead69",
   "metadata": {},
   "outputs": [],
   "source": [
    "l5"
   ]
  },
  {
   "cell_type": "code",
   "execution_count": null,
   "id": "8fea28fe",
   "metadata": {},
   "outputs": [],
   "source": [
    "l5[2][1]"
   ]
  },
  {
   "cell_type": "code",
   "execution_count": null,
   "id": "ccf36a1c",
   "metadata": {},
   "outputs": [],
   "source": [
    "# Call 150 from l5\n",
    "l5[-1][0]"
   ]
  },
  {
   "cell_type": "code",
   "execution_count": null,
   "id": "7428dc93",
   "metadata": {
    "id": "7428dc93"
   },
   "outputs": [],
   "source": [
    "l6=[100,  'Data',  17.765] #  List  of  mixed  data  types"
   ]
  },
  {
   "cell_type": "code",
   "execution_count": null,
   "id": "984278b2",
   "metadata": {
    "id": "984278b2",
    "outputId": "5d0aed43-2a49-40e2-ae56-f2f8d6905c95"
   },
   "outputs": [],
   "source": [
    "len(l2) # Number of elements in list"
   ]
  },
  {
   "cell_type": "markdown",
   "id": "1b49c927",
   "metadata": {
    "id": "1b49c927"
   },
   "source": [
    "![image-2.png](attachment:image-2.png)"
   ]
  },
  {
   "cell_type": "markdown",
   "id": "1aa1ca32",
   "metadata": {
    "id": "1aa1ca32"
   },
   "source": [
    "## List Indexing and  Slicing"
   ]
  },
  {
   "cell_type": "code",
   "execution_count": null,
   "id": "2b706da5",
   "metadata": {
    "id": "2b706da5"
   },
   "outputs": [],
   "source": [
    "mylist = ['one' , 'two' , 'three' , 'four' , 'five' , 'six' , 'seven' , 'eight']"
   ]
  },
  {
   "cell_type": "code",
   "execution_count": null,
   "id": "aee79404",
   "metadata": {},
   "outputs": [],
   "source": [
    "len(mylist)"
   ]
  },
  {
   "cell_type": "code",
   "execution_count": null,
   "id": "921e642f",
   "metadata": {
    "id": "921e642f",
    "outputId": "2e58a599-968b-4159-de6d-b774dfaa0329"
   },
   "outputs": [],
   "source": [
    "mylist[2]"
   ]
  },
  {
   "cell_type": "code",
   "execution_count": null,
   "id": "2ee42b77",
   "metadata": {
    "id": "2ee42b77"
   },
   "outputs": [],
   "source": [
    "mylist[0:3]  #  Return  all  items  from  0th  to  3rd  index  location  excluding  the  item at upper limit"
   ]
  },
  {
   "cell_type": "markdown",
   "id": "b46cc26d",
   "metadata": {
    "id": "b46cc26d"
   },
   "source": [
    "## Add , Remove & Change Items"
   ]
  },
  {
   "cell_type": "code",
   "execution_count": null,
   "id": "12234e89",
   "metadata": {
    "id": "12234e89",
    "outputId": "83c7137f-74fc-47fa-e63a-07b388b2cbce"
   },
   "outputs": [],
   "source": [
    "mylist.append('nine')  #  Add  a single item  to  the  end  of  the  list\n",
    "mylist\n"
   ]
  },
  {
   "cell_type": "code",
   "execution_count": null,
   "id": "6e90a23c",
   "metadata": {},
   "outputs": [],
   "source": [
    "mylist.insert(4,'mid_value')\n",
    "mylist"
   ]
  },
  {
   "cell_type": "code",
   "execution_count": null,
   "id": "8903a7a0",
   "metadata": {},
   "outputs": [],
   "source": [
    "mylist.extend(['ten',11,12])"
   ]
  },
  {
   "cell_type": "code",
   "execution_count": null,
   "id": "63eeeca4",
   "metadata": {},
   "outputs": [],
   "source": [
    "mylist"
   ]
  },
  {
   "cell_type": "code",
   "execution_count": null,
   "id": "6975a205",
   "metadata": {},
   "outputs": [],
   "source": [
    "# Removal of the last element of list\n",
    "\n",
    "mylist.pop()"
   ]
  },
  {
   "cell_type": "code",
   "execution_count": null,
   "id": "71bd57e3",
   "metadata": {},
   "outputs": [],
   "source": [
    "mylist.pop(4)  # index value of item to be removed"
   ]
  },
  {
   "cell_type": "code",
   "execution_count": null,
   "id": "16633d0f",
   "metadata": {},
   "outputs": [],
   "source": [
    "mylist"
   ]
  },
  {
   "cell_type": "code",
   "execution_count": null,
   "id": "365cec19",
   "metadata": {
    "id": "365cec19",
    "outputId": "14aa86ae-b972-4c59-82cd-5e7ac0edd043"
   },
   "outputs": [],
   "source": [
    "mylist.insert(9,'ten')  #  Add  item  at  index  location  9\n",
    "mylist\n"
   ]
  },
  {
   "cell_type": "code",
   "execution_count": null,
   "id": "bbd921b2",
   "metadata": {
    "id": "bbd921b2",
    "outputId": "3f46ab7e-7feb-424d-c2d3-773c2dc001f5"
   },
   "outputs": [],
   "source": [
    "mylist.extend([1,2,3])  # Add multiple elements at a time at end of list\n",
    "mylist "
   ]
  },
  {
   "cell_type": "code",
   "execution_count": null,
   "id": "3fc24493",
   "metadata": {
    "id": "3fc24493"
   },
   "outputs": [],
   "source": [
    "mylist.pop()  # Remove last  element from list"
   ]
  },
  {
   "cell_type": "code",
   "execution_count": null,
   "id": "98b1bf46",
   "metadata": {
    "id": "98b1bf46",
    "outputId": "89fef587-1716-4c51-a758-7292e725d713"
   },
   "outputs": [],
   "source": [
    "mylist.pop(8)  #  Remove  item  at  index  location  8\n",
    "mylist\n"
   ]
  },
  {
   "cell_type": "code",
   "execution_count": null,
   "id": "ad56e87a",
   "metadata": {
    "id": "ad56e87a",
    "outputId": "8a0e2c68-113b-48e8-c642-5f1fd7e30ccb"
   },
   "outputs": [],
   "source": [
    "mylist.remove('one')  #  Remove  item  \"ONE\" (value)\n",
    "mylist\n"
   ]
  },
  {
   "cell_type": "code",
   "execution_count": null,
   "id": "a2667e93",
   "metadata": {
    "id": "a2667e93",
    "outputId": "efabc096-fe75-4730-d03e-24994ffe5ced"
   },
   "outputs": [],
   "source": [
    "del  mylist[-2]  #  delete by specifying index value\n",
    "mylist\n"
   ]
  },
  {
   "cell_type": "code",
   "execution_count": null,
   "id": "2f902cae",
   "metadata": {},
   "outputs": [],
   "source": [
    "mylist.clear()  # clears out the list to make it empty"
   ]
  },
  {
   "cell_type": "code",
   "execution_count": null,
   "id": "422dd8a7",
   "metadata": {},
   "outputs": [],
   "source": [
    "mylist"
   ]
  },
  {
   "cell_type": "code",
   "execution_count": null,
   "id": "8c354488",
   "metadata": {},
   "outputs": [],
   "source": [
    "del mylist"
   ]
  },
  {
   "cell_type": "code",
   "execution_count": null,
   "id": "5e75c81c",
   "metadata": {},
   "outputs": [],
   "source": [
    "mylist"
   ]
  },
  {
   "cell_type": "code",
   "execution_count": null,
   "id": "25b7dd47",
   "metadata": {
    "id": "25b7dd47",
    "outputId": "273773ab-a0e6-4e50-9e29-e022f4582257"
   },
   "outputs": [],
   "source": [
    "mylist.clear()# Empty List / Delete all items in the list\n",
    "mylist"
   ]
  },
  {
   "cell_type": "code",
   "execution_count": null,
   "id": "93ff6c9a",
   "metadata": {
    "id": "93ff6c9a"
   },
   "outputs": [],
   "source": [
    "del mylist # Delete entire list"
   ]
  },
  {
   "cell_type": "code",
   "execution_count": null,
   "id": "3d1572d1",
   "metadata": {
    "id": "3d1572d1",
    "outputId": "c75f4fca-d0b8-4a66-b16e-3726cc58b8ec"
   },
   "outputs": [],
   "source": [
    "mylist"
   ]
  },
  {
   "cell_type": "markdown",
   "id": "46aa6701",
   "metadata": {
    "id": "46aa6701"
   },
   "source": [
    "## Join Lists"
   ]
  },
  {
   "cell_type": "code",
   "execution_count": 4,
   "id": "76b7b145",
   "metadata": {
    "id": "76b7b145"
   },
   "outputs": [],
   "source": [
    "list1 = ['one', 'two', 'three', 'four']\n",
    "list2 = ['five', 'six', 'seven', 'eight']\n",
    "list3= [9,10,11]"
   ]
  },
  {
   "cell_type": "code",
   "execution_count": 5,
   "id": "092e27da",
   "metadata": {},
   "outputs": [],
   "source": [
    "list1.extend([list2,list3])"
   ]
  },
  {
   "cell_type": "code",
   "execution_count": 6,
   "id": "c3507145",
   "metadata": {},
   "outputs": [
    {
     "data": {
      "text/plain": [
       "['one', 'two', 'three', 'four', ['five', 'six', 'seven', 'eight'], [9, 10, 11]]"
      ]
     },
     "execution_count": 6,
     "metadata": {},
     "output_type": "execute_result"
    }
   ],
   "source": [
    "list1"
   ]
  },
  {
   "cell_type": "code",
   "execution_count": 7,
   "id": "ee156736",
   "metadata": {},
   "outputs": [
    {
     "data": {
      "text/plain": [
       "6"
      ]
     },
     "execution_count": 7,
     "metadata": {},
     "output_type": "execute_result"
    }
   ],
   "source": [
    "len(list1)"
   ]
  },
  {
   "cell_type": "code",
   "execution_count": 8,
   "id": "912e93b8",
   "metadata": {},
   "outputs": [
    {
     "data": {
      "text/plain": [
       "'four'"
      ]
     },
     "execution_count": 8,
     "metadata": {},
     "output_type": "execute_result"
    }
   ],
   "source": [
    "list1[3]"
   ]
  },
  {
   "cell_type": "code",
   "execution_count": 2,
   "id": "d7b97342",
   "metadata": {
    "id": "d7b97342",
    "outputId": "f724dcf0-d998-46ec-c2f4-aa7cb395b2c5"
   },
   "outputs": [
    {
     "name": "stdout",
     "output_type": "stream",
     "text": [
      "['one', 'two', 'three', 'four', 'five', 'six', 'seven', 'eight']\n"
     ]
    }
   ],
   "source": [
    "# List Concatenation\n",
    "list3 = list1 + list2 # Join two lists by '+' operator\n",
    "print(list3)\n"
   ]
  },
  {
   "cell_type": "markdown",
   "id": "60e46d90",
   "metadata": {
    "id": "60e46d90"
   },
   "source": [
    "## List Membership"
   ]
  },
  {
   "cell_type": "code",
   "execution_count": null,
   "id": "ae71db76",
   "metadata": {
    "id": "ae71db76",
    "outputId": "d119b958-8a20-46ad-acc5-b23698c3a8ba"
   },
   "outputs": [],
   "source": [
    "'one' in list1 # Check if 'one' exist in the list"
   ]
  },
  {
   "cell_type": "code",
   "execution_count": null,
   "id": "86b994ae",
   "metadata": {
    "id": "86b994ae",
    "outputId": "4a0d35eb-36a3-40e2-e098-432f5655f42c"
   },
   "outputs": [],
   "source": [
    "10 in list1 # Check if 'ten' exist in the list"
   ]
  },
  {
   "cell_type": "code",
   "execution_count": null,
   "id": "e048dfca",
   "metadata": {},
   "outputs": [],
   "source": [
    "len(list1)"
   ]
  },
  {
   "cell_type": "code",
   "execution_count": null,
   "id": "286ee95f",
   "metadata": {},
   "outputs": [],
   "source": []
  },
  {
   "cell_type": "code",
   "execution_count": null,
   "id": "15254605",
   "metadata": {},
   "outputs": [],
   "source": []
  },
  {
   "cell_type": "code",
   "execution_count": null,
   "id": "71937c7d",
   "metadata": {
    "id": "71937c7d"
   },
   "outputs": [],
   "source": [
    "if 'zero' in list1: # Check if 'three' exist in the list\n",
    "    print('Zero is present in the list')\n",
    "else:\n",
    "    \n",
    "    print('Zero is now present in the list')\n",
    "print (list1)"
   ]
  },
  {
   "cell_type": "code",
   "execution_count": null,
   "id": "1e240548",
   "metadata": {
    "id": "71937c7d"
   },
   "outputs": [],
   "source": [
    "if 'three' in list1: # Check if 'three' exist in the list\n",
    "    print('Three is present in the list')\n",
    "else:\n",
    "    print('Three is not present in the list')\n"
   ]
  },
  {
   "cell_type": "markdown",
   "id": "57d40be1",
   "metadata": {
    "id": "57d40be1"
   },
   "source": [
    "## Reverse & Sort List"
   ]
  },
  {
   "cell_type": "code",
   "execution_count": 9,
   "id": "eb867dec",
   "metadata": {
    "id": "eb867dec",
    "outputId": "10c7f41a-dc2f-4c27-dc6b-bb473a2e1165"
   },
   "outputs": [],
   "source": [
    "list1=['one','two','three','four']"
   ]
  },
  {
   "cell_type": "code",
   "execution_count": null,
   "id": "fc41baff",
   "metadata": {},
   "outputs": [],
   "source": [
    "list1[::-1]"
   ]
  },
  {
   "cell_type": "code",
   "execution_count": null,
   "id": "b9a10185",
   "metadata": {},
   "outputs": [],
   "source": [
    "list1"
   ]
  },
  {
   "cell_type": "code",
   "execution_count": null,
   "id": "4d00081f",
   "metadata": {
    "id": "4d00081f",
    "outputId": "8f74257f-2abb-45e9-e9d5-c801b90682db",
    "scrolled": true
   },
   "outputs": [],
   "source": [
    "list1.reverse() # Reverse the list\n",
    "list1\n"
   ]
  },
  {
   "cell_type": "code",
   "execution_count": null,
   "id": "42bfc8fb",
   "metadata": {},
   "outputs": [],
   "source": [
    "list1[::2]"
   ]
  },
  {
   "cell_type": "code",
   "execution_count": null,
   "id": "d7d46941",
   "metadata": {
    "id": "d7d46941",
    "outputId": "0792bd14-8d66-401d-a093-cc297afd261b"
   },
   "outputs": [],
   "source": [
    "list1  =  list1[::-1]  #  Reverse  the  list\n",
    "list1\n"
   ]
  },
  {
   "cell_type": "code",
   "execution_count": null,
   "id": "11283ce8",
   "metadata": {
    "id": "11283ce8",
    "outputId": "29157fb5-77fa-4c68-a195-2079e389bb63"
   },
   "outputs": [],
   "source": [
    "mylist3  =  [9,5,2,99,12,88,34]\n",
    "mylist3.sort()\t# Sort list in ascending order\n",
    "mylist3\n"
   ]
  },
  {
   "cell_type": "code",
   "execution_count": 10,
   "id": "93f367c4",
   "metadata": {},
   "outputs": [
    {
     "data": {
      "text/plain": [
       "['one', 'two', 'three', 'four']"
      ]
     },
     "execution_count": 10,
     "metadata": {},
     "output_type": "execute_result"
    }
   ],
   "source": [
    "list1"
   ]
  },
  {
   "cell_type": "code",
   "execution_count": 11,
   "id": "e52bcbe2",
   "metadata": {},
   "outputs": [],
   "source": [
    "list1.sort()"
   ]
  },
  {
   "cell_type": "code",
   "execution_count": 13,
   "id": "fb77e95e",
   "metadata": {},
   "outputs": [
    {
     "data": {
      "text/plain": [
       "['four', 'one', 'three', 'two', 5, 6.7, 8.1]"
      ]
     },
     "execution_count": 13,
     "metadata": {},
     "output_type": "execute_result"
    }
   ],
   "source": [
    "list1.extend([5,6.7,8.1])\n",
    "list1"
   ]
  },
  {
   "cell_type": "code",
   "execution_count": 14,
   "id": "f7888811",
   "metadata": {},
   "outputs": [
    {
     "ename": "TypeError",
     "evalue": "'<' not supported between instances of 'int' and 'str'",
     "output_type": "error",
     "traceback": [
      "\u001b[1;31m---------------------------------------------------------------------------\u001b[0m",
      "\u001b[1;31mTypeError\u001b[0m                                 Traceback (most recent call last)",
      "Input \u001b[1;32mIn [14]\u001b[0m, in \u001b[0;36m<cell line: 1>\u001b[1;34m()\u001b[0m\n\u001b[1;32m----> 1\u001b[0m \u001b[43mlist1\u001b[49m\u001b[38;5;241;43m.\u001b[39;49m\u001b[43msort\u001b[49m\u001b[43m(\u001b[49m\u001b[43m)\u001b[49m\n",
      "\u001b[1;31mTypeError\u001b[0m: '<' not supported between instances of 'int' and 'str'"
     ]
    }
   ],
   "source": [
    "list1.sort()"
   ]
  },
  {
   "cell_type": "code",
   "execution_count": 17,
   "id": "e153fc85",
   "metadata": {},
   "outputs": [],
   "source": [
    "list11= [4,71,55,True,False]\n",
    "list11.sort()"
   ]
  },
  {
   "cell_type": "code",
   "execution_count": 18,
   "id": "80e57a9b",
   "metadata": {},
   "outputs": [
    {
     "data": {
      "text/plain": [
       "[False, True, 4, 55, 71]"
      ]
     },
     "execution_count": 18,
     "metadata": {},
     "output_type": "execute_result"
    }
   ],
   "source": [
    "list11"
   ]
  },
  {
   "cell_type": "code",
   "execution_count": null,
   "id": "24b613bc",
   "metadata": {},
   "outputs": [],
   "source": []
  },
  {
   "cell_type": "code",
   "execution_count": null,
   "id": "376c16b3",
   "metadata": {},
   "outputs": [],
   "source": []
  },
  {
   "cell_type": "code",
   "execution_count": 19,
   "id": "675135ba",
   "metadata": {
    "id": "675135ba",
    "outputId": "caa46b93-13ab-4699-a1d9-a92eef92d113"
   },
   "outputs": [
    {
     "data": {
      "text/plain": [
       "[99, 88, 34, 12, 9, 5, 2]"
      ]
     },
     "execution_count": 19,
     "metadata": {},
     "output_type": "execute_result"
    }
   ],
   "source": [
    "mylist3  =  [9,5,2,99,12,88,34]\n",
    "mylist3.sort(reverse=True)\t#  Sort  list  in  descending  order\n",
    "mylist3\n"
   ]
  },
  {
   "cell_type": "code",
   "execution_count": null,
   "id": "bdd35712",
   "metadata": {},
   "outputs": [],
   "source": [
    "mylist4= ['banana', 'mango', 'apples']\n",
    "mylist4.sort()"
   ]
  },
  {
   "cell_type": "code",
   "execution_count": null,
   "id": "7609c9ab",
   "metadata": {},
   "outputs": [],
   "source": [
    "mylist4 # list of strings sorted by alphabetic order"
   ]
  },
  {
   "cell_type": "markdown",
   "id": "93722144",
   "metadata": {
    "id": "93722144"
   },
   "source": [
    "## All / Any\n",
    "\n",
    "\n",
    "\n"
   ]
  },
  {
   "cell_type": "raw",
   "id": "a4f5e776",
   "metadata": {
    "id": "a4f5e776"
   },
   "source": [
    "The all() method returns:\n",
    "\n",
    "True - If all elements in a list are true\n",
    "False - If any element in a list is false\n",
    "\n",
    "The any() function returns True if any element in the list is True. \n",
    "If not, any() returns False."
   ]
  },
  {
   "cell_type": "code",
   "execution_count": null,
   "id": "395a5b60",
   "metadata": {},
   "outputs": [],
   "source": [
    "# all nos. except 0 are True"
   ]
  },
  {
   "cell_type": "code",
   "execution_count": null,
   "id": "a8410967",
   "metadata": {
    "id": "a8410967"
   },
   "outputs": [],
   "source": [
    "L1  =  [1,2,3,4,0]"
   ]
  },
  {
   "cell_type": "code",
   "execution_count": null,
   "id": "90b5d4e5",
   "metadata": {
    "id": "90b5d4e5",
    "outputId": "7652e938-872b-421f-e8f9-7591b80f6925"
   },
   "outputs": [],
   "source": [
    "all(L1) # Will Return false as one value is false (Value 0)"
   ]
  },
  {
   "cell_type": "code",
   "execution_count": null,
   "id": "481ab806",
   "metadata": {
    "id": "481ab806",
    "outputId": "7a4c6975-7348-4baf-c9a6-435d2b49bfe0"
   },
   "outputs": [],
   "source": [
    "any(L1)\t# Will Return True as we have items in the list with \n",
    "#True value"
   ]
  },
  {
   "cell_type": "code",
   "execution_count": 20,
   "id": "3096aad9",
   "metadata": {
    "id": "3096aad9"
   },
   "outputs": [],
   "source": [
    "L2  =  [1,2,3,4,True,False]"
   ]
  },
  {
   "cell_type": "code",
   "execution_count": 21,
   "id": "b87169d4",
   "metadata": {
    "id": "b87169d4",
    "scrolled": false
   },
   "outputs": [
    {
     "data": {
      "text/plain": [
       "False"
      ]
     },
     "execution_count": 21,
     "metadata": {},
     "output_type": "execute_result"
    }
   ],
   "source": [
    "all(L2) # Returns false as one value is false"
   ]
  },
  {
   "cell_type": "code",
   "execution_count": 22,
   "id": "973c0c73",
   "metadata": {
    "id": "973c0c73",
    "scrolled": true
   },
   "outputs": [
    {
     "data": {
      "text/plain": [
       "True"
      ]
     },
     "execution_count": 22,
     "metadata": {},
     "output_type": "execute_result"
    }
   ],
   "source": [
    "any(L2)\t# Will Return True as we have items in the list with True value"
   ]
  },
  {
   "cell_type": "code",
   "execution_count": 24,
   "id": "742bb0c1",
   "metadata": {},
   "outputs": [
    {
     "data": {
      "text/plain": [
       "[1, 2, 3, 4, 5, 6]"
      ]
     },
     "execution_count": 24,
     "metadata": {},
     "output_type": "execute_result"
    }
   ],
   "source": [
    "L2[4:] = [5,6]\n",
    "L2"
   ]
  },
  {
   "cell_type": "code",
   "execution_count": null,
   "id": "a3c66374",
   "metadata": {},
   "outputs": [],
   "source": []
  },
  {
   "cell_type": "code",
   "execution_count": null,
   "id": "dd86a318",
   "metadata": {},
   "outputs": [],
   "source": []
  },
  {
   "cell_type": "markdown",
   "id": "486a59cb",
   "metadata": {
    "id": "486a59cb"
   },
   "source": [
    "# Tuples"
   ]
  },
  {
   "cell_type": "raw",
   "id": "7d567fad",
   "metadata": {
    "id": "7d567fad"
   },
   "source": [
    "1.\tTuple is similar to List except that the objects in tuple are immutable which means we cannot change the elements of a         tuple once assigned.\n",
    "2.\tWhen we do not want to change the data over time, tuple is a preferred data type.\n",
    "3.\tIterating over the elements of a tuple is faster compared to iterating over a list.\n"
   ]
  },
  {
   "cell_type": "markdown",
   "id": "87a90b6f",
   "metadata": {
    "id": "87a90b6f"
   },
   "source": [
    "# Tuple Creation"
   ]
  },
  {
   "cell_type": "code",
   "execution_count": null,
   "id": "9b4a8d28",
   "metadata": {
    "id": "9b4a8d28"
   },
   "outputs": [],
   "source": [
    "tup1 = ()\t# Empty tuple"
   ]
  },
  {
   "cell_type": "code",
   "execution_count": null,
   "id": "5e784081",
   "metadata": {},
   "outputs": [],
   "source": [
    "tup11=tuple()\n",
    "tup11"
   ]
  },
  {
   "cell_type": "code",
   "execution_count": 25,
   "id": "b54396d4",
   "metadata": {
    "id": "b54396d4"
   },
   "outputs": [],
   "source": [
    "tup2  =  (10,30,60)\t#  tuple  of  integers  numbers"
   ]
  },
  {
   "cell_type": "code",
   "execution_count": 26,
   "id": "d2dab20a",
   "metadata": {
    "id": "d2dab20a"
   },
   "outputs": [],
   "source": [
    "tup3 = (10.77,30.66,60.89)\t# tuple of float numbers"
   ]
  },
  {
   "cell_type": "code",
   "execution_count": 27,
   "id": "c6817268",
   "metadata": {},
   "outputs": [
    {
     "name": "stdout",
     "output_type": "stream",
     "text": [
      "(10, 30, 60, 10.77, 30.66, 60.89)\n"
     ]
    }
   ],
   "source": [
    "new_tup=tup2+tup3\n",
    "print (new_tup)"
   ]
  },
  {
   "cell_type": "code",
   "execution_count": null,
   "id": "1f6d00aa",
   "metadata": {},
   "outputs": [],
   "source": [
    "new_tup[-1]"
   ]
  },
  {
   "cell_type": "code",
   "execution_count": null,
   "id": "4783658d",
   "metadata": {
    "id": "4783658d"
   },
   "outputs": [],
   "source": [
    "tup4 =  ('one','two' , \"three\")\t# tuple of strings"
   ]
  },
  {
   "cell_type": "code",
   "execution_count": 28,
   "id": "1d826f25",
   "metadata": {
    "id": "1d826f25"
   },
   "outputs": [
    {
     "data": {
      "text/plain": [
       "('Data', 25, (50, 100), (150, 90))"
      ]
     },
     "execution_count": 28,
     "metadata": {},
     "output_type": "execute_result"
    }
   ],
   "source": [
    "tup5  =  ('Data',  25  ,(50,  100),(150,  90))\t#  Nested  tuples\n",
    "tup5"
   ]
  },
  {
   "cell_type": "code",
   "execution_count": 29,
   "id": "474ec31a",
   "metadata": {},
   "outputs": [
    {
     "data": {
      "text/plain": [
       "150"
      ]
     },
     "execution_count": 29,
     "metadata": {},
     "output_type": "execute_result"
    }
   ],
   "source": [
    "# Index 150\n",
    "tup5[-1][0]"
   ]
  },
  {
   "cell_type": "code",
   "execution_count": null,
   "id": "7330bc0d",
   "metadata": {
    "id": "7330bc0d"
   },
   "outputs": [],
   "source": [
    "tup6  =  (100,  'Data',  17.765)\t#  Tuple  of  mixed  data  types"
   ]
  },
  {
   "cell_type": "code",
   "execution_count": 30,
   "id": "19200835",
   "metadata": {
    "id": "19200835",
    "scrolled": true
   },
   "outputs": [
    {
     "data": {
      "text/plain": [
       "('Data', 25, [50, 100], [150, 90], {'David', 'John'}, (99, 22, 33))"
      ]
     },
     "execution_count": 30,
     "metadata": {},
     "output_type": "execute_result"
    }
   ],
   "source": [
    "tup7  =  ('Data',  25  ,[50,  100],[150,  90]  ,  \n",
    "          {'John'  ,  'David'}  , \n",
    "          (99,22,33))\n",
    "tup7"
   ]
  },
  {
   "cell_type": "code",
   "execution_count": null,
   "id": "7b622f86",
   "metadata": {
    "id": "7b622f86",
    "outputId": "3d0a8d76-ea13-4979-a6fa-3d1ad3c62025"
   },
   "outputs": [],
   "source": [
    "len(tup7) #Length of tuple"
   ]
  },
  {
   "cell_type": "code",
   "execution_count": 33,
   "id": "ee14d600",
   "metadata": {},
   "outputs": [
    {
     "data": {
      "text/plain": [
       "True"
      ]
     },
     "execution_count": 33,
     "metadata": {},
     "output_type": "execute_result"
    }
   ],
   "source": [
    "150 in tup7[3]"
   ]
  },
  {
   "cell_type": "code",
   "execution_count": 32,
   "id": "31410c7b",
   "metadata": {},
   "outputs": [
    {
     "data": {
      "text/plain": [
       "True"
      ]
     },
     "execution_count": 32,
     "metadata": {},
     "output_type": "execute_result"
    }
   ],
   "source": [
    "25 in tup7"
   ]
  },
  {
   "cell_type": "code",
   "execution_count": null,
   "id": "ab921249",
   "metadata": {},
   "outputs": [],
   "source": [
    "tup7[4][0]"
   ]
  },
  {
   "cell_type": "code",
   "execution_count": null,
   "id": "16349994",
   "metadata": {},
   "outputs": [],
   "source": [
    "# locate 99\n",
    "tup7[-1][0]"
   ]
  },
  {
   "cell_type": "markdown",
   "id": "4da5ffe5",
   "metadata": {
    "id": "4da5ffe5"
   },
   "source": [
    "## Tuple Indexing"
   ]
  },
  {
   "cell_type": "code",
   "execution_count": null,
   "id": "9a4c2b36",
   "metadata": {
    "id": "9a4c2b36"
   },
   "outputs": [],
   "source": [
    "tup2[0]  #  Retreive  first  element  of  the  tuple"
   ]
  },
  {
   "cell_type": "code",
   "execution_count": null,
   "id": "98693827",
   "metadata": {
    "id": "98693827",
    "outputId": "73ca1874-dc47-456b-c067-bff653bcae3c",
    "scrolled": true
   },
   "outputs": [],
   "source": [
    "tup7"
   ]
  },
  {
   "cell_type": "code",
   "execution_count": null,
   "id": "65ea6bb8",
   "metadata": {
    "id": "65ea6bb8"
   },
   "outputs": [],
   "source": [
    "tup8=('Data', 25, [50, 100], [150, 90], ['David', 'John'], (99, 22, 33))"
   ]
  },
  {
   "cell_type": "code",
   "execution_count": null,
   "id": "f798de0a",
   "metadata": {
    "id": "f798de0a",
    "outputId": "62bbb66a-2ed5-42c2-9548-f7a702e3e356"
   },
   "outputs": [],
   "source": [
    "tup8[4][1]  #  Nested  indexing  -  Access  the  first  character  of  the  first  tuple  element"
   ]
  },
  {
   "cell_type": "markdown",
   "id": "eb883e32",
   "metadata": {
    "id": "eb883e32"
   },
   "source": [
    "## Tuple Slicing"
   ]
  },
  {
   "cell_type": "code",
   "execution_count": 34,
   "id": "91efac69",
   "metadata": {
    "id": "91efac69"
   },
   "outputs": [],
   "source": [
    "mytuple = ('one' , 'two' , 'three' , \n",
    "           'four' , 'five' , 'six' , 'seven' , 'eight')"
   ]
  },
  {
   "cell_type": "code",
   "execution_count": null,
   "id": "c93c1ff3",
   "metadata": {
    "id": "c93c1ff3",
    "outputId": "13f97ebe-826f-4c04-864a-d9b368a2b33d"
   },
   "outputs": [],
   "source": [
    "mytuple[:3]  #  Return  all  items  from  0th  to \n",
    "#3rd  index  location  excluding  the  upper limit"
   ]
  },
  {
   "cell_type": "markdown",
   "id": "d15ede0c",
   "metadata": {
    "id": "d15ede0c"
   },
   "source": [
    "## Remove & Change Items"
   ]
  },
  {
   "cell_type": "code",
   "execution_count": 35,
   "id": "e620b090",
   "metadata": {
    "collapsed": true,
    "id": "e620b090",
    "outputId": "9aa6759b-0979-431d-fcf0-d4ba7aa8d847"
   },
   "outputs": [
    {
     "ename": "TypeError",
     "evalue": "'tuple' object doesn't support item deletion",
     "output_type": "error",
     "traceback": [
      "\u001b[1;31m---------------------------------------------------------------------------\u001b[0m",
      "\u001b[1;31mTypeError\u001b[0m                                 Traceback (most recent call last)",
      "Input \u001b[1;32mIn [35]\u001b[0m, in \u001b[0;36m<cell line: 1>\u001b[1;34m()\u001b[0m\n\u001b[1;32m----> 1\u001b[0m \u001b[38;5;28;01mdel\u001b[39;00m  mytuple[\u001b[38;5;241m0\u001b[39m]\n",
      "\u001b[1;31mTypeError\u001b[0m: 'tuple' object doesn't support item deletion"
     ]
    }
   ],
   "source": [
    "del  mytuple[0]  #  Tuples  are  immutable  which  means  we  can't  DELETE  tuple  items"
   ]
  },
  {
   "cell_type": "code",
   "execution_count": null,
   "id": "d04193ac",
   "metadata": {
    "id": "d04193ac",
    "outputId": "28528ddc-2519-4803-97ed-76e22b6a7399"
   },
   "outputs": [],
   "source": [
    "mytuple[0]  =  1  #  Tuples  are  immutable  which  means  we  can't  CHANGE  tuple  items"
   ]
  },
  {
   "cell_type": "code",
   "execution_count": 36,
   "id": "b0510f9a",
   "metadata": {
    "collapsed": true,
    "id": "b0510f9a",
    "outputId": "626bc47c-9468-4b36-c505-4dad1db11193"
   },
   "outputs": [
    {
     "ename": "AttributeError",
     "evalue": "'tuple' object has no attribute 'clear'",
     "output_type": "error",
     "traceback": [
      "\u001b[1;31m---------------------------------------------------------------------------\u001b[0m",
      "\u001b[1;31mAttributeError\u001b[0m                            Traceback (most recent call last)",
      "Input \u001b[1;32mIn [36]\u001b[0m, in \u001b[0;36m<cell line: 1>\u001b[1;34m()\u001b[0m\n\u001b[1;32m----> 1\u001b[0m \u001b[43mmytuple\u001b[49m\u001b[38;5;241;43m.\u001b[39;49m\u001b[43mclear\u001b[49m()\n",
      "\u001b[1;31mAttributeError\u001b[0m: 'tuple' object has no attribute 'clear'"
     ]
    }
   ],
   "source": [
    "mytuple.clear()"
   ]
  },
  {
   "cell_type": "code",
   "execution_count": 37,
   "id": "65bdac0a",
   "metadata": {
    "id": "8f68e70c"
   },
   "outputs": [],
   "source": [
    "del mytuple # Deleting entire tuple object is possible"
   ]
  },
  {
   "cell_type": "code",
   "execution_count": 38,
   "id": "85cf3d1b",
   "metadata": {
    "id": "85cf3d1b"
   },
   "outputs": [
    {
     "ename": "NameError",
     "evalue": "name 'mytuple' is not defined",
     "output_type": "error",
     "traceback": [
      "\u001b[1;31m---------------------------------------------------------------------------\u001b[0m",
      "\u001b[1;31mNameError\u001b[0m                                 Traceback (most recent call last)",
      "Input \u001b[1;32mIn [38]\u001b[0m, in \u001b[0;36m<cell line: 1>\u001b[1;34m()\u001b[0m\n\u001b[1;32m----> 1\u001b[0m \u001b[43mmytuple\u001b[49m\n",
      "\u001b[1;31mNameError\u001b[0m: name 'mytuple' is not defined"
     ]
    }
   ],
   "source": [
    "mytuple"
   ]
  },
  {
   "cell_type": "markdown",
   "id": "3cfc3337",
   "metadata": {
    "id": "3cfc3337"
   },
   "source": [
    "## Count"
   ]
  },
  {
   "cell_type": "code",
   "execution_count": null,
   "id": "493a5cd5",
   "metadata": {
    "id": "493a5cd5"
   },
   "outputs": [],
   "source": [
    "mytuple1  =('one',  'two',  'three',  'four',  'One', \n",
    "            'one',  'two',  'three')\n",
    "mytuple1"
   ]
  },
  {
   "cell_type": "code",
   "execution_count": null,
   "id": "f23935d6",
   "metadata": {
    "id": "f23935d6",
    "outputId": "f4bbd9ea-b7dd-4aed-bfc6-ee2e34036b65"
   },
   "outputs": [],
   "source": [
    "mytuple1.count('one') # Number of times item \"one\" \n",
    "# occurred in the tuple."
   ]
  },
  {
   "cell_type": "code",
   "execution_count": null,
   "id": "1e91ef78",
   "metadata": {},
   "outputs": [],
   "source": [
    "mytuple1.count('our')"
   ]
  },
  {
   "cell_type": "markdown",
   "id": "561ee223",
   "metadata": {
    "id": "561ee223"
   },
   "source": [
    "## Tuple Membership"
   ]
  },
  {
   "cell_type": "code",
   "execution_count": null,
   "id": "c598e898",
   "metadata": {
    "id": "c598e898"
   },
   "outputs": [],
   "source": [
    "'one' in mytuple1 # Check if 'one' exist in the tuple"
   ]
  },
  {
   "cell_type": "code",
   "execution_count": null,
   "id": "ef6f87ea",
   "metadata": {
    "id": "ef6f87ea"
   },
   "outputs": [],
   "source": [
    "if 'three' in mytuple1: # Check if 'three' exist in the tuple\n",
    "    print('Three is present in the tuple')\n",
    "else:\n",
    "    print('Three is not present in the tuple')\n"
   ]
  },
  {
   "cell_type": "markdown",
   "id": "1d24390f",
   "metadata": {
    "id": "1d24390f"
   },
   "source": [
    "## Index Position"
   ]
  },
  {
   "cell_type": "code",
   "execution_count": null,
   "id": "c974357d",
   "metadata": {
    "id": "c974357d",
    "outputId": "9cf4885c-f7f7-494a-b39e-be30ee06bf7e",
    "scrolled": true
   },
   "outputs": [],
   "source": [
    "mytuple1.index('one') # Index of first element equal to 'one'"
   ]
  },
  {
   "cell_type": "code",
   "execution_count": null,
   "id": "76dff63c",
   "metadata": {
    "id": "76dff63c",
    "outputId": "7aa04df4-2d3d-4fed-e9b6-fa4613897bff"
   },
   "outputs": [],
   "source": [
    "mytuple1.index('two') # index locates the first instance of element"
   ]
  },
  {
   "cell_type": "markdown",
   "id": "07f9da09",
   "metadata": {
    "id": "07f9da09"
   },
   "source": [
    "## Sorting"
   ]
  },
  {
   "cell_type": "code",
   "execution_count": null,
   "id": "5afd12a0",
   "metadata": {
    "id": "5afd12a0"
   },
   "outputs": [],
   "source": [
    "mytuple2  =  (43,67,99,12,6,90,67)"
   ]
  },
  {
   "cell_type": "code",
   "execution_count": null,
   "id": "9390d830",
   "metadata": {
    "id": "9390d830",
    "outputId": "738a58e0-3fa5-4d11-9982-bf7911e35cba"
   },
   "outputs": [],
   "source": [
    "sorted(mytuple2)\t# Returns a new sorted list and doesn't change original tuple"
   ]
  },
  {
   "cell_type": "code",
   "execution_count": null,
   "id": "691a4c64",
   "metadata": {},
   "outputs": [],
   "source": [
    "mytuple2"
   ]
  },
  {
   "cell_type": "code",
   "execution_count": null,
   "id": "e79cb32a",
   "metadata": {
    "id": "e79cb32a",
    "outputId": "c4cf4df2-cba2-458d-d41b-839cb763256b",
    "scrolled": true
   },
   "outputs": [],
   "source": [
    "new=sorted(mytuple2, reverse=True) # Sort in descending order\n",
    "print(new, type(new))"
   ]
  },
  {
   "cell_type": "code",
   "execution_count": null,
   "id": "3d19bcc7",
   "metadata": {},
   "outputs": [],
   "source": [
    "new.sort()\n",
    "print (new)"
   ]
  },
  {
   "cell_type": "markdown",
   "id": "9f93e937",
   "metadata": {
    "id": "9f93e937"
   },
   "source": [
    "# Sets\n"
   ]
  },
  {
   "cell_type": "raw",
   "id": "d70a4804",
   "metadata": {
    "id": "d70a4804"
   },
   "source": [
    "1)\tUnordered & Unindexed collection of items.\n",
    "\n",
    "2)\tSet elements are unique. Duplicate elements are not allowed.\n",
    "\n",
    "3)\tSet elements are immutable (cannot be changed).\n",
    "\n",
    "4)\tSet itself is mutable. We can add or remove items from it.\n",
    "\n"
   ]
  },
  {
   "cell_type": "markdown",
   "id": "596a1f30",
   "metadata": {
    "id": "596a1f30"
   },
   "source": [
    "## Set Creation"
   ]
  },
  {
   "cell_type": "code",
   "execution_count": null,
   "id": "09e8e959",
   "metadata": {
    "id": "09e8e959"
   },
   "outputs": [],
   "source": [
    "myset1={} # Empty set cannot be created by curly braces"
   ]
  },
  {
   "cell_type": "code",
   "execution_count": null,
   "id": "05fa1815",
   "metadata": {
    "id": "05fa1815",
    "outputId": "64582511-79f0-4994-be1c-0c17731d703b"
   },
   "outputs": [],
   "source": [
    "type(myset1)"
   ]
  },
  {
   "cell_type": "code",
   "execution_count": null,
   "id": "e8d81450",
   "metadata": {
    "id": "e8d81450",
    "outputId": "44412cdc-1bad-480a-b59a-3a8a7cfed121"
   },
   "outputs": [],
   "source": [
    "myset = set() # Create an empty set\n",
    "print(type(myset))\n"
   ]
  },
  {
   "cell_type": "code",
   "execution_count": null,
   "id": "32d43fc8",
   "metadata": {
    "id": "32d43fc8",
    "outputId": "4c9b7a5e-e97f-4d13-bac8-b83eea401041"
   },
   "outputs": [],
   "source": [
    "myset  =  {1,5,3,2,4}  #  Set  of  numbers\n",
    "myset"
   ]
  },
  {
   "cell_type": "code",
   "execution_count": null,
   "id": "79e5012f",
   "metadata": {},
   "outputs": [],
   "source": [
    "# Order of elements is not relevant for a set. (display tends to\n",
    "# show some order)"
   ]
  },
  {
   "cell_type": "code",
   "execution_count": null,
   "id": "49da6e3d",
   "metadata": {
    "id": "49da6e3d",
    "outputId": "d7dc1d71-fcb1-4c4a-edec-c06d76ade834"
   },
   "outputs": [],
   "source": [
    "len(myset) #Length or number of elements of the set"
   ]
  },
  {
   "cell_type": "code",
   "execution_count": null,
   "id": "3b6b7916",
   "metadata": {
    "id": "3b6b7916",
    "outputId": "2703ac6b-91a8-43db-964c-bb01b9408969"
   },
   "outputs": [],
   "source": [
    "my_set  =  {1,1,2,2,3,4,5,5}\n",
    "my_set\t# Duplicate elements are not allowed."
   ]
  },
  {
   "cell_type": "code",
   "execution_count": null,
   "id": "36fa0643",
   "metadata": {
    "id": "36fa0643",
    "outputId": "33abc050-dd08-416c-ed30-c0d8c2d84dc5"
   },
   "outputs": [],
   "source": [
    "myset1 = {1.79,2.08,3.99,4.56,5.45} # Set of float numbers\n",
    "myset1\n"
   ]
  },
  {
   "cell_type": "code",
   "execution_count": null,
   "id": "69b7216d",
   "metadata": {
    "id": "69b7216d"
   },
   "outputs": [],
   "source": [
    "myset2 = {'Data' , 'John' , 'Tyrion'} # Set of Strings\n",
    "myset2\n"
   ]
  },
  {
   "cell_type": "code",
   "execution_count": null,
   "id": "a875fc83",
   "metadata": {
    "id": "a875fc83",
    "outputId": "37d9101b-26ab-4ae0-d5c2-f447c61f3b83"
   },
   "outputs": [],
   "source": [
    "myset3  =  {10,20,  \"Hola\",  (11,  22,  32)}  #  Mixed  datatypes\n",
    "myset3\n"
   ]
  },
  {
   "cell_type": "code",
   "execution_count": null,
   "id": "3788e6aa",
   "metadata": {},
   "outputs": [],
   "source": [
    "myset3[0][2] # indexing not allowed"
   ]
  },
  {
   "cell_type": "markdown",
   "id": "9d8df5f3",
   "metadata": {
    "id": "9d8df5f3"
   },
   "source": [
    "## Set Membership"
   ]
  },
  {
   "cell_type": "code",
   "execution_count": null,
   "id": "c0166c9b",
   "metadata": {
    "id": "c0166c9b"
   },
   "outputs": [],
   "source": [
    "myset = {'one', 'two', 'three', 'four', 'five', 'six',\n",
    "         'seven', 'eight'}"
   ]
  },
  {
   "cell_type": "code",
   "execution_count": null,
   "id": "a7b305fe",
   "metadata": {
    "id": "a7b305fe"
   },
   "outputs": [],
   "source": [
    "myset"
   ]
  },
  {
   "cell_type": "code",
   "execution_count": null,
   "id": "70cf4fb0",
   "metadata": {
    "id": "70cf4fb0"
   },
   "outputs": [],
   "source": [
    "'one' in myset # Check if 'one' exist in the set"
   ]
  },
  {
   "cell_type": "code",
   "execution_count": null,
   "id": "ec692bd1",
   "metadata": {
    "id": "ec692bd1"
   },
   "outputs": [],
   "source": [
    "if 'three' in myset: # Check if 'three' exist in the set\n",
    "    print('Three is present in the set')\n",
    "else:\n",
    "    print('Three is not present in the set')\n"
   ]
  },
  {
   "cell_type": "markdown",
   "id": "ad563622",
   "metadata": {
    "id": "ad563622"
   },
   "source": [
    "## Add & Remove Items"
   ]
  },
  {
   "cell_type": "code",
   "execution_count": null,
   "id": "f1bc84c8",
   "metadata": {
    "id": "f1bc84c8",
    "outputId": "9ec5505d-2b57-4a66-ca1e-5d490cc04c79"
   },
   "outputs": [],
   "source": [
    "myset3  =  {10,20,  \"Hola\",  (11,  22,  32)}  #  Mixed  datatypes\n",
    "myset3"
   ]
  },
  {
   "cell_type": "code",
   "execution_count": null,
   "id": "c6a5dd03",
   "metadata": {
    "id": "c6a5dd03",
    "outputId": "9bd44f3b-5bc9-4192-ab70-cdcda8b546e9"
   },
   "outputs": [],
   "source": [
    "myset3.add(True)  #  Add  item  to  a  set  using  add()  method\n",
    "myset3\n",
    "# check with bool and float\n",
    "# bool data is not inserted"
   ]
  },
  {
   "cell_type": "code",
   "execution_count": null,
   "id": "6f3c5a99",
   "metadata": {},
   "outputs": [],
   "source": []
  },
  {
   "cell_type": "code",
   "execution_count": null,
   "id": "9b7445df",
   "metadata": {
    "id": "9b7445df"
   },
   "outputs": [],
   "source": [
    "myset3.update(['TEN' , 'ELEVEN' , 'TWELVE'])\t# Add multiple item to a set using\n",
    "myset3\n"
   ]
  },
  {
   "cell_type": "code",
   "execution_count": null,
   "id": "58507899",
   "metadata": {
    "id": "58507899"
   },
   "outputs": [],
   "source": [
    "myset3.remove('Hola')  #  remove  item  in  a  set  using  remove()  method\n",
    "myset3\n"
   ]
  },
  {
   "cell_type": "code",
   "execution_count": null,
   "id": "d629656a",
   "metadata": {
    "id": "d629656a"
   },
   "outputs": [],
   "source": [
    "myset3.discard('TEN') # remove item from a set using discard() method\n",
    "myset3\n"
   ]
  },
  {
   "cell_type": "code",
   "execution_count": null,
   "id": "416ddde3",
   "metadata": {
    "id": "416ddde3",
    "outputId": "f13f7764-32b3-45ac-da4a-be21172c9e94"
   },
   "outputs": [],
   "source": [
    "myset3.clear() # Delete all items in a set\n",
    "myset3\n"
   ]
  },
  {
   "cell_type": "code",
   "execution_count": null,
   "id": "24506165",
   "metadata": {
    "id": "24506165"
   },
   "outputs": [],
   "source": [
    "del myset3 # Delete the set object\n",
    "myset3\n",
    "\n"
   ]
  },
  {
   "cell_type": "code",
   "execution_count": null,
   "id": "1d1aa633",
   "metadata": {
    "id": "1d1aa633",
    "outputId": "bc5e6d48-1d1a-46e9-9e19-1217e1a3461f"
   },
   "outputs": [],
   "source": [
    "myset"
   ]
  },
  {
   "cell_type": "markdown",
   "id": "a46a7b1e",
   "metadata": {
    "id": "a46a7b1e"
   },
   "source": [
    "## Set Operation"
   ]
  },
  {
   "cell_type": "code",
   "execution_count": null,
   "id": "986a8ead",
   "metadata": {
    "id": "986a8ead"
   },
   "outputs": [],
   "source": [
    "A  =  {1,2,3,4,5}\n",
    "B  =  {4,5,6,7,8}\n",
    "C  =  {8,9,10}\n"
   ]
  },
  {
   "cell_type": "code",
   "execution_count": null,
   "id": "7d094ecf",
   "metadata": {
    "id": "7d094ecf",
    "outputId": "88068bb7-f8f0-4122-bf8f-78e53d6031b1"
   },
   "outputs": [],
   "source": [
    "A | B\t# Union of A and B (All elements from both sets.\n",
    "#NO DUPLICATES)"
   ]
  },
  {
   "cell_type": "code",
   "execution_count": null,
   "id": "a991056f",
   "metadata": {
    "id": "a991056f",
    "outputId": "8885335e-a52a-4187-f031-fc0e2bddb45e"
   },
   "outputs": [],
   "source": [
    "A.union(B)  #  Union  of  A  and  B"
   ]
  },
  {
   "cell_type": "code",
   "execution_count": null,
   "id": "646b5111",
   "metadata": {
    "id": "646b5111",
    "outputId": "0c75805b-7e4b-435b-ca60-521e45b530c4"
   },
   "outputs": [],
   "source": [
    "newset=B.union(A)"
   ]
  },
  {
   "cell_type": "code",
   "execution_count": null,
   "id": "f88ecf01",
   "metadata": {},
   "outputs": [],
   "source": [
    "newset"
   ]
  },
  {
   "cell_type": "code",
   "execution_count": null,
   "id": "6718de09",
   "metadata": {
    "id": "6718de09",
    "outputId": "a962f01a-d858-4e3c-d4de-792a7a54031b"
   },
   "outputs": [],
   "source": [
    "A.union(B,  C)\t#  Union  of  A,  B  and  C."
   ]
  },
  {
   "cell_type": "code",
   "execution_count": null,
   "id": "56439fe0",
   "metadata": {
    "id": "56439fe0"
   },
   "outputs": [],
   "source": [
    "A  =  {1,2,3,4,5}\n",
    "B  =  {4,5,6,7,8}\n"
   ]
  },
  {
   "cell_type": "code",
   "execution_count": null,
   "id": "5dafdf1a",
   "metadata": {
    "id": "5dafdf1a",
    "outputId": "659a8fb7-2768-449a-ab9d-3ad290024af5"
   },
   "outputs": [],
   "source": [
    "A.intersection(B)  #Intersection  of  A  and  B"
   ]
  },
  {
   "cell_type": "code",
   "execution_count": null,
   "id": "53fffc16",
   "metadata": {},
   "outputs": [],
   "source": [
    "A.intersection(B,C)"
   ]
  },
  {
   "cell_type": "code",
   "execution_count": null,
   "id": "feb44c41",
   "metadata": {
    "id": "feb44c41",
    "outputId": "bed0c2eb-e6d7-4200-a7d4-e9eb083732cb"
   },
   "outputs": [],
   "source": [
    "A.difference(B)  #  Difference  of set. set of elements that are only in A but not in B"
   ]
  },
  {
   "cell_type": "code",
   "execution_count": null,
   "id": "0aa61b9d",
   "metadata": {
    "id": "0aa61b9d",
    "outputId": "c8c9abbd-22e5-4da4-956e-99fa768acf71"
   },
   "outputs": [],
   "source": [
    "B.difference(A) #  set  of  elements  that  are  only  in  B  but  not  in  A"
   ]
  },
  {
   "cell_type": "code",
   "execution_count": null,
   "id": "a9e097fb",
   "metadata": {
    "scrolled": true
   },
   "outputs": [],
   "source": [
    "B - A"
   ]
  },
  {
   "cell_type": "code",
   "execution_count": null,
   "id": "8a85f532",
   "metadata": {},
   "outputs": [],
   "source": [
    "B.difference (A,C)"
   ]
  },
  {
   "cell_type": "markdown",
   "id": "abf69658",
   "metadata": {
    "id": "abf69658"
   },
   "source": [
    "# Dictionary"
   ]
  },
  {
   "cell_type": "markdown",
   "id": "05b3ae17",
   "metadata": {
    "id": "05b3ae17"
   },
   "source": [
    "Dictionary is a mutable data type in Python.\n",
    "A python dictionary is a collection of key and value pairs separated by a colon (:) & enclosed in curly braces {}.\n",
    "Keys must be unique in a dictionary, duplicate values are allowed\n"
   ]
  },
  {
   "cell_type": "markdown",
   "id": "ae73a30a",
   "metadata": {
    "id": "ae73a30a"
   },
   "source": [
    "![image.png](attachment:image.png)"
   ]
  },
  {
   "cell_type": "markdown",
   "id": "dde5b0c8",
   "metadata": {
    "id": "dde5b0c8"
   },
   "source": [
    "## Create Dictionary"
   ]
  },
  {
   "cell_type": "code",
   "execution_count": null,
   "id": "872084fe",
   "metadata": {
    "id": "872084fe",
    "outputId": "f1f38ef1-82e1-454d-9561-43579a711a45"
   },
   "outputs": [],
   "source": [
    "mydict = dict() # empty dictionary\n",
    "mydict\n"
   ]
  },
  {
   "cell_type": "code",
   "execution_count": null,
   "id": "8d11a2cd",
   "metadata": {
    "id": "8d11a2cd",
    "outputId": "e4969f41-ca69-47ec-a2e6-41fea28a2bd8"
   },
   "outputs": [],
   "source": [
    "type(mydict)"
   ]
  },
  {
   "cell_type": "code",
   "execution_count": null,
   "id": "7c475d72",
   "metadata": {},
   "outputs": [],
   "source": [
    "mydict= {}\n",
    "print (mydict)\n",
    "print (type(mydict))"
   ]
  },
  {
   "cell_type": "code",
   "execution_count": null,
   "id": "2e3cbd3c",
   "metadata": {
    "id": "2e3cbd3c",
    "outputId": "9145265d-e698-458c-c1e6-209cac4feb99"
   },
   "outputs": [],
   "source": [
    "mydict  =  {1:'one'  ,  2:'two'  ,  3:'three'}  #  \n",
    "#dictionary  with  integer  keys\n",
    "mydict"
   ]
  },
  {
   "cell_type": "code",
   "execution_count": null,
   "id": "872a2b73",
   "metadata": {
    "id": "872a2b73"
   },
   "outputs": [],
   "source": [
    "mydict  =  dict({1:'one'  ,  2:'two'  ,  3:'three'})  \n",
    "#  Create  dictionary  using  dict()\n",
    "mydict\n"
   ]
  },
  {
   "cell_type": "code",
   "execution_count": null,
   "id": "b138d9f6",
   "metadata": {
    "id": "b138d9f6"
   },
   "outputs": [],
   "source": [
    "mydict = {'A':'one' , 'B':'two' , 'C':'three'} \n",
    "# dictionary with character keys\n",
    "mydict"
   ]
  },
  {
   "cell_type": "code",
   "execution_count": null,
   "id": "748c57e3",
   "metadata": {
    "id": "748c57e3"
   },
   "outputs": [],
   "source": [
    "mydict  =  {1:'one'  ,  'A':'two'  ,  3:'three'}  \n",
    "#  dictionary  with  mixed  keys\n",
    "mydict"
   ]
  },
  {
   "cell_type": "code",
   "execution_count": null,
   "id": "4fe95bcf",
   "metadata": {
    "id": "4fe95bcf",
    "outputId": "58780993-64ea-4456-afb1-e6a992256e8f"
   },
   "outputs": [],
   "source": [
    "mydict.keys() # Return Dictionary Keys using\n",
    "# keys() method"
   ]
  },
  {
   "cell_type": "code",
   "execution_count": null,
   "id": "772c3238",
   "metadata": {
    "id": "772c3238",
    "outputId": "e5f1fab5-d938-438f-942f-a3fe009ae1b4"
   },
   "outputs": [],
   "source": [
    "mydict.values() # Return Dictionary Values using \n",
    "#values() method"
   ]
  },
  {
   "cell_type": "code",
   "execution_count": null,
   "id": "bf5a01c4",
   "metadata": {
    "id": "bf5a01c4",
    "outputId": "a296b071-0789-4c51-b0eb-81a70920a72d"
   },
   "outputs": [],
   "source": [
    "mydict.items() # Access each key-value pair within a dictionary"
   ]
  },
  {
   "cell_type": "code",
   "execution_count": null,
   "id": "ea2dcd69",
   "metadata": {},
   "outputs": [],
   "source": [
    "# Keys in a dictionary are always unique\n",
    "mydict['A']# [1]"
   ]
  },
  {
   "cell_type": "code",
   "execution_count": null,
   "id": "bbef902d",
   "metadata": {},
   "outputs": [],
   "source": [
    "# Keys in a dictionary are always unique\n",
    "mydict['A'][1]"
   ]
  },
  {
   "cell_type": "code",
   "execution_count": null,
   "id": "1cd8e0eb",
   "metadata": {},
   "outputs": [],
   "source": [
    "mydict[2]"
   ]
  },
  {
   "cell_type": "code",
   "execution_count": null,
   "id": "783810c8",
   "metadata": {
    "id": "783810c8",
    "outputId": "d529f5c8-46c2-4203-c475-bf2b0f5e2024"
   },
   "outputs": [],
   "source": [
    "mydict  =  {1:'one'  ,  2:'two'  ,\n",
    "            'A':['Data'  ,  'john'  ,  'Maria']} \n",
    "#  dictionary  with one value as list\n",
    "mydict"
   ]
  },
  {
   "cell_type": "code",
   "execution_count": null,
   "id": "1357a433",
   "metadata": {
    "id": "1357a433",
    "outputId": "0012bab1-6bca-47a2-e86a-23c4c040686a"
   },
   "outputs": [],
   "source": [
    "mydict['A'][1]"
   ]
  },
  {
   "cell_type": "code",
   "execution_count": null,
   "id": "a04b476c",
   "metadata": {
    "id": "a04b476c"
   },
   "outputs": [],
   "source": [
    "# Extract Dharavi from the below nested dictionary.\n",
    "d={0:{'one':1,'two':2,'three':3,'four':4},\n",
    "   1:{'city':'bangalore','area':'kudlu'},\n",
    "   'three':{'city':'mumbai','area':'Dharavi'}} "
   ]
  },
  {
   "cell_type": "markdown",
   "id": "f5fc5982",
   "metadata": {
    "id": "f5fc5982"
   },
   "source": [
    "## Add, Remove & Change Items"
   ]
  },
  {
   "cell_type": "code",
   "execution_count": 1,
   "id": "4ebb7601",
   "metadata": {
    "id": "4ebb7601"
   },
   "outputs": [
    {
     "data": {
      "text/plain": [
       "{'Name': 'Data', 'ID': 12345, 'DOB': 1991, 'Address': 'Helsinki'}"
      ]
     },
     "execution_count": 1,
     "metadata": {},
     "output_type": "execute_result"
    }
   ],
   "source": [
    "mydict1 = {'Name':'Data','ID': 12345 ,'DOB': 1991 ,'Address':'Helsinki'} \n",
    "mydict1"
   ]
  },
  {
   "cell_type": "code",
   "execution_count": null,
   "id": "41087828",
   "metadata": {},
   "outputs": [],
   "source": [
    "mydict1.keys()"
   ]
  },
  {
   "cell_type": "code",
   "execution_count": null,
   "id": "5e848906",
   "metadata": {
    "id": "5e848906"
   },
   "outputs": [],
   "source": [
    "mydict1['DOB'] = 1992\t# Changing Dictionary Items\n",
    "mydict1['Address'] = 'Delhi'\n",
    "mydict1\n"
   ]
  },
  {
   "cell_type": "code",
   "execution_count": null,
   "id": "fd2ad34e",
   "metadata": {
    "id": "fd2ad34e"
   },
   "outputs": [],
   "source": [
    "mydict1['Job'] = 'Analyst' # Adding items in the dictionary\n",
    "mydict1\n"
   ]
  },
  {
   "cell_type": "code",
   "execution_count": null,
   "id": "933e5d2c",
   "metadata": {
    "id": "933e5d2c"
   },
   "outputs": [],
   "source": [
    "mydict1.pop('Job')  #  Removing  items  in  the  dictionary  using  Pop  method\n",
    "mydict1\n"
   ]
  },
  {
   "cell_type": "code",
   "execution_count": null,
   "id": "1c74596d",
   "metadata": {
    "id": "1c74596d"
   },
   "outputs": [],
   "source": [
    "mydict1.popitem() # A random item is removed"
   ]
  },
  {
   "cell_type": "code",
   "execution_count": null,
   "id": "53883e84",
   "metadata": {},
   "outputs": [],
   "source": [
    "mydict1"
   ]
  },
  {
   "cell_type": "code",
   "execution_count": 2,
   "id": "b67eea30",
   "metadata": {
    "id": "b67eea30"
   },
   "outputs": [
    {
     "data": {
      "text/plain": [
       "{'Name': 'Data', 'DOB': 1991, 'Address': 'Helsinki'}"
      ]
     },
     "execution_count": 2,
     "metadata": {},
     "output_type": "execute_result"
    }
   ],
   "source": [
    "del[mydict1['ID']] # Removing item using del method\n",
    "mydict1\n"
   ]
  },
  {
   "cell_type": "code",
   "execution_count": null,
   "id": "1f922949",
   "metadata": {
    "id": "1f922949"
   },
   "outputs": [],
   "source": [
    "mydict1.clear() # Delete all items of the dictionary using clear method\n",
    "mydict1\n"
   ]
  },
  {
   "cell_type": "code",
   "execution_count": null,
   "id": "299c42d9",
   "metadata": {
    "id": "299c42d9"
   },
   "outputs": [],
   "source": [
    "del mydict1 # Delete the dictionary object\n",
    "mydict1\n"
   ]
  }
 ],
 "metadata": {
  "colab": {
   "name": "Python Essentials-2.ipynb",
   "provenance": []
  },
  "kernelspec": {
   "display_name": "Python 3 (ipykernel)",
   "language": "python",
   "name": "python3"
  },
  "language_info": {
   "codemirror_mode": {
    "name": "ipython",
    "version": 3
   },
   "file_extension": ".py",
   "mimetype": "text/x-python",
   "name": "python",
   "nbconvert_exporter": "python",
   "pygments_lexer": "ipython3",
   "version": "3.9.12"
  }
 },
 "nbformat": 4,
 "nbformat_minor": 5
}
