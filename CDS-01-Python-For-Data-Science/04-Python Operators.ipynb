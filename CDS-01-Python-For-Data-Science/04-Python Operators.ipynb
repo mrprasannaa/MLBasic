{
 "cells": [
  {
   "cell_type": "markdown",
   "id": "7fc3c34e",
   "metadata": {
    "id": "7fc3c34e"
   },
   "source": [
    "# Python operators \n",
    "\n",
    "* Arithmetic operators\n",
    "* Assignment operators\n",
    "* Comparison operators\n",
    "* Logical operators\n"
   ]
  },
  {
   "cell_type": "code",
   "execution_count": null,
   "id": "88f2ee0b",
   "metadata": {
    "id": "88f2ee0b"
   },
   "outputs": [],
   "source": [
    "## + addition\n",
    "## - subtraction\n",
    "## /,//,% for division\n",
    "## * multiplication\n",
    "## ** power of "
   ]
  },
  {
   "cell_type": "markdown",
   "id": "e4cc174f",
   "metadata": {},
   "source": [
    "### Arithmetic Operators"
   ]
  },
  {
   "cell_type": "code",
   "execution_count": null,
   "id": "8dde1cd7",
   "metadata": {},
   "outputs": [],
   "source": [
    "intvar1= 5\n",
    "intvar2= 3\n",
    "intvar3 = 10\n",
    "intvar1 + intvar2 + intvar3 # Using + operator for addition"
   ]
  },
  {
   "cell_type": "code",
   "execution_count": null,
   "id": "f25398d5",
   "metadata": {},
   "outputs": [],
   "source": [
    "floatvar=5.2\n",
    "intvar1 +floatvar # auto typecasting"
   ]
  },
  {
   "cell_type": "code",
   "execution_count": null,
   "id": "1f85be28",
   "metadata": {},
   "outputs": [],
   "source": [
    "27 + 36 -180 + 270 + \\   # multiple line expression\n",
    "45 - 36\n"
   ]
  },
  {
   "cell_type": "code",
   "execution_count": null,
   "id": "da63f86f",
   "metadata": {},
   "outputs": [],
   "source": [
    "strvar1= \"Python\"\n",
    "\"5\" + \" Hello \" + strvar1  # string concatenation"
   ]
  },
  {
   "cell_type": "code",
   "execution_count": null,
   "id": "28a807ce",
   "metadata": {},
   "outputs": [],
   "source": [
    "# Subtraction\n",
    "strvar2=\"{} when subtracted from {} gives us {}\"\n",
    "print(strvar2.format(intvar2,intvar1,(intvar1 - intvar2)))"
   ]
  },
  {
   "cell_type": "code",
   "execution_count": null,
   "id": "b8e31044",
   "metadata": {
    "id": "b8e31044",
    "outputId": "998791a2-8882-4abb-fd5b-fb7c582f2e43"
   },
   "outputs": [],
   "source": [
    "## Multiplication\n",
    "a=5\n",
    "b=6\n",
    "c = a*b\n",
    "c"
   ]
  },
  {
   "cell_type": "code",
   "execution_count": null,
   "id": "0d7d4ec4",
   "metadata": {},
   "outputs": [],
   "source": [
    "c1=5.5*a\n",
    "print (c1)"
   ]
  },
  {
   "cell_type": "code",
   "execution_count": null,
   "id": "53ef855c",
   "metadata": {},
   "outputs": [],
   "source": [
    "print ('value of a: ',a)\n",
    "print ('value of b: ',b)\n",
    "print ('*'*40)\n",
    "print ('value of c1: ',c1)"
   ]
  },
  {
   "cell_type": "code",
   "execution_count": null,
   "id": "6fe5554e",
   "metadata": {
    "id": "6fe5554e"
   },
   "outputs": [],
   "source": [
    "strvar1*3"
   ]
  },
  {
   "cell_type": "code",
   "execution_count": null,
   "id": "e6598dfb",
   "metadata": {
    "id": "e6598dfb",
    "outputId": "f61f2176-adc0-4702-f965-3cb32167322d"
   },
   "outputs": [],
   "source": [
    "## division\n",
    "a=20\n",
    "b=3\n",
    "a/b ## when you want output to be float"
   ]
  },
  {
   "cell_type": "code",
   "execution_count": null,
   "id": "a5171bbf",
   "metadata": {},
   "outputs": [],
   "source": [
    "a//b"
   ]
  },
  {
   "cell_type": "code",
   "execution_count": null,
   "id": "eecd906c",
   "metadata": {
    "id": "eecd906c"
   },
   "outputs": [],
   "source": [
    "a=3\n",
    "b=2\n",
    "a/b"
   ]
  },
  {
   "cell_type": "code",
   "execution_count": null,
   "id": "cd9eb7d9",
   "metadata": {
    "id": "cd9eb7d9",
    "outputId": "753a65f6-d3be-4ce7-db58-671b59f9769a"
   },
   "outputs": [],
   "source": [
    "a//b ## it will do floor division"
   ]
  },
  {
   "cell_type": "code",
   "execution_count": null,
   "id": "99ed19bb",
   "metadata": {
    "id": "99ed19bb"
   },
   "outputs": [],
   "source": [
    "a=15\n",
    "b=3\n",
    "a//b"
   ]
  },
  {
   "cell_type": "code",
   "execution_count": null,
   "id": "07a69dbe",
   "metadata": {},
   "outputs": [],
   "source": [
    "intvar1/intvar2  # 5/3 division"
   ]
  },
  {
   "cell_type": "code",
   "execution_count": null,
   "id": "b4cb0c71",
   "metadata": {},
   "outputs": [],
   "source": [
    "intvar1//intvar2  # floor division"
   ]
  },
  {
   "cell_type": "code",
   "execution_count": null,
   "id": "d784777c",
   "metadata": {},
   "outputs": [],
   "source": [
    "a,b"
   ]
  },
  {
   "cell_type": "code",
   "execution_count": null,
   "id": "cfbcaaa1",
   "metadata": {
    "id": "cfbcaaa1",
    "outputId": "b5442c48-1ada-4600-9342-6a7ddbbe9a13"
   },
   "outputs": [],
   "source": [
    "# Modulo operator \n",
    "a%b ## when you want remainder of a/b"
   ]
  },
  {
   "cell_type": "code",
   "execution_count": null,
   "id": "0bd39426",
   "metadata": {
    "id": "0bd39426"
   },
   "outputs": [],
   "source": [
    "l=5\n",
    "b=3"
   ]
  },
  {
   "cell_type": "code",
   "execution_count": null,
   "id": "bab5eaef",
   "metadata": {
    "id": "bab5eaef",
    "scrolled": true
   },
   "outputs": [],
   "source": [
    "l/b"
   ]
  },
  {
   "cell_type": "code",
   "execution_count": null,
   "id": "f1d2bd2a",
   "metadata": {
    "id": "f1d2bd2a"
   },
   "outputs": [],
   "source": [
    "l%b"
   ]
  },
  {
   "cell_type": "code",
   "execution_count": null,
   "id": "f191a10c",
   "metadata": {
    "id": "f191a10c"
   },
   "outputs": [],
   "source": [
    "a=2\n",
    "b=5\n",
    "a*b"
   ]
  },
  {
   "cell_type": "code",
   "execution_count": null,
   "id": "4cef0c6e",
   "metadata": {},
   "outputs": [],
   "source": [
    "a**b  # Power operator"
   ]
  },
  {
   "cell_type": "code",
   "execution_count": null,
   "id": "27c8f91c",
   "metadata": {},
   "outputs": [],
   "source": [
    "2**25"
   ]
  },
  {
   "cell_type": "code",
   "execution_count": null,
   "id": "236a800c",
   "metadata": {
    "id": "236a800c",
    "outputId": "d2135247-75c7-4ba8-fb89-7b681c9e5c27"
   },
   "outputs": [],
   "source": [
    "a**5**2 ## a is raised to power of (5**2)"
   ]
  },
  {
   "cell_type": "code",
   "execution_count": null,
   "id": "c7a1444b",
   "metadata": {},
   "outputs": [],
   "source": [
    "b**2"
   ]
  },
  {
   "cell_type": "code",
   "execution_count": null,
   "id": "2ef3fc39",
   "metadata": {},
   "outputs": [],
   "source": [
    "# Using power operator, generate square root of 8\n",
    "var=8"
   ]
  },
  {
   "cell_type": "code",
   "execution_count": null,
   "id": "314e506d",
   "metadata": {},
   "outputs": [],
   "source": [
    "var**(0.5)"
   ]
  },
  {
   "cell_type": "markdown",
   "id": "429265b6",
   "metadata": {
    "id": "429265b6"
   },
   "source": [
    "## Arithmetic Operator"
   ]
  },
  {
   "cell_type": "code",
   "execution_count": null,
   "id": "5943fe0b",
   "metadata": {},
   "outputs": [],
   "source": [
    "b=0  # b is initialized\n",
    "b"
   ]
  },
  {
   "cell_type": "code",
   "execution_count": null,
   "id": "e3b8b908",
   "metadata": {},
   "outputs": [],
   "source": [
    "b = b+1  # overwriting b"
   ]
  },
  {
   "cell_type": "code",
   "execution_count": null,
   "id": "4828f906",
   "metadata": {
    "id": "4828f906"
   },
   "outputs": [],
   "source": [
    "# Replacing value of variable x \n",
    "'='  x = 5   # x = 5 assignment of value to variable\n",
    "'+=' x += 3  # x = x + 3\n",
    "-= x -= 3  # x = x - 3\n",
    "*= x *= 3 # x = x * 3\n",
    "/= x /= 3  # x = x / 3\n",
    "%= x %= 3 # x = x % 3\n",
    "//= x //= 3 # x = x // 3\n",
    "**= x **= 3 # x = x ** 3"
   ]
  },
  {
   "cell_type": "markdown",
   "id": "8b119a1e",
   "metadata": {
    "id": "8b119a1e"
   },
   "source": [
    "## Comparison operator"
   ]
  },
  {
   "cell_type": "code",
   "execution_count": null,
   "id": "9bbb191c",
   "metadata": {
    "id": "f91900cf",
    "outputId": "4d9f3b7a-75ff-41f3-f815-a5e9ede0a851"
   },
   "outputs": [],
   "source": [
    "x=2\n",
    "y=3\n",
    "x<y"
   ]
  },
  {
   "cell_type": "code",
   "execution_count": null,
   "id": "2d4f5b06",
   "metadata": {},
   "outputs": [],
   "source": [
    "x!=y #checks for inequality"
   ]
  },
  {
   "cell_type": "code",
   "execution_count": null,
   "id": "6fe48e94",
   "metadata": {
    "id": "6fe48e94"
   },
   "outputs": [],
   "source": [
    "\n",
    "==\tEqual\tx == y\n",
    "!=\tNot equal\tx != y\n",
    ">\tGreater than\tx > y\n",
    "<\tLess than\tx < y\n",
    ">=\tGreater than or equal to x >= y\n",
    "<=\tLess than or equal to x <= y"
   ]
  },
  {
   "cell_type": "markdown",
   "id": "7e9baf4d",
   "metadata": {
    "id": "7e9baf4d"
   },
   "source": [
    "## Logical Operator"
   ]
  },
  {
   "cell_type": "code",
   "execution_count": null,
   "id": "9a2f05b4",
   "metadata": {
    "id": "9a2f05b4"
   },
   "outputs": [],
   "source": [
    "and or not "
   ]
  },
  {
   "cell_type": "code",
   "execution_count": 2,
   "id": "49800bcf",
   "metadata": {
    "id": "49800bcf",
    "outputId": "e53f0293-a5c7-4373-ee58-15c3914aef63"
   },
   "outputs": [
    {
     "data": {
      "text/plain": [
       "False"
      ]
     },
     "execution_count": 2,
     "metadata": {},
     "output_type": "execute_result"
    }
   ],
   "source": [
    "x=7\n",
    "x <= 5 and  x < 10  # checks for both conditions; \n",
    "# True if both conditions are met"
   ]
  },
  {
   "cell_type": "code",
   "execution_count": 4,
   "id": "ce1125d8",
   "metadata": {
    "id": "49800bcf",
    "outputId": "e53f0293-a5c7-4373-ee58-15c3914aef63"
   },
   "outputs": [
    {
     "data": {
      "text/plain": [
       "True"
      ]
     },
     "execution_count": 4,
     "metadata": {},
     "output_type": "execute_result"
    }
   ],
   "source": [
    "x=8\n",
    "x <= 5 or  x < 10 # True if at least one expression is true"
   ]
  },
  {
   "cell_type": "code",
   "execution_count": null,
   "id": "38afd045",
   "metadata": {
    "id": "49800bcf",
    "outputId": "e53f0293-a5c7-4373-ee58-15c3914aef63"
   },
   "outputs": [],
   "source": [
    "x=6\n",
    "x <= 5 and  x < 10"
   ]
  },
  {
   "cell_type": "code",
   "execution_count": null,
   "id": "de9b7de0",
   "metadata": {
    "id": "de9b7de0",
    "outputId": "2634f800-df94-4abd-c2ee-85875e70504e",
    "scrolled": true
   },
   "outputs": [],
   "source": [
    "x < 5 or x < 4  # True if one of the conditions is met"
   ]
  },
  {
   "cell_type": "code",
   "execution_count": null,
   "id": "cbb3ea69",
   "metadata": {},
   "outputs": [],
   "source": []
  },
  {
   "cell_type": "code",
   "execution_count": null,
   "id": "b1380885",
   "metadata": {},
   "outputs": [],
   "source": []
  },
  {
   "cell_type": "code",
   "execution_count": 5,
   "id": "750b5180",
   "metadata": {},
   "outputs": [],
   "source": [
    "x=4.5"
   ]
  },
  {
   "cell_type": "code",
   "execution_count": null,
   "id": "af378d98",
   "metadata": {
    "id": "af378d98",
    "outputId": "311ce861-c25c-4eff-f7ee-161e5c83844e"
   },
   "outputs": [],
   "source": [
    "not(x < 5 and x < 10)"
   ]
  },
  {
   "cell_type": "code",
   "execution_count": 6,
   "id": "13c2ef1a",
   "metadata": {},
   "outputs": [
    {
     "data": {
      "text/plain": [
       "False"
      ]
     },
     "execution_count": 6,
     "metadata": {},
     "output_type": "execute_result"
    }
   ],
   "source": [
    "not (x<5 or x<4)"
   ]
  },
  {
   "cell_type": "code",
   "execution_count": 7,
   "id": "7ff0dde2",
   "metadata": {},
   "outputs": [
    {
     "data": {
      "text/plain": [
       "True"
      ]
     },
     "execution_count": 7,
     "metadata": {},
     "output_type": "execute_result"
    }
   ],
   "source": [
    "not (8<4)"
   ]
  },
  {
   "cell_type": "markdown",
   "id": "73ed157e",
   "metadata": {
    "id": "73ed157e"
   },
   "source": [
    "## Python Identity Operators"
   ]
  },
  {
   "cell_type": "code",
   "execution_count": null,
   "id": "02e54c76",
   "metadata": {
    "id": "02e54c76"
   },
   "outputs": [],
   "source": [
    "is and is not"
   ]
  },
  {
   "cell_type": "code",
   "execution_count": 20,
   "id": "cbc4e41a",
   "metadata": {
    "id": "cbc4e41a",
    "outputId": "2f34e0d3-df6e-4a41-b0fe-ca763f33c24f"
   },
   "outputs": [
    {
     "data": {
      "text/plain": [
       "True"
      ]
     },
     "execution_count": 20,
     "metadata": {},
     "output_type": "execute_result"
    }
   ],
   "source": [
    "# Returns True if both variables are the same object\n",
    "x=2\n",
    "y=2\n",
    "x is y"
   ]
  },
  {
   "cell_type": "code",
   "execution_count": 12,
   "id": "5f539f19",
   "metadata": {},
   "outputs": [
    {
     "data": {
      "text/plain": [
       "True"
      ]
     },
     "execution_count": 12,
     "metadata": {},
     "output_type": "execute_result"
    }
   ],
   "source": [
    "2.0==2"
   ]
  },
  {
   "cell_type": "code",
   "execution_count": 15,
   "id": "f7f39f6d",
   "metadata": {},
   "outputs": [
    {
     "data": {
      "text/plain": [
       "True"
      ]
     },
     "execution_count": 15,
     "metadata": {},
     "output_type": "execute_result"
    }
   ],
   "source": [
    "x is not y "
   ]
  },
  {
   "cell_type": "code",
   "execution_count": null,
   "id": "63dbc120",
   "metadata": {},
   "outputs": [],
   "source": [
    "not (x is y)"
   ]
  },
  {
   "cell_type": "code",
   "execution_count": null,
   "id": "0943c7d1",
   "metadata": {
    "id": "0943c7d1",
    "outputId": "3e7c94a5-09d5-48a7-9a92-16acce428bb3",
    "scrolled": true
   },
   "outputs": [],
   "source": [
    "# Returns True if both variables are not the same object\n",
    "x=2\n",
    "y=5\n",
    "x is not y"
   ]
  },
  {
   "cell_type": "markdown",
   "id": "3c7f307e",
   "metadata": {
    "id": "3c7f307e"
   },
   "source": [
    "## Python Membership Operators"
   ]
  },
  {
   "cell_type": "code",
   "execution_count": null,
   "id": "be39841f",
   "metadata": {
    "id": "be39841f"
   },
   "outputs": [],
   "source": [
    "in and not in"
   ]
  },
  {
   "cell_type": "code",
   "execution_count": 21,
   "id": "05b2b0f7",
   "metadata": {
    "id": "05b2b0f7",
    "outputId": "ff0f89ff-6e10-43a8-981c-d3007aba317f"
   },
   "outputs": [
    {
     "data": {
      "text/plain": [
       "True"
      ]
     },
     "execution_count": 21,
     "metadata": {},
     "output_type": "execute_result"
    }
   ],
   "source": [
    "# in -Returns True if a sequence with the specified value\n",
    "# is present in the object\n",
    "x=[1,2,3]\n",
    "1 in x"
   ]
  },
  {
   "cell_type": "code",
   "execution_count": 23,
   "id": "e08f5b2e",
   "metadata": {
    "id": "e08f5b2e",
    "outputId": "fbcead6a-cfa1-4598-9665-5abe45e123bd"
   },
   "outputs": [
    {
     "data": {
      "text/plain": [
       "False"
      ]
     },
     "execution_count": 23,
     "metadata": {},
     "output_type": "execute_result"
    }
   ],
   "source": [
    "# Returns True if a sequence with the specified value is not present in the object\n",
    "3 not in x"
   ]
  },
  {
   "cell_type": "code",
   "execution_count": 24,
   "id": "876e056a",
   "metadata": {},
   "outputs": [
    {
     "data": {
      "text/plain": [
       "True"
      ]
     },
     "execution_count": 24,
     "metadata": {},
     "output_type": "execute_result"
    }
   ],
   "source": [
    "strvar = 'Python as a language'\n",
    "'lang' in strvar  # string membership"
   ]
  },
  {
   "cell_type": "code",
   "execution_count": 27,
   "id": "6e774cdc",
   "metadata": {},
   "outputs": [
    {
     "data": {
      "text/plain": [
       "True"
      ]
     },
     "execution_count": 27,
     "metadata": {},
     "output_type": "execute_result"
    }
   ],
   "source": [
    "new= 'Java'\n",
    "new not in strvar"
   ]
  },
  {
   "cell_type": "code",
   "execution_count": null,
   "id": "3ad7aab4",
   "metadata": {},
   "outputs": [],
   "source": []
  }
 ],
 "metadata": {
  "colab": {
   "provenance": []
  },
  "kernelspec": {
   "display_name": "Python 3 (ipykernel)",
   "language": "python",
   "name": "python3"
  },
  "language_info": {
   "codemirror_mode": {
    "name": "ipython",
    "version": 3
   },
   "file_extension": ".py",
   "mimetype": "text/x-python",
   "name": "python",
   "nbconvert_exporter": "python",
   "pygments_lexer": "ipython3",
   "version": "3.9.12"
  }
 },
 "nbformat": 4,
 "nbformat_minor": 5
}
